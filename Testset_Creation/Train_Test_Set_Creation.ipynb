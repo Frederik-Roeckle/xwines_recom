{
 "cells": [
  {
   "cell_type": "code",
   "execution_count": 1,
   "id": "39090194-cfe5-41ed-9c86-aa0ad505c946",
   "metadata": {},
   "outputs": [],
   "source": [
    "import pandas as pd\n",
    "import numpy as np\n",
    "import matplotlib.pyplot as plt\n",
    "from collections import defaultdict\n",
    "import random"
   ]
  },
  {
   "cell_type": "code",
   "execution_count": 2,
   "id": "ac8e3e7b-1ff4-4b27-bb6e-479a41e80e4c",
   "metadata": {},
   "outputs": [],
   "source": [
    "np.random.seed(42)\n",
    "random.seed(42)"
   ]
  },
  {
   "cell_type": "markdown",
   "id": "9d646de4-7148-4f63-9966-fd37063e39a0",
   "metadata": {},
   "source": [
    "# WORK IN PROGRESS! NOT READY FOR USE YET"
   ]
  },
  {
   "cell_type": "markdown",
   "id": "298e9a27-f8da-4ca4-a3c2-509bd52d71ef",
   "metadata": {},
   "source": [
    "# Creation of Train and Test Set\n",
    "\n",
    "As the dataset at the moment is not splitted at all, we need a dedicated train and testset.\n",
    "\n",
    "This notebook lead through the process of creating such a split and can be used to transform the originial dataset in our training and test sets.\n",
    "\n",
    "There are multiple key factors to consider when creating a testset:\n",
    "- Temporal drift\n",
    "- Cold-Start problem\n",
    "- Distribution similarity\n",
    "\n",
    "## Temporal drift\n",
    "Over time there will most likely happen a concept drift leading to different distributions. To predict a value you look into the past. You dont predict a value of the past with the knowledge of the future as this would led to some kind of data leakage.\n",
    "\n",
    "## Cold-Start problem\n",
    "This is one of the most central aspects a recommender system has to deal with. The cold start problem referes to the fact if a user/item is already known at training time or is first introduced at test time.\n",
    "We have the following 4 cases we want to cover extensively in order to have a full diagnostic view about our model performance.\n",
    "- Hot/Hot (Known User/ Known Wine) -> Standard case\n",
    "- Hot/Cold (Known User/ New Wine) -> A new wine is introduced\n",
    "- Cold/Hot (New User/ Known Wine) -> New user get some Wine recommendations\n",
    "- Cold/Cold (New User/ New Wine) -> most challenging case, first time user sees a brand new wine\n",
    "\n",
    "\n",
    "## Distribution similarity"
   ]
  },
  {
   "cell_type": "code",
   "execution_count": 3,
   "id": "8da0c168-0738-48ba-a82a-9cb830b30786",
   "metadata": {},
   "outputs": [
    {
     "name": "stderr",
     "output_type": "stream",
     "text": [
      "C:\\Users\\frede\\AppData\\Local\\Temp\\ipykernel_21624\\3958815110.py:1: DtypeWarning: Columns (3) have mixed types. Specify dtype option on import or set low_memory=False.\n",
      "  df_reviews = pd.read_csv(r\"../../All-XWines_Full_100K_wines_21M_ratings/XWines_Full_21M_ratings.csv\")\n"
     ]
    }
   ],
   "source": [
    "df_reviews = pd.read_csv(r\"../../All-XWines_Full_100K_wines_21M_ratings/XWines_Full_21M_ratings.csv\")"
   ]
  },
  {
   "cell_type": "code",
   "execution_count": 4,
   "id": "938524dc-daef-4a5b-87f4-dba5e833063c",
   "metadata": {},
   "outputs": [],
   "source": [
    "df_reviews[\"Date\"] = pd.to_datetime(df_reviews[\"Date\"])"
   ]
  },
  {
   "cell_type": "code",
   "execution_count": 5,
   "id": "0c5e350c-d965-4015-b3ef-ea96d6e25945",
   "metadata": {},
   "outputs": [],
   "source": [
    "df_reviews = df_reviews.sort_values(\"Date\")"
   ]
  },
  {
   "cell_type": "code",
   "execution_count": 6,
   "id": "fcdd832f-bda3-4f31-b5d1-3dbf747a37e3",
   "metadata": {},
   "outputs": [
    {
     "data": {
      "text/html": [
       "<div>\n",
       "<style scoped>\n",
       "    .dataframe tbody tr th:only-of-type {\n",
       "        vertical-align: middle;\n",
       "    }\n",
       "\n",
       "    .dataframe tbody tr th {\n",
       "        vertical-align: top;\n",
       "    }\n",
       "\n",
       "    .dataframe thead th {\n",
       "        text-align: right;\n",
       "    }\n",
       "</style>\n",
       "<table border=\"1\" class=\"dataframe\">\n",
       "  <thead>\n",
       "    <tr style=\"text-align: right;\">\n",
       "      <th></th>\n",
       "      <th>RatingID</th>\n",
       "      <th>UserID</th>\n",
       "      <th>WineID</th>\n",
       "      <th>Vintage</th>\n",
       "      <th>Rating</th>\n",
       "      <th>Date</th>\n",
       "    </tr>\n",
       "  </thead>\n",
       "  <tbody>\n",
       "    <tr>\n",
       "      <th>838057</th>\n",
       "      <td>838058</td>\n",
       "      <td>1395486</td>\n",
       "      <td>136168</td>\n",
       "      <td>2005</td>\n",
       "      <td>2.0</td>\n",
       "      <td>2012-01-03 08:20:53</td>\n",
       "    </tr>\n",
       "    <tr>\n",
       "      <th>1582521</th>\n",
       "      <td>1582522</td>\n",
       "      <td>1395486</td>\n",
       "      <td>174565</td>\n",
       "      <td>2008</td>\n",
       "      <td>4.0</td>\n",
       "      <td>2012-01-03 08:27:03</td>\n",
       "    </tr>\n",
       "    <tr>\n",
       "      <th>1578306</th>\n",
       "      <td>1578307</td>\n",
       "      <td>1385968</td>\n",
       "      <td>165088</td>\n",
       "      <td>2008</td>\n",
       "      <td>1.0</td>\n",
       "      <td>2012-01-04 10:34:12</td>\n",
       "    </tr>\n",
       "    <tr>\n",
       "      <th>725564</th>\n",
       "      <td>725565</td>\n",
       "      <td>1576414</td>\n",
       "      <td>136365</td>\n",
       "      <td>2004</td>\n",
       "      <td>4.0</td>\n",
       "      <td>2012-01-07 14:18:01</td>\n",
       "    </tr>\n",
       "    <tr>\n",
       "      <th>2985506</th>\n",
       "      <td>2985507</td>\n",
       "      <td>1177579</td>\n",
       "      <td>114749</td>\n",
       "      <td>2010</td>\n",
       "      <td>3.0</td>\n",
       "      <td>2012-01-11 15:01:43</td>\n",
       "    </tr>\n",
       "    <tr>\n",
       "      <th>1392601</th>\n",
       "      <td>1392602</td>\n",
       "      <td>1187471</td>\n",
       "      <td>174257</td>\n",
       "      <td>2007</td>\n",
       "      <td>4.0</td>\n",
       "      <td>2012-01-11 17:51:49</td>\n",
       "    </tr>\n",
       "    <tr>\n",
       "      <th>1578604</th>\n",
       "      <td>1578605</td>\n",
       "      <td>1855030</td>\n",
       "      <td>115399</td>\n",
       "      <td>2008</td>\n",
       "      <td>4.0</td>\n",
       "      <td>2012-01-14 13:41:43</td>\n",
       "    </tr>\n",
       "    <tr>\n",
       "      <th>2080735</th>\n",
       "      <td>2080736</td>\n",
       "      <td>1855030</td>\n",
       "      <td>117018</td>\n",
       "      <td>2009</td>\n",
       "      <td>4.0</td>\n",
       "      <td>2012-01-14 13:42:47</td>\n",
       "    </tr>\n",
       "    <tr>\n",
       "      <th>302652</th>\n",
       "      <td>302653</td>\n",
       "      <td>1785135</td>\n",
       "      <td>111511</td>\n",
       "      <td>1998</td>\n",
       "      <td>4.0</td>\n",
       "      <td>2012-01-14 15:54:09</td>\n",
       "    </tr>\n",
       "    <tr>\n",
       "      <th>1579771</th>\n",
       "      <td>1579772</td>\n",
       "      <td>1193574</td>\n",
       "      <td>136595</td>\n",
       "      <td>2008</td>\n",
       "      <td>5.0</td>\n",
       "      <td>2012-01-14 16:15:04</td>\n",
       "    </tr>\n",
       "  </tbody>\n",
       "</table>\n",
       "</div>"
      ],
      "text/plain": [
       "         RatingID   UserID  WineID Vintage  Rating                Date\n",
       "838057     838058  1395486  136168    2005     2.0 2012-01-03 08:20:53\n",
       "1582521   1582522  1395486  174565    2008     4.0 2012-01-03 08:27:03\n",
       "1578306   1578307  1385968  165088    2008     1.0 2012-01-04 10:34:12\n",
       "725564     725565  1576414  136365    2004     4.0 2012-01-07 14:18:01\n",
       "2985506   2985507  1177579  114749    2010     3.0 2012-01-11 15:01:43\n",
       "1392601   1392602  1187471  174257    2007     4.0 2012-01-11 17:51:49\n",
       "1578604   1578605  1855030  115399    2008     4.0 2012-01-14 13:41:43\n",
       "2080735   2080736  1855030  117018    2009     4.0 2012-01-14 13:42:47\n",
       "302652     302653  1785135  111511    1998     4.0 2012-01-14 15:54:09\n",
       "1579771   1579772  1193574  136595    2008     5.0 2012-01-14 16:15:04"
      ]
     },
     "execution_count": 6,
     "metadata": {},
     "output_type": "execute_result"
    }
   ],
   "source": [
    "df_reviews.head(10)"
   ]
  },
  {
   "cell_type": "code",
   "execution_count": 7,
   "id": "891fa67b-fcb7-4605-82bb-546664034a41",
   "metadata": {},
   "outputs": [
    {
     "name": "stdout",
     "output_type": "stream",
     "text": [
      "Size of all reviews: 21013536\n",
      "Size of train set: 16810828\n",
      "Size of test set: 4202708 making it 20.00000380706988 %\n"
     ]
    }
   ],
   "source": [
    "# create a 80/20 temporal split\n",
    "split_ratio = 0.80\n",
    "split_index = int(len(df_reviews) * split_ratio)\n",
    "df_reviews_train = df_reviews.iloc[:split_index]\n",
    "df_reviews_test = df_reviews.iloc[split_index:]\n",
    "print(f\"Size of all reviews: {len(df_reviews)}\")\n",
    "print(f\"Size of train set: {len(df_reviews_train)}\")\n",
    "print(f\"Size of test set: {len(df_reviews_test)} making it {(len(df_reviews_test) / (len(df_reviews_test) + len(df_reviews_train)))*100} %\")"
   ]
  },
  {
   "cell_type": "code",
   "execution_count": 8,
   "id": "5208945f-9b46-48ea-bd28-c6cf55473c24",
   "metadata": {},
   "outputs": [
    {
     "name": "stdout",
     "output_type": "stream",
     "text": [
      "There are 997072 unique users in the train set. Making it 94.41263390333489% of all users\n",
      "There are 99325 unique wines in the train set. Making it 98.6874788863939% of all wines\n"
     ]
    }
   ],
   "source": [
    "# unique wines and users in train set\n",
    "u_users_train = set(df_reviews_train[\"UserID\"])\n",
    "u_wines_train = set(df_reviews_train[\"WineID\"])\n",
    "u_users_total = set(df_reviews[\"UserID\"])\n",
    "u_wines_total = set(df_reviews[\"WineID\"])\n",
    "print(f\"There are {len(u_users_train)} unique users in the train set. Making it {(len(u_users_train) / len(u_users_total)) * 100}% of all users\")\n",
    "print(f\"There are {len(u_wines_train)} unique wines in the train set. Making it {(len(u_wines_train) / len(u_wines_total)) * 100}% of all wines\")"
   ]
  },
  {
   "cell_type": "code",
   "execution_count": 9,
   "id": "e267b9b6-77b7-479f-82f2-ac71a6eaff73",
   "metadata": {},
   "outputs": [],
   "source": [
    "# split_test_data -> split test data into 4 different subsets\n",
    "def split_test_data(df):\n",
    "    segment = defaultdict(list)\n",
    "    for _, row in df.iterrows():\n",
    "        uid, iid = row['UserID'], row['WineID']\n",
    "        if uid in u_users_train and iid in u_wines_train:\n",
    "            segment['warm_user_warm_item'].append(row)\n",
    "        elif uid not in u_users_train and iid in u_wines_train:\n",
    "            segment['cold_user'].append(row)\n",
    "        elif uid in u_users_train and iid not in u_wines_train:\n",
    "            segment['cold_item'].append(row)\n",
    "        else:\n",
    "            segment['cold_user_cold_item'].append(row)\n",
    "    return {k: pd.DataFrame(v) for k, v in segment.items()}\n",
    "\n",
    "test_segments = split_test_data(df_reviews_test)"
   ]
  },
  {
   "cell_type": "code",
   "execution_count": 10,
   "id": "9d3c66bb-8ce1-4330-a838-183e5d87386b",
   "metadata": {},
   "outputs": [],
   "source": [
    "def describe_test_set(df_segment, df_train, name=\"Segment\"):\n",
    "    print(f\"{name.upper()} — Test Set Description\")\n",
    "    print(f\"Size: {len(df_segment):,}\")\n",
    "    print(f\"Unique users: {df_segment['UserID'].nunique():,}\")\n",
    "    print(f\"Unique wines: {df_segment['WineID'].nunique():,}\")\n",
    "    \n",
    "    train_users = set(df_train['UserID'])\n",
    "    train_items = set(df_train['WineID'])\n",
    "    \n",
    "    cold_users = set(df_segment['UserID']) - train_users\n",
    "    cold_items = set(df_segment['WineID']) - train_items\n",
    "    \n",
    "    print(f\"% Cold users: {len(cold_users) / df_segment['UserID'].nunique():.1%}\")\n",
    "    print(f\"% Cold items: {len(cold_items) / df_segment['WineID'].nunique():.1%}\")\n",
    "    print(\"\\nRating stats:\", df_segment['Rating'].describe())\n",
    "    print(\"\\nUser review counts (mean ± std):\", df_segment.groupby('UserID').size().agg(['mean', 'std']))\n",
    "    print(\"Wine review counts (mean ± std):\", df_segment.groupby('WineID').size().agg(['mean', 'std']))\n",
    "    print(\"Temporal range:\", df_segment['Date'].min(), \"→\", df_segment['Date'].max())\n"
   ]
  },
  {
   "cell_type": "code",
   "execution_count": 11,
   "id": "9f32543c-2adc-4a12-8892-013188871691",
   "metadata": {
    "scrolled": true
   },
   "outputs": [
    {
     "name": "stdout",
     "output_type": "stream",
     "text": [
      "HOT USER : HOT WINE — Test Set Description\n",
      "Size: 3,536,778\n",
      "Unique users: 543,869\n",
      "Unique wines: 88,263\n",
      "% Cold users: 0.0%\n",
      "% Cold items: 0.0%\n",
      "\n",
      "Rating stats: count    3.536778e+06\n",
      "mean     4.007587e+00\n",
      "std      6.738004e-01\n",
      "min      1.000000e+00\n",
      "25%      3.500000e+00\n",
      "50%      4.000000e+00\n",
      "75%      4.500000e+00\n",
      "max      5.000000e+00\n",
      "Name: Rating, dtype: float64\n",
      "\n",
      "User review counts (mean ± std): mean     6.502996\n",
      "std     12.547336\n",
      "dtype: float64\n",
      "Wine review counts (mean ± std): mean     40.070902\n",
      "std     108.744318\n",
      "dtype: float64\n",
      "Temporal range: 2020-11-13 18:19:41 → 2021-12-31 23:59:56\n"
     ]
    }
   ],
   "source": [
    "describe_test_set(test_segments[\"warm_user_warm_item\"], df_reviews_train, name=\"Hot User : Hot Wine\")"
   ]
  },
  {
   "cell_type": "code",
   "execution_count": 12,
   "id": "ec2ce63a-66a7-441f-964b-5e4ef1d819e8",
   "metadata": {
    "scrolled": true
   },
   "outputs": [
    {
     "name": "stdout",
     "output_type": "stream",
     "text": [
      "COLD USER : HOT WINE — Test Set Description\n",
      "Size: 624,842\n",
      "Unique users: 59,007\n",
      "Unique wines: 63,676\n",
      "% Cold users: 100.0%\n",
      "% Cold items: 0.0%\n",
      "\n",
      "Rating stats: count    624842.000000\n",
      "mean          3.903239\n",
      "std           0.754119\n",
      "min           1.000000\n",
      "25%           3.500000\n",
      "50%           4.000000\n",
      "75%           4.500000\n",
      "max           5.000000\n",
      "Name: Rating, dtype: float64\n",
      "\n",
      "User review counts (mean ± std): mean    10.589286\n",
      "std     10.220943\n",
      "dtype: float64\n",
      "Wine review counts (mean ± std): mean     9.812834\n",
      "std     25.899012\n",
      "dtype: float64\n",
      "Temporal range: 2020-11-13 18:23:20 → 2021-12-31 23:59:27\n"
     ]
    }
   ],
   "source": [
    "describe_test_set(test_segments[\"cold_user\"], df_reviews_train, name=\"Cold User : Hot Wine\")"
   ]
  },
  {
   "cell_type": "code",
   "execution_count": 13,
   "id": "ee4ed93c-7e0d-439e-88e4-49c8023ef39c",
   "metadata": {
    "scrolled": true
   },
   "outputs": [
    {
     "name": "stdout",
     "output_type": "stream",
     "text": [
      "HOT USER : COLD WINE — Test Set Description\n",
      "Size: 35,456\n",
      "Unique users: 27,729\n",
      "Unique wines: 1,321\n",
      "% Cold users: 0.0%\n",
      "% Cold items: 100.0%\n",
      "\n",
      "Rating stats: count    35456.000000\n",
      "mean         3.865947\n",
      "std          0.685216\n",
      "min          1.000000\n",
      "25%          3.500000\n",
      "50%          4.000000\n",
      "75%          4.000000\n",
      "max          5.000000\n",
      "Name: Rating, dtype: float64\n",
      "\n",
      "User review counts (mean ± std): mean    1.278661\n",
      "std     0.782587\n",
      "dtype: float64\n",
      "Wine review counts (mean ± std): mean    26.840273\n",
      "std     60.861338\n",
      "dtype: float64\n",
      "Temporal range: 2020-11-13 21:54:40 → 2021-12-31 23:56:15\n"
     ]
    }
   ],
   "source": [
    "describe_test_set(test_segments[\"cold_item\"], df_reviews_train, name=\"Hot User : Cold Wine\")"
   ]
  },
  {
   "cell_type": "code",
   "execution_count": 14,
   "id": "629ebf9b-6945-4cab-b644-80b37a2be27c",
   "metadata": {
    "scrolled": true
   },
   "outputs": [
    {
     "name": "stdout",
     "output_type": "stream",
     "text": [
      "COLD USER : COLD WINE — Test Set Description\n",
      "Size: 5,632\n",
      "Unique users: 4,768\n",
      "Unique wines: 1,015\n",
      "% Cold users: 100.0%\n",
      "% Cold items: 100.0%\n",
      "\n",
      "Rating stats: count    5632.000000\n",
      "mean        3.851296\n",
      "std         0.761721\n",
      "min         1.000000\n",
      "25%         3.500000\n",
      "50%         4.000000\n",
      "75%         4.000000\n",
      "max         5.000000\n",
      "Name: Rating, dtype: float64\n",
      "\n",
      "User review counts (mean ± std): mean    1.181208\n",
      "std     0.539491\n",
      "dtype: float64\n",
      "Wine review counts (mean ± std): mean     5.548768\n",
      "std     12.935866\n",
      "dtype: float64\n",
      "Temporal range: 2020-11-14 17:40:06 → 2021-12-31 23:42:53\n"
     ]
    }
   ],
   "source": [
    "describe_test_set(test_segments[\"cold_user_cold_item\"], df_reviews_train, name=\"Cold User : Cold Wine\")"
   ]
  },
  {
   "cell_type": "markdown",
   "id": "18ce19aa-e69c-412a-94b6-317890d702f6",
   "metadata": {},
   "source": [
    "#### Updated Cold/Cold case due to data leakage from cold/hot back to train set"
   ]
  },
  {
   "cell_type": "markdown",
   "id": "899d6eda-a91f-4863-98d7-faacda4d0061",
   "metadata": {},
   "source": [
    "### Separate handling of user cold start cases\n",
    "\n",
    "A real cold user cold start case cannot be handled by the model as there is no contextual or similiarity information about the user. We therefore adapt a low-data cold start scenario for the users. Meaning that a \"cold\" user is seen with a very small amount of reviews in the train set.\n",
    "\n",
    "\n",
    "The idea is to select the `test_segments[\"cold_user\"]` set, sort it temporal and then pop two reviews per user and lead it back to the train set. Then each of the previous completly unknown user becomes a low-data cold start user with $n=2$ instead of $n=0$ at training time. This gives the models the ability to predict a good rating instead of completly relying on prediciting the average value for a given wine.\n",
    "\n",
    "Need to pay attentention that when a review is sent back to the train set that it not leads to a data leakage to the other test segments"
   ]
  },
  {
   "cell_type": "code",
   "execution_count": 15,
   "id": "5efd0706-dd09-434a-b786-39857a7ab9aa",
   "metadata": {},
   "outputs": [],
   "source": [
    "copy_cold_users = test_segments[\"cold_user\"].copy()\n",
    "# for each distinct user select the two earliest reviews. Remove it from the test set and play it back to the train set\n",
    "\n",
    "# each user has to have at least 3 reviews in the set to remove two and to make sense of it\n",
    "cold_user_ratings = copy_cold_users.UserID.value_counts()\n",
    "\n",
    "# remove all users with more than 50 ratings as they are not cold users in particular \n",
    "#-> When the userid is not in the cold/cold dataset the user can be played back to the train set???\n",
    "\n",
    "\n",
    "# remove all users with less than 3 wines -> Discard as they might then lead to data leakage for the other test segments.\n",
    "users_with_3_reviews_more = cold_user_ratings.loc[cold_user_ratings > 3].index.to_list()\n",
    "copy_cold_users = copy_cold_users[test_segments[\"cold_user\"].UserID.isin(users_with_3_reviews_more)]\n",
    "\n",
    "# drop the first 2 reviews per user and add them back to the train set\n",
    "def split_group(group):\n",
    "    sorted_group = group.sort_values('Date')\n",
    "    return sorted_group.iloc[:2], sorted_group.iloc[2:]\n",
    "\n",
    "dropped_list = []\n",
    "retained_list = []\n",
    "\n",
    "for _, group in copy_cold_users.groupby('UserID'):\n",
    "    dropped, retained = split_group(group)\n",
    "    dropped_list.append(dropped)\n",
    "    retained_list.append(retained)\n",
    "\n",
    "# add dropped reviews as low-data to the train set and the rest keep in the train set\n",
    "dropped_df = pd.concat(dropped_list).reset_index(drop=True)\n",
    "df_reviews_train = pd.concat([df_reviews_train, dropped_df])\n",
    "copy_cold_users = pd.concat(retained_list).reset_index(drop=True)\n",
    "\n",
    "# Merge the copy back into the original\n",
    "test_segments[\"cold_user\"] = copy_cold_users"
   ]
  },
  {
   "cell_type": "code",
   "execution_count": 16,
   "id": "f244e31a-9eff-47d3-851b-ee4b2482caef",
   "metadata": {
    "scrolled": true
   },
   "outputs": [
    {
     "name": "stdout",
     "output_type": "stream",
     "text": [
      "UPDATED COLD USER : HOT WINE — Test Set Description\n",
      "Size: 506,800\n",
      "Unique users: 58,969\n",
      "Unique wines: 60,449\n",
      "% Cold users: 0.0%\n",
      "% Cold items: 0.0%\n",
      "\n",
      "Rating stats: count    506800.000000\n",
      "mean          3.903564\n",
      "std           0.742087\n",
      "min           1.000000\n",
      "25%           3.500000\n",
      "50%           4.000000\n",
      "75%           4.500000\n",
      "max           5.000000\n",
      "Name: Rating, dtype: float64\n",
      "\n",
      "User review counts (mean ± std): mean     8.594346\n",
      "std     10.222283\n",
      "dtype: float64\n",
      "Wine review counts (mean ± std): mean     8.383927\n",
      "std     21.096130\n",
      "dtype: float64\n",
      "Temporal range: 2020-11-13 19:15:18 → 2021-12-31 23:59:27\n"
     ]
    }
   ],
   "source": [
    "describe_test_set(test_segments[\"cold_user\"], df_reviews_train, name=\"Updated Cold User : Hot Wine\")"
   ]
  },
  {
   "cell_type": "code",
   "execution_count": 17,
   "id": "260d5677-8d79-4ab5-9cf4-7ce6cc062566",
   "metadata": {
    "scrolled": true
   },
   "outputs": [
    {
     "name": "stdout",
     "output_type": "stream",
     "text": [
      "UPDATED COLD USER : COLD WINE — Test Set Description\n",
      "Size: 5,632\n",
      "Unique users: 4,768\n",
      "Unique wines: 1,015\n",
      "% Cold users: 0.8%\n",
      "% Cold items: 100.0%\n",
      "\n",
      "Rating stats: count    5632.000000\n",
      "mean        3.851296\n",
      "std         0.761721\n",
      "min         1.000000\n",
      "25%         3.500000\n",
      "50%         4.000000\n",
      "75%         4.000000\n",
      "max         5.000000\n",
      "Name: Rating, dtype: float64\n",
      "\n",
      "User review counts (mean ± std): mean    1.181208\n",
      "std     0.539491\n",
      "dtype: float64\n",
      "Wine review counts (mean ± std): mean     5.548768\n",
      "std     12.935866\n",
      "dtype: float64\n",
      "Temporal range: 2020-11-14 17:40:06 → 2021-12-31 23:42:53\n"
     ]
    }
   ],
   "source": [
    "describe_test_set(test_segments[\"cold_user_cold_item\"], df_reviews_train, name=\"Updated Cold User : Cold Wine\")"
   ]
  },
  {
   "cell_type": "markdown",
   "id": "23414092-7fa6-42fe-ae42-e7c3d2fab026",
   "metadata": {},
   "source": [
    "#### Decrease test set size of hot/hot from 3.5m to 2m"
   ]
  },
  {
   "cell_type": "code",
   "execution_count": 18,
   "id": "a6478265-e3df-4a4c-a55b-38a2f7c5443f",
   "metadata": {},
   "outputs": [
    {
     "data": {
      "text/html": [
       "<div>\n",
       "<style scoped>\n",
       "    .dataframe tbody tr th:only-of-type {\n",
       "        vertical-align: middle;\n",
       "    }\n",
       "\n",
       "    .dataframe tbody tr th {\n",
       "        vertical-align: top;\n",
       "    }\n",
       "\n",
       "    .dataframe thead th {\n",
       "        text-align: right;\n",
       "    }\n",
       "</style>\n",
       "<table border=\"1\" class=\"dataframe\">\n",
       "  <thead>\n",
       "    <tr style=\"text-align: right;\">\n",
       "      <th></th>\n",
       "      <th>RatingID</th>\n",
       "      <th>UserID</th>\n",
       "      <th>WineID</th>\n",
       "      <th>Vintage</th>\n",
       "      <th>Rating</th>\n",
       "      <th>Date</th>\n",
       "    </tr>\n",
       "  </thead>\n",
       "  <tbody>\n",
       "    <tr>\n",
       "      <th>17115001</th>\n",
       "      <td>17115002</td>\n",
       "      <td>1256717</td>\n",
       "      <td>179055</td>\n",
       "      <td>2018</td>\n",
       "      <td>4.5</td>\n",
       "      <td>2020-11-13 18:19:45</td>\n",
       "    </tr>\n",
       "    <tr>\n",
       "      <th>17115007</th>\n",
       "      <td>17115008</td>\n",
       "      <td>1299634</td>\n",
       "      <td>160215</td>\n",
       "      <td>2018</td>\n",
       "      <td>3.0</td>\n",
       "      <td>2020-11-13 18:19:47</td>\n",
       "    </tr>\n",
       "    <tr>\n",
       "      <th>8821171</th>\n",
       "      <td>8821172</td>\n",
       "      <td>1163644</td>\n",
       "      <td>116120</td>\n",
       "      <td>2014</td>\n",
       "      <td>4.0</td>\n",
       "      <td>2020-11-13 18:19:51</td>\n",
       "    </tr>\n",
       "    <tr>\n",
       "      <th>15626849</th>\n",
       "      <td>15626850</td>\n",
       "      <td>1642188</td>\n",
       "      <td>167557</td>\n",
       "      <td>2017</td>\n",
       "      <td>4.0</td>\n",
       "      <td>2020-11-13 18:19:58</td>\n",
       "    </tr>\n",
       "    <tr>\n",
       "      <th>15627421</th>\n",
       "      <td>15627422</td>\n",
       "      <td>1480605</td>\n",
       "      <td>102927</td>\n",
       "      <td>2017</td>\n",
       "      <td>4.0</td>\n",
       "      <td>2020-11-13 18:20:01</td>\n",
       "    </tr>\n",
       "    <tr>\n",
       "      <th>...</th>\n",
       "      <td>...</td>\n",
       "      <td>...</td>\n",
       "      <td>...</td>\n",
       "      <td>...</td>\n",
       "      <td>...</td>\n",
       "      <td>...</td>\n",
       "    </tr>\n",
       "    <tr>\n",
       "      <th>20831444</th>\n",
       "      <td>20831445</td>\n",
       "      <td>1118901</td>\n",
       "      <td>111394</td>\n",
       "      <td>N.V.</td>\n",
       "      <td>4.5</td>\n",
       "      <td>2021-12-31 23:59:26</td>\n",
       "    </tr>\n",
       "    <tr>\n",
       "      <th>20533941</th>\n",
       "      <td>20533942</td>\n",
       "      <td>1084824</td>\n",
       "      <td>111908</td>\n",
       "      <td>2020</td>\n",
       "      <td>3.0</td>\n",
       "      <td>2021-12-31 23:59:35</td>\n",
       "    </tr>\n",
       "    <tr>\n",
       "      <th>12073700</th>\n",
       "      <td>12073701</td>\n",
       "      <td>1265013</td>\n",
       "      <td>135856</td>\n",
       "      <td>2016</td>\n",
       "      <td>4.5</td>\n",
       "      <td>2021-12-31 23:59:41</td>\n",
       "    </tr>\n",
       "    <tr>\n",
       "      <th>20831450</th>\n",
       "      <td>20831451</td>\n",
       "      <td>1361925</td>\n",
       "      <td>112317</td>\n",
       "      <td>N.V.</td>\n",
       "      <td>2.0</td>\n",
       "      <td>2021-12-31 23:59:47</td>\n",
       "    </tr>\n",
       "    <tr>\n",
       "      <th>18073796</th>\n",
       "      <td>18073797</td>\n",
       "      <td>1036263</td>\n",
       "      <td>167451</td>\n",
       "      <td>2018</td>\n",
       "      <td>5.0</td>\n",
       "      <td>2021-12-31 23:59:56</td>\n",
       "    </tr>\n",
       "  </tbody>\n",
       "</table>\n",
       "<p>2036778 rows × 6 columns</p>\n",
       "</div>"
      ],
      "text/plain": [
       "          RatingID   UserID  WineID Vintage  Rating                Date\n",
       "17115001  17115002  1256717  179055    2018     4.5 2020-11-13 18:19:45\n",
       "17115007  17115008  1299634  160215    2018     3.0 2020-11-13 18:19:47\n",
       "8821171    8821172  1163644  116120    2014     4.0 2020-11-13 18:19:51\n",
       "15626849  15626850  1642188  167557    2017     4.0 2020-11-13 18:19:58\n",
       "15627421  15627422  1480605  102927    2017     4.0 2020-11-13 18:20:01\n",
       "...            ...      ...     ...     ...     ...                 ...\n",
       "20831444  20831445  1118901  111394    N.V.     4.5 2021-12-31 23:59:26\n",
       "20533941  20533942  1084824  111908    2020     3.0 2021-12-31 23:59:35\n",
       "12073700  12073701  1265013  135856    2016     4.5 2021-12-31 23:59:41\n",
       "20831450  20831451  1361925  112317    N.V.     2.0 2021-12-31 23:59:47\n",
       "18073796  18073797  1036263  167451    2018     5.0 2021-12-31 23:59:56\n",
       "\n",
       "[2036778 rows x 6 columns]"
      ]
     },
     "execution_count": 18,
     "metadata": {},
     "output_type": "execute_result"
    }
   ],
   "source": [
    "index_back_to_train = np.random.choice(len(test_segments[\"warm_user_warm_item\"])-1, 1500000, replace=False).tolist()\n",
    "back_to_train = test_segments[\"warm_user_warm_item\"].iloc[index_back_to_train]\n",
    "test_segments[\"warm_user_warm_item\"] = test_segments[\"warm_user_warm_item\"].drop(\n",
    "    test_segments[\"warm_user_warm_item\"].iloc[index_back_to_train].index)\n",
    "pd.concat([df_reviews_train, back_to_train])\n",
    "test_segments[\"warm_user_warm_item\"]"
   ]
  },
  {
   "cell_type": "markdown",
   "id": "2a3392ef-4f2d-4149-9d59-050f583f01f7",
   "metadata": {
    "jp-MarkdownHeadingCollapsed": true
   },
   "source": [
    "#### Increase Size of Cold user/Cold wine test set from 5k to somewhere around 15k"
   ]
  },
  {
   "cell_type": "code",
   "execution_count": 19,
   "id": "083315a5-fb4a-44fe-bbe4-81bd56804ab5",
   "metadata": {},
   "outputs": [
    {
     "name": "stdout",
     "output_type": "stream",
     "text": [
      "Unique users in test sets: 526045\n",
      "Unique wines in test sets: 86592\n",
      "unique users in training: 1056041. Unknown to test sets: 530034\n",
      "unique wines in training: 99325. Unknown to test sets: 14054\n",
      "New reviews for the cold/cold test case: 10872\n"
     ]
    }
   ],
   "source": [
    "# Select all distinct wines and users from the other test segments\n",
    "unique_users = []\n",
    "unique_wines = []\n",
    "for test_segment in test_segments.keys():\n",
    "    segment_user_ids = sorted(test_segments[test_segment].UserID.unique())\n",
    "    segment_wine_ids = sorted(test_segments[test_segment].WineID.unique())\n",
    "    unique_users.extend(segment_user_ids)\n",
    "    unique_wines.extend(segment_wine_ids)\n",
    "unique_users = list(set(unique_users))\n",
    "unique_wines = list(set(unique_wines))\n",
    "print(f\"Unique users in test sets: {len(unique_users)}\")\n",
    "print(f\"Unique wines in test sets: {len(unique_wines)}\")\n",
    "# Sample x distinct users and y wines from the train set - all distinct wines from the test segments to not create data leakage\n",
    "# it probably will be better to sample only wines from there to not add data leakage\n",
    "unique_users_train = df_reviews_train.UserID.unique().tolist()\n",
    "unique_wines_train = df_reviews_train.WineID.unique().tolist()\n",
    "\n",
    "cold_users_train = set(unique_users_train) - set(unique_users)\n",
    "cold_wines_train = list(set(unique_wines_train) - set(unique_wines))\n",
    "\n",
    "print(f\"unique users in training: {len(unique_users_train)}. Unknown to test sets: {len(cold_users_train)}\")\n",
    "print(f\"unique wines in training: {len(unique_wines_train)}. Unknown to test sets: {len(cold_wines_train)}\")\n",
    "\n",
    "# for reproducability set random seed every time\n",
    "random.seed(42)\n",
    "sampled_wine_ids = random.sample(cold_wines_train, 500)\n",
    "reviews_to_sampled_wines = df_reviews_train.loc[df_reviews_train.WineID.isin(sampled_wine_ids)]\n",
    "print(f\"New reviews for the cold/cold test case: {len(reviews_to_sampled_wines)}\")\n",
    "\n",
    "# Add these examples to the cold user/cold wine test set and remove from trainset\n",
    "test_segments[\"cold_user_cold_item\"] = pd.concat([test_segments[\"cold_user_cold_item\"], reviews_to_sampled_wines])\n",
    "df_reviews_train = df_reviews_train[~df_reviews_train.WineID.isin(sampled_wine_ids)]"
   ]
  },
  {
   "cell_type": "markdown",
   "id": "616cee56-9406-4d70-a1eb-f7ce188f9bd5",
   "metadata": {},
   "source": [
    "### Final test set evaluation"
   ]
  },
  {
   "cell_type": "markdown",
   "id": "4c8a2062-6af9-4314-94c5-6f300d14e191",
   "metadata": {},
   "source": [
    "#### Simple Descriptions"
   ]
  },
  {
   "cell_type": "code",
   "execution_count": 20,
   "id": "fd7ada7e-19eb-4d5f-9c3c-2636b4048055",
   "metadata": {
    "scrolled": true
   },
   "outputs": [
    {
     "name": "stdout",
     "output_type": "stream",
     "text": [
      "FINAL HOT USER : HOT WINE — Test Set Description\n",
      "Size: 2,036,778\n",
      "Unique users: 464,452\n",
      "Unique wines: 83,137\n",
      "% Cold users: 0.0%\n",
      "% Cold items: 0.0%\n",
      "\n",
      "Rating stats: count    2.036778e+06\n",
      "mean     4.007375e+00\n",
      "std      6.739099e-01\n",
      "min      1.000000e+00\n",
      "25%      3.500000e+00\n",
      "50%      4.000000e+00\n",
      "75%      4.500000e+00\n",
      "max      5.000000e+00\n",
      "Name: Rating, dtype: float64\n",
      "\n",
      "User review counts (mean ± std): mean    4.385336\n",
      "std     7.755691\n",
      "dtype: float64\n",
      "Wine review counts (mean ± std): mean    24.499056\n",
      "std     64.359867\n",
      "dtype: float64\n",
      "Temporal range: 2020-11-13 18:19:45 → 2021-12-31 23:59:56\n"
     ]
    }
   ],
   "source": [
    "describe_test_set(test_segments[\"warm_user_warm_item\"], df_reviews_train, name=\"Final Hot User : Hot Wine\")"
   ]
  },
  {
   "cell_type": "code",
   "execution_count": 21,
   "id": "23c04375-7107-411c-aa1d-9a5d231063b4",
   "metadata": {
    "scrolled": true
   },
   "outputs": [
    {
     "name": "stdout",
     "output_type": "stream",
     "text": [
      "FINAL HOT USER : COLD WINE — Test Set Description\n",
      "Size: 35,456\n",
      "Unique users: 27,729\n",
      "Unique wines: 1,321\n",
      "% Cold users: 0.0%\n",
      "% Cold items: 100.0%\n",
      "\n",
      "Rating stats: count    35456.000000\n",
      "mean         3.865947\n",
      "std          0.685216\n",
      "min          1.000000\n",
      "25%          3.500000\n",
      "50%          4.000000\n",
      "75%          4.000000\n",
      "max          5.000000\n",
      "Name: Rating, dtype: float64\n",
      "\n",
      "User review counts (mean ± std): mean    1.278661\n",
      "std     0.782587\n",
      "dtype: float64\n",
      "Wine review counts (mean ± std): mean    26.840273\n",
      "std     60.861338\n",
      "dtype: float64\n",
      "Temporal range: 2020-11-13 21:54:40 → 2021-12-31 23:56:15\n"
     ]
    }
   ],
   "source": [
    "describe_test_set(test_segments[\"cold_item\"], df_reviews_train, name=\"Final Hot User : Cold Wine\")"
   ]
  },
  {
   "cell_type": "code",
   "execution_count": 22,
   "id": "0baf97aa-09e7-4870-9042-4363050c3a00",
   "metadata": {
    "scrolled": true
   },
   "outputs": [
    {
     "name": "stdout",
     "output_type": "stream",
     "text": [
      "FINAL COLD USER : HOT WINE — Test Set Description\n",
      "Size: 506,800\n",
      "Unique users: 58,969\n",
      "Unique wines: 60,449\n",
      "% Cold users: 0.0%\n",
      "% Cold items: 0.0%\n",
      "\n",
      "Rating stats: count    506800.000000\n",
      "mean          3.903564\n",
      "std           0.742087\n",
      "min           1.000000\n",
      "25%           3.500000\n",
      "50%           4.000000\n",
      "75%           4.500000\n",
      "max           5.000000\n",
      "Name: Rating, dtype: float64\n",
      "\n",
      "User review counts (mean ± std): mean     8.594346\n",
      "std     10.222283\n",
      "dtype: float64\n",
      "Wine review counts (mean ± std): mean     8.383927\n",
      "std     21.096130\n",
      "dtype: float64\n",
      "Temporal range: 2020-11-13 19:15:18 → 2021-12-31 23:59:27\n"
     ]
    }
   ],
   "source": [
    "describe_test_set(test_segments[\"cold_user\"], df_reviews_train, name=\"Final Cold User : Hot Wine\")"
   ]
  },
  {
   "cell_type": "code",
   "execution_count": 23,
   "id": "8fdd1155-69c6-4f32-ae29-942e7a045e36",
   "metadata": {
    "scrolled": true
   },
   "outputs": [
    {
     "name": "stdout",
     "output_type": "stream",
     "text": [
      "FINAL COLD USER : COLD WINE — Test Set Description\n",
      "Size: 16,504\n",
      "Unique users: 15,051\n",
      "Unique wines: 1,515\n",
      "% Cold users: 0.3%\n",
      "% Cold items: 100.0%\n",
      "\n",
      "Rating stats: count    16504.000000\n",
      "mean         3.677048\n",
      "std          0.801636\n",
      "min          1.000000\n",
      "25%          3.000000\n",
      "50%          4.000000\n",
      "75%          4.000000\n",
      "max          5.000000\n",
      "Name: Rating, dtype: float64\n",
      "\n",
      "User review counts (mean ± std): mean    1.096538\n",
      "std     0.387061\n",
      "dtype: float64\n",
      "Wine review counts (mean ± std): mean    10.893729\n",
      "std     21.918727\n",
      "dtype: float64\n",
      "Temporal range: 2012-04-07 22:16:13 → 2021-12-31 23:42:53\n"
     ]
    }
   ],
   "source": [
    "describe_test_set(test_segments[\"cold_user_cold_item\"], df_reviews_train, name=\"Final Cold User : Cold Wine\")"
   ]
  },
  {
   "cell_type": "markdown",
   "id": "bad2419f-61b8-4a07-8d0c-122a4fc5b6b3",
   "metadata": {},
   "source": [
    "#### Other metrics"
   ]
  },
  {
   "cell_type": "markdown",
   "id": "adc7d923-1863-48f1-b563-cb53326a82dd",
   "metadata": {
    "jp-MarkdownHeadingCollapsed": true
   },
   "source": [
    "##### Rating distribution across the datasets"
   ]
  },
  {
   "cell_type": "code",
   "execution_count": 24,
   "id": "5edd7a84-57d6-4cc6-9156-3dcc53036cfe",
   "metadata": {
    "scrolled": true
   },
   "outputs": [
    {
     "data": {
      "text/plain": [
       "Text(0.5, 1.0, 'Cold User/Cold Item')"
      ]
     },
     "execution_count": 24,
     "metadata": {},
     "output_type": "execute_result"
    },
    {
     "data": {
      "image/png": "[encoded data removed]",
      "text/plain": [
       "<Figure size 800x1000 with 6 Axes>"
      ]
     },
     "metadata": {},
     "output_type": "display_data"
    }
   ],
   "source": [
    "# rating distribution\n",
    "fig, axs = plt.subplots(3,2,figsize=(8, 10))\n",
    "\n",
    "axs[0, 0].hist(df_reviews[\"Rating\"], bins=9)\n",
    "axs[0, 0].set_title(\"All Reviews\")\n",
    "\n",
    "axs[0, 1].hist(df_reviews_train[\"Rating\"], bins=9)\n",
    "axs[0, 1].set_title(\"Trainingset\")\n",
    "\n",
    "axs[1, 0].hist(test_segments[\"warm_user_warm_item\"][\"Rating\"], bins=9)\n",
    "axs[1, 0].set_title(\"Warm User/Warm Item\")\n",
    "\n",
    "axs[1, 1].hist(test_segments[\"cold_item\"][\"Rating\"], bins=9)\n",
    "axs[1, 1].set_title(\"Warm User/Cold Item\")\n",
    "\n",
    "axs[2, 0].hist(test_segments[\"cold_user\"][\"Rating\"], bins=9)\n",
    "axs[2, 0].set_title(\"Cold User/Warm Item\")\n",
    "\n",
    "axs[2, 1].hist(test_segments[\"cold_user_cold_item\"][\"Rating\"], bins=9)\n",
    "axs[2, 1].set_title(\"Cold User/Cold Item\")\n"
   ]
  },
  {
   "cell_type": "markdown",
   "id": "2a54212a-00e7-4e88-8cb2-4a29dca756b8",
   "metadata": {
    "jp-MarkdownHeadingCollapsed": true
   },
   "source": [
    "##### Distribution Differences in earth-mover distance and JS"
   ]
  },
  {
   "cell_type": "code",
   "execution_count": 40,
   "id": "324433be-21a7-49ba-998e-d85913e10c43",
   "metadata": {},
   "outputs": [
    {
     "name": "stdout",
     "output_type": "stream",
     "text": [
      "JS Divergence between train and hot_user_hot_item: 0.009870994325045682\n",
      "Wasserstein Distance between train and hot_user_hot_item: 0.14846420284652773\n",
      "\n",
      "\n",
      "JS Divergence between train and hot_user_cold_item: 0.0039639839102326956\n",
      "Wasserstein Distance between train and hot_user_cold_item: 0.06269939852390342\n",
      "\n",
      "\n",
      "JS Divergence between train and cold_user_hot_item: 0.0012479875634181395\n",
      "Wasserstein Distance between train and cold_user_hot_item: 0.04465261000084767\n",
      "\n",
      "\n",
      "JS Divergence between train and cold_user_cold_item: 0.012083432975968856\n",
      "Wasserstein Distance between train and cold_user_cold_item: 0.18186293754429805\n",
      "\n",
      "\n"
     ]
    }
   ],
   "source": [
    "from scipy.stats import wasserstein_distance\n",
    "from scipy.spatial.distance import jensenshannon\n",
    "from scipy.stats import chi2_contingency\n",
    "\n",
    "hist_df_reviews = df_reviews.value_counts(\"Rating\", normalize=True, sort=False).to_list()\n",
    "hist_df_train = df_reviews_train.value_counts(\"Rating\", normalize=True, sort=False).to_list()\n",
    "hist_warm_user_warm_item = test_segments[\"warm_user_warm_item\"].value_counts(\"Rating\", normalize=True, sort=False).to_list()\n",
    "hist_warm_user_cold_item = test_segments[\"cold_item\"].value_counts(\"Rating\", normalize=True, sort=False).to_list()\n",
    "hist_cold_user_warm_item = test_segments[\"cold_user\"].value_counts(\"Rating\", normalize=True, sort=False).to_list()\n",
    "hist_cold_user_cold_item = test_segments[\"cold_user_cold_item\"].value_counts(\"Rating\", normalize=True, sort=False).to_list()\n",
    "\n",
    "test_hists = {\"hot_user_hot_item\": hist_warm_user_warm_item, \n",
    "              \"hot_user_cold_item\": hist_warm_user_cold_item, \n",
    "              \"cold_user_hot_item\": hist_cold_user_warm_item, \n",
    "              \"cold_user_cold_item\": hist_cold_user_cold_item}\n",
    "\n",
    "for name, test_hist in test_hists.items():\n",
    "    js = jensenshannon(hist_df_train, test_hist, base=2) ** 2  # square to get true JS divergence\n",
    "    print(f\"JS Divergence between train and {name}:\", js)\n",
    "    bin_centers = np.linspace(1.0, 5.0, 9)\n",
    "    wd = wasserstein_distance(bin_centers, bin_centers, hist_df_train, test_hist)\n",
    "    print(f\"Wasserstein Distance between train and {name}:\", wd)\n",
    "    print(\"\\n\")\n"
   ]
  },
  {
   "cell_type": "markdown",
   "id": "0a301809-bc3e-4585-848b-41a9c5d3dc63",
   "metadata": {},
   "source": [
    "#####"
   ]
  },
  {
   "cell_type": "markdown",
   "id": "c959fe00-a816-4149-92e9-294cd343f0c4",
   "metadata": {},
   "source": [
    "### Exporting datasets"
   ]
  },
  {
   "cell_type": "code",
   "execution_count": 25,
   "id": "32c4d85a-a919-4e58-a846-197ed2467a87",
   "metadata": {},
   "outputs": [],
   "source": [
    "for test_segment in test_segments.keys():\n",
    "    test_segments[test_segment].to_csv(f\"testset_{test_segment}.csv\", index=False)\n",
    "df_reviews_train.to_csv(\"trainset.csv\", index=False)"
   ]
  },
  {
   "cell_type": "markdown",
   "id": "f214d8b0-f41d-4605-bb07-fed2bb8b3b35",
   "metadata": {},
   "source": [
    "### Handling the imbalanced user review counts\n",
    "For the hot user/cold wine and cold/cold there is an imbalanced avaerage user review count from 1.2 and 1.1 compared to the hot/hot with 6.5 and cold/hot with 10 (coming from a 80/20 temporal split)"
   ]
  }
 ],
 "metadata": {
  "kernelspec": {
   "display_name": "Python 3 (ipykernel)",
   "language": "python",
   "name": "python3"
  },
  "language_info": {
   "codemirror_mode": {
    "name": "ipython",
    "version": 3
   },
   "file_extension": ".py",
   "mimetype": "text/x-python",
   "name": "python",
   "nbconvert_exporter": "python",
   "pygments_lexer": "ipython3",
   "version": "3.12.2"
  }
 },
 "nbformat": 4,
 "nbformat_minor": 5
}

{
 "cells": [
  {
   "cell_type": "code",
   "execution_count": 35,
   "id": "39090194-cfe5-41ed-9c86-aa0ad505c946",
   "metadata": {},
   "outputs": [],
   "source": [
    "import pandas as pd\n",
    "import matplotlib.pyplot as plt\n",
    "from collections import defaultdict"
   ]
  },
  {
   "cell_type": "markdown",
   "id": "9d646de4-7148-4f63-9966-fd37063e39a0",
   "metadata": {},
   "source": [
    "# WORK IN PROGRESS! NOT READY FOR USE YET"
   ]
  },
  {
   "cell_type": "markdown",
   "id": "298e9a27-f8da-4ca4-a3c2-509bd52d71ef",
   "metadata": {},
   "source": [
    "# Creation of Train and Test Set\n",
    "\n",
    "As the dataset at the moment is not splitted at all, we need a dedicated train and testset.\n",
    "\n",
    "This notebook lead through the process of creating such a split and can be used to transform the originial dataset in our training and test sets.\n",
    "\n",
    "There are multiple key factors to consider when creating a testset:\n",
    "- Temporal drift\n",
    "- Cold-Start problem\n",
    "- Distribution similarity\n",
    "\n",
    "## Temporal drift\n",
    "Over time there will most likely happen a concept drift leading to different distributions. To predict a value you look into the past. You dont predict a value of the past with the knowledge of the future as this would led to some kind of data leakage.\n",
    "\n",
    "## Cold-Start problem\n",
    "This is one of the most central aspects a recommender system has to deal with. The cold start problem referes to the fact if a user/item is already known at training time or is first introduced at test time.\n",
    "We have the following 4 cases we want to cover extensively in order to have a full diagnostic view about our model performance.\n",
    "- Hot/Hot (Known User/ Known Wine) -> Standard case\n",
    "- Hot/Cold (Known User/ New Wine) -> A new wine is introduced\n",
    "- Cold/Hot (New User/ Known Wine) -> New user get some Wine recommendations\n",
    "- Cold/Cold (New User/ New Wine) -> most challenging case, first time user sees a brand new wine\n",
    "\n",
    "\n",
    "## Distribution similarity"
   ]
  },
  {
   "cell_type": "code",
   "execution_count": 3,
   "id": "8da0c168-0738-48ba-a82a-9cb830b30786",
   "metadata": {},
   "outputs": [
    {
     "name": "stderr",
     "output_type": "stream",
     "text": [
      "C:\\Users\\frede\\AppData\\Local\\Temp\\ipykernel_12716\\4166625741.py:1: DtypeWarning: Columns (3) have mixed types. Specify dtype option on import or set low_memory=False.\n",
      "  df_reviews = pd.read_csv(r\"../All-XWines_Full_100K_wines_21M_ratings/XWines_Full_21M_ratings.csv\")\n"
     ]
    }
   ],
   "source": [
    "df_reviews = pd.read_csv(r\"../All-XWines_Full_100K_wines_21M_ratings/XWines_Full_21M_ratings.csv\")"
   ]
  },
  {
   "cell_type": "code",
   "execution_count": 5,
   "id": "938524dc-daef-4a5b-87f4-dba5e833063c",
   "metadata": {},
   "outputs": [],
   "source": [
    "df_reviews[\"Date\"] = pd.to_datetime(df_reviews[\"Date\"])"
   ]
  },
  {
   "cell_type": "code",
   "execution_count": 6,
   "id": "0c5e350c-d965-4015-b3ef-ea96d6e25945",
   "metadata": {},
   "outputs": [],
   "source": [
    "df_reviews = df_reviews.sort_values(\"Date\")"
   ]
  },
  {
   "cell_type": "code",
   "execution_count": 7,
   "id": "fcdd832f-bda3-4f31-b5d1-3dbf747a37e3",
   "metadata": {},
   "outputs": [
    {
     "data": {
      "text/html": [
       "<div>\n",
       "<style scoped>\n",
       "    .dataframe tbody tr th:only-of-type {\n",
       "        vertical-align: middle;\n",
       "    }\n",
       "\n",
       "    .dataframe tbody tr th {\n",
       "        vertical-align: top;\n",
       "    }\n",
       "\n",
       "    .dataframe thead th {\n",
       "        text-align: right;\n",
       "    }\n",
       "</style>\n",
       "<table border=\"1\" class=\"dataframe\">\n",
       "  <thead>\n",
       "    <tr style=\"text-align: right;\">\n",
       "      <th></th>\n",
       "      <th>RatingID</th>\n",
       "      <th>UserID</th>\n",
       "      <th>WineID</th>\n",
       "      <th>Vintage</th>\n",
       "      <th>Rating</th>\n",
       "      <th>Date</th>\n",
       "    </tr>\n",
       "  </thead>\n",
       "  <tbody>\n",
       "    <tr>\n",
       "      <th>838057</th>\n",
       "      <td>838058</td>\n",
       "      <td>1395486</td>\n",
       "      <td>136168</td>\n",
       "      <td>2005</td>\n",
       "      <td>2.0</td>\n",
       "      <td>2012-01-03 08:20:53</td>\n",
       "    </tr>\n",
       "    <tr>\n",
       "      <th>1582521</th>\n",
       "      <td>1582522</td>\n",
       "      <td>1395486</td>\n",
       "      <td>174565</td>\n",
       "      <td>2008</td>\n",
       "      <td>4.0</td>\n",
       "      <td>2012-01-03 08:27:03</td>\n",
       "    </tr>\n",
       "    <tr>\n",
       "      <th>1578306</th>\n",
       "      <td>1578307</td>\n",
       "      <td>1385968</td>\n",
       "      <td>165088</td>\n",
       "      <td>2008</td>\n",
       "      <td>1.0</td>\n",
       "      <td>2012-01-04 10:34:12</td>\n",
       "    </tr>\n",
       "    <tr>\n",
       "      <th>725564</th>\n",
       "      <td>725565</td>\n",
       "      <td>1576414</td>\n",
       "      <td>136365</td>\n",
       "      <td>2004</td>\n",
       "      <td>4.0</td>\n",
       "      <td>2012-01-07 14:18:01</td>\n",
       "    </tr>\n",
       "    <tr>\n",
       "      <th>2985506</th>\n",
       "      <td>2985507</td>\n",
       "      <td>1177579</td>\n",
       "      <td>114749</td>\n",
       "      <td>2010</td>\n",
       "      <td>3.0</td>\n",
       "      <td>2012-01-11 15:01:43</td>\n",
       "    </tr>\n",
       "    <tr>\n",
       "      <th>1392601</th>\n",
       "      <td>1392602</td>\n",
       "      <td>1187471</td>\n",
       "      <td>174257</td>\n",
       "      <td>2007</td>\n",
       "      <td>4.0</td>\n",
       "      <td>2012-01-11 17:51:49</td>\n",
       "    </tr>\n",
       "    <tr>\n",
       "      <th>1578604</th>\n",
       "      <td>1578605</td>\n",
       "      <td>1855030</td>\n",
       "      <td>115399</td>\n",
       "      <td>2008</td>\n",
       "      <td>4.0</td>\n",
       "      <td>2012-01-14 13:41:43</td>\n",
       "    </tr>\n",
       "    <tr>\n",
       "      <th>2080735</th>\n",
       "      <td>2080736</td>\n",
       "      <td>1855030</td>\n",
       "      <td>117018</td>\n",
       "      <td>2009</td>\n",
       "      <td>4.0</td>\n",
       "      <td>2012-01-14 13:42:47</td>\n",
       "    </tr>\n",
       "    <tr>\n",
       "      <th>302652</th>\n",
       "      <td>302653</td>\n",
       "      <td>1785135</td>\n",
       "      <td>111511</td>\n",
       "      <td>1998</td>\n",
       "      <td>4.0</td>\n",
       "      <td>2012-01-14 15:54:09</td>\n",
       "    </tr>\n",
       "    <tr>\n",
       "      <th>1579771</th>\n",
       "      <td>1579772</td>\n",
       "      <td>1193574</td>\n",
       "      <td>136595</td>\n",
       "      <td>2008</td>\n",
       "      <td>5.0</td>\n",
       "      <td>2012-01-14 16:15:04</td>\n",
       "    </tr>\n",
       "  </tbody>\n",
       "</table>\n",
       "</div>"
      ],
      "text/plain": [
       "         RatingID   UserID  WineID Vintage  Rating                Date\n",
       "838057     838058  1395486  136168    2005     2.0 2012-01-03 08:20:53\n",
       "1582521   1582522  1395486  174565    2008     4.0 2012-01-03 08:27:03\n",
       "1578306   1578307  1385968  165088    2008     1.0 2012-01-04 10:34:12\n",
       "725564     725565  1576414  136365    2004     4.0 2012-01-07 14:18:01\n",
       "2985506   2985507  1177579  114749    2010     3.0 2012-01-11 15:01:43\n",
       "1392601   1392602  1187471  174257    2007     4.0 2012-01-11 17:51:49\n",
       "1578604   1578605  1855030  115399    2008     4.0 2012-01-14 13:41:43\n",
       "2080735   2080736  1855030  117018    2009     4.0 2012-01-14 13:42:47\n",
       "302652     302653  1785135  111511    1998     4.0 2012-01-14 15:54:09\n",
       "1579771   1579772  1193574  136595    2008     5.0 2012-01-14 16:15:04"
      ]
     },
     "execution_count": 7,
     "metadata": {},
     "output_type": "execute_result"
    }
   ],
   "source": [
    "df_reviews.head(10)"
   ]
  },
  {
   "cell_type": "code",
   "execution_count": 49,
   "id": "891fa67b-fcb7-4605-82bb-546664034a41",
   "metadata": {},
   "outputs": [
    {
     "name": "stdout",
     "output_type": "stream",
     "text": [
      "Size of all reviews: 21013536\n",
      "Size of train set: 16810828\n",
      "Size of test set: 4202708 making it 20.00000380706988 %\n"
     ]
    }
   ],
   "source": [
    "# create a 80/20 temporal split\n",
    "split_ratio = 0.80\n",
    "split_index = int(len(df_reviews) * split_ratio)\n",
    "df_reviews_train = df_reviews.iloc[:split_index]\n",
    "df_reviews_test = df_reviews.iloc[split_index:]\n",
    "print(f\"Size of all reviews: {len(df_reviews)}\")\n",
    "print(f\"Size of train set: {len(df_reviews_train)}\")\n",
    "print(f\"Size of test set: {len(df_reviews_test)} making it {(len(df_reviews_test) / (len(df_reviews_test) + len(df_reviews_train)))*100} %\")"
   ]
  },
  {
   "cell_type": "code",
   "execution_count": 50,
   "id": "5208945f-9b46-48ea-bd28-c6cf55473c24",
   "metadata": {},
   "outputs": [
    {
     "name": "stdout",
     "output_type": "stream",
     "text": [
      "There are 997072 unique users in the train set. Making it 94.41263390333489% of all users\n",
      "There are 99325 unique wines in the train set. Making it 98.6874788863939% of all wines\n"
     ]
    }
   ],
   "source": [
    "# unique wines and users in train set\n",
    "u_users_train = set(df_reviews_train[\"UserID\"])\n",
    "u_wines_train = set(df_reviews_train[\"WineID\"])\n",
    "u_users_total = set(df_reviews[\"UserID\"])\n",
    "u_wines_total = set(df_reviews[\"WineID\"])\n",
    "print(f\"There are {len(u_users_train)} unique users in the train set. Making it {(len(u_users_train) / len(u_users_total)) * 100}% of all users\")\n",
    "print(f\"There are {len(u_wines_train)} unique wines in the train set. Making it {(len(u_wines_train) / len(u_wines_total)) * 100}% of all wines\")"
   ]
  },
  {
   "cell_type": "code",
   "execution_count": 51,
   "id": "e267b9b6-77b7-479f-82f2-ac71a6eaff73",
   "metadata": {},
   "outputs": [],
   "source": [
    "# split_test_data -> split test data into 4 different subsets\n",
    "def split_test_data(df):\n",
    "    segment = defaultdict(list)\n",
    "    for _, row in df.iterrows():\n",
    "        uid, iid = row['UserID'], row['WineID']\n",
    "        if uid in u_users_train and iid in u_wines_train:\n",
    "            segment['warm_user_warm_item'].append(row)\n",
    "        elif uid not in u_users_train and iid in u_wines_train:\n",
    "            segment['cold_user'].append(row)\n",
    "        elif uid in u_users_train and iid not in u_wines_train:\n",
    "            segment['cold_item'].append(row)\n",
    "        else:\n",
    "            segment['cold_user_cold_item'].append(row)\n",
    "    return {k: pd.DataFrame(v) for k, v in segment.items()}\n",
    "\n",
    "# === Split test set into 4 segments ===\n",
    "test_segments = split_test_data(df_reviews_test)"
   ]
  },
  {
   "cell_type": "code",
   "execution_count": 59,
   "id": "9d3c66bb-8ce1-4330-a838-183e5d87386b",
   "metadata": {},
   "outputs": [],
   "source": [
    "def describe_test_set(df_segment, df_train, name=\"Segment\"):\n",
    "    print(f\"{name.upper()} — Test Set Description\")\n",
    "    print(f\"Size: {len(df_segment):,}\")\n",
    "    print(f\"Unique users: {df_segment['UserID'].nunique():,}\")\n",
    "    print(f\"Unique wines: {df_segment['WineID'].nunique():,}\")\n",
    "    \n",
    "    train_users = set(df_train['UserID'])\n",
    "    train_items = set(df_train['WineID'])\n",
    "    \n",
    "    cold_users = set(df_segment['UserID']) - train_users\n",
    "    cold_items = set(df_segment['WineID']) - train_items\n",
    "    \n",
    "    print(f\"% Cold users: {len(cold_users) / df_segment['UserID'].nunique():.1%}\")\n",
    "    print(f\"% Cold items: {len(cold_items) / df_segment['WineID'].nunique():.1%}\")\n",
    "    print(\"\\nRating stats:\", df_segment['Rating'].describe())\n",
    "    print(\"\\nUser review counts (mean ± std):\", df_segment.groupby('UserID').size().agg(['mean', 'std']))\n",
    "    print(\"Wine review counts (mean ± std):\", df_segment.groupby('WineID').size().agg(['mean', 'std']))\n",
    "    print(\"Temporal range:\", df_segment['Date'].min(), \"→\", df_segment['Date'].max())\n"
   ]
  },
  {
   "cell_type": "code",
   "execution_count": 60,
   "id": "9f32543c-2adc-4a12-8892-013188871691",
   "metadata": {},
   "outputs": [
    {
     "name": "stdout",
     "output_type": "stream",
     "text": [
      "HOT USER : HOT WINE — Test Set Description\n",
      "Size: 3,536,778\n",
      "Unique users: 543,869\n",
      "Unique wines: 88,263\n",
      "% Cold users: 0.0%\n",
      "% Cold items: 0.0%\n",
      "\n",
      "Rating stats: count    3.536778e+06\n",
      "mean     4.007587e+00\n",
      "std      6.738004e-01\n",
      "min      1.000000e+00\n",
      "25%      3.500000e+00\n",
      "50%      4.000000e+00\n",
      "75%      4.500000e+00\n",
      "max      5.000000e+00\n",
      "Name: Rating, dtype: float64\n",
      "\n",
      "User review counts (mean ± std): mean     6.502996\n",
      "std     12.547336\n",
      "dtype: float64\n",
      "Wine review counts (mean ± std): mean     40.070902\n",
      "std     108.744318\n",
      "dtype: float64\n",
      "Temporal range: 2020-11-13 18:19:41 → 2021-12-31 23:59:56\n"
     ]
    }
   ],
   "source": [
    "describe_test_set(test_segments[\"warm_user_warm_item\"], df_reviews_train, name=\"Hot User : Hot Wine\")"
   ]
  },
  {
   "cell_type": "code",
   "execution_count": 61,
   "id": "ec2ce63a-66a7-441f-964b-5e4ef1d819e8",
   "metadata": {},
   "outputs": [
    {
     "name": "stdout",
     "output_type": "stream",
     "text": [
      "COLD USER : HOT WINE — Test Set Description\n",
      "Size: 624,842\n",
      "Unique users: 59,007\n",
      "Unique wines: 63,676\n",
      "% Cold users: 100.0%\n",
      "% Cold items: 0.0%\n",
      "\n",
      "Rating stats: count    624842.000000\n",
      "mean          3.903239\n",
      "std           0.754119\n",
      "min           1.000000\n",
      "25%           3.500000\n",
      "50%           4.000000\n",
      "75%           4.500000\n",
      "max           5.000000\n",
      "Name: Rating, dtype: float64\n",
      "\n",
      "User review counts (mean ± std): mean    10.589286\n",
      "std     10.220943\n",
      "dtype: float64\n",
      "Wine review counts (mean ± std): mean     9.812834\n",
      "std     25.899012\n",
      "dtype: float64\n",
      "Temporal range: 2020-11-13 18:23:20 → 2021-12-31 23:59:27\n"
     ]
    }
   ],
   "source": [
    "describe_test_set(test_segments[\"cold_user\"], df_reviews_train, name=\"Cold User : Hot Wine\")"
   ]
  },
  {
   "cell_type": "code",
   "execution_count": 62,
   "id": "ee4ed93c-7e0d-439e-88e4-49c8023ef39c",
   "metadata": {},
   "outputs": [
    {
     "name": "stdout",
     "output_type": "stream",
     "text": [
      "HOT USER : COLD WINE — Test Set Description\n",
      "Size: 35,456\n",
      "Unique users: 27,729\n",
      "Unique wines: 1,321\n",
      "% Cold users: 0.0%\n",
      "% Cold items: 100.0%\n",
      "\n",
      "Rating stats: count    35456.000000\n",
      "mean         3.865947\n",
      "std          0.685216\n",
      "min          1.000000\n",
      "25%          3.500000\n",
      "50%          4.000000\n",
      "75%          4.000000\n",
      "max          5.000000\n",
      "Name: Rating, dtype: float64\n",
      "\n",
      "User review counts (mean ± std): mean    1.278661\n",
      "std     0.782587\n",
      "dtype: float64\n",
      "Wine review counts (mean ± std): mean    26.840273\n",
      "std     60.861338\n",
      "dtype: float64\n",
      "Temporal range: 2020-11-13 21:54:40 → 2021-12-31 23:56:15\n"
     ]
    }
   ],
   "source": [
    "describe_test_set(test_segments[\"cold_item\"], df_reviews_train, name=\"Hot User : Cold Wine\")"
   ]
  },
  {
   "cell_type": "code",
   "execution_count": 63,
   "id": "629ebf9b-6945-4cab-b644-80b37a2be27c",
   "metadata": {},
   "outputs": [
    {
     "name": "stdout",
     "output_type": "stream",
     "text": [
      "COLD USER : COLD WINE — Test Set Description\n",
      "Size: 5,632\n",
      "Unique users: 4,768\n",
      "Unique wines: 1,015\n",
      "% Cold users: 100.0%\n",
      "% Cold items: 100.0%\n",
      "\n",
      "Rating stats: count    5632.000000\n",
      "mean        3.851296\n",
      "std         0.761721\n",
      "min         1.000000\n",
      "25%         3.500000\n",
      "50%         4.000000\n",
      "75%         4.000000\n",
      "max         5.000000\n",
      "Name: Rating, dtype: float64\n",
      "\n",
      "User review counts (mean ± std): mean    1.181208\n",
      "std     0.539491\n",
      "dtype: float64\n",
      "Wine review counts (mean ± std): mean     5.548768\n",
      "std     12.935866\n",
      "dtype: float64\n",
      "Temporal range: 2020-11-14 17:40:06 → 2021-12-31 23:42:53\n"
     ]
    }
   ],
   "source": [
    "describe_test_set(test_segments[\"cold_user_cold_item\"], df_reviews_train, name=\"Cold User : Cold Wine\")"
   ]
  }
 ],
 "metadata": {
  "kernelspec": {
   "display_name": "Python 3 (ipykernel)",
   "language": "python",
   "name": "python3"
  },
  "language_info": {
   "codemirror_mode": {
    "name": "ipython",
    "version": 3
   },
   "file_extension": ".py",
   "mimetype": "text/x-python",
   "name": "python",
   "nbconvert_exporter": "python",
   "pygments_lexer": "ipython3",
   "version": "3.12.2"
  }
 },
 "nbformat": 4,
 "nbformat_minor": 5
}

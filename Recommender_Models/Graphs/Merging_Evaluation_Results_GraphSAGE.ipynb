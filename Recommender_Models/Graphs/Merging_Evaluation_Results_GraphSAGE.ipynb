{
  "nbformat": 4,
  "nbformat_minor": 0,
  "metadata": {
    "colab": {
      "provenance": [],
      "authorship_tag": "ABX9TyMtkEWJ9YiO6Mo2ryJvESIv",
      "include_colab_link": true
    },
    "kernelspec": {
      "name": "python3",
      "display_name": "Python 3"
    },
    "language_info": {
      "name": "python"
    }
  },
  "cells": [
    {
      "cell_type": "markdown",
      "metadata": {
        "id": "view-in-github",
        "colab_type": "text"
      },
      "source": [
        "<a href=\"https://colab.research.google.com/github/Frederik-Roeckle/xwines_recom/blob/master/Recommender_Models/Graphs/Merging_Evaluation_Results_GraphSAGE.ipynb\" target=\"_parent\"><img src=\"https://colab.research.google.com/assets/colab-badge.svg\" alt=\"Open In Colab\"/></a>"
      ]
    },
    {
      "cell_type": "code",
      "execution_count": 7,
      "metadata": {
        "id": "bt1-bNd8T01-"
      },
      "outputs": [],
      "source": [
        "import torch\n",
        "import pandas as pd\n",
        "import numpy as np\n",
        "from google.colab import drive\n",
        "import pathlib as pl\n"
      ]
    },
    {
      "cell_type": "code",
      "source": [
        "drive.mount('/content/drive')"
      ],
      "metadata": {
        "colab": {
          "base_uri": "https://localhost:8080/"
        },
        "id": "aGuvnMD0UKwi",
        "outputId": "26cefe5c-1cc9-4ca7-eabd-b33e86b5fc5f"
      },
      "execution_count": 5,
      "outputs": [
        {
          "output_type": "stream",
          "name": "stdout",
          "text": [
            "Mounted at /content/drive\n"
          ]
        }
      ]
    },
    {
      "cell_type": "code",
      "source": [
        "torch_true_warm_user_warm_item = pl.Path(\"/content/drive/MyDrive/01_Master/WebMiningProject/trues_segment_0_at_10_epochs.pt\")\n",
        "torch_preds_warm_user_warm_item = pl.Path(\"/content/drive/MyDrive/01_Master/WebMiningProject/preds_segment_0_at_10_epochs.pt\")\n",
        "true_warm_user_warm_item = torch.load(torch_true_warm_user_warm_item)\n",
        "preds_warm_user_warm_item = torch.load(torch_preds_warm_user_warm_item)\n",
        "\n",
        "\n",
        "torch_true_warm_user_cold_item = pl.Path(\"/content/drive/MyDrive/01_Master/WebMiningProject/trues_segment_1_at_10_epochs.pt\")\n",
        "torch_preds_warm_user_cold_item = pl.Path(\"/content/drive/MyDrive/01_Master/WebMiningProject/preds_segment_1_at_10_epochs.pt\")\n",
        "true_warm_user_cold_item = torch.load(torch_true_warm_user_cold_item)\n",
        "preds_warm_user_cold_item = torch.load(torch_true_warm_user_cold_item)\n",
        "\n",
        "\n",
        "torch_true_cold_user_warm_item = pl.Path(\"/content/drive/MyDrive/01_Master/WebMiningProject/trues_segment_2_at_10_epochs.pt\")\n",
        "torch_preds_cold_user_warm_item = pl.Path(\"/content/drive/MyDrive/01_Master/WebMiningProject/preds_segment_2_at_10_epochs.pt\")\n",
        "true_cold_user_warm_item = torch.load(torch_true_cold_user_warm_item)\n",
        "preds_cold_user_warm_item = torch.load(torch_preds_cold_user_warm_item)\n",
        "\n",
        "\n",
        "torch_true_cold_user_cold_item = pl.Path(\"/content/drive/MyDrive/01_Master/WebMiningProject/trues_segment_3_at_10_epochs.pt\")\n",
        "torch_preds_cold_user_cold_item = pl.Path(\"/content/drive/MyDrive/01_Master/WebMiningProject/preds_segment_3_at_10_epochs.pt\")\n",
        "true_cold_user_cold_item = torch.load(torch_true_cold_user_cold_item)\n",
        "preds_cold_user_cold_item = torch.load(torch_preds_cold_user_cold_item)\n",
        "\n",
        "\n",
        "csv_testset_warm_user_warm_item = pl.Path(\"/content/drive/MyDrive/01_Master/WebMiningProject/testset_warm_user_warm_item.csv\")\n",
        "csv_testset_warm_user_cold_item = pl.Path(\"/content/drive/MyDrive/01_Master/WebMiningProject/testset_warm_user_cold_item.csv\")\n",
        "csv_testset_cold_user_warm_item = pl.Path(\"/content/drive/MyDrive/01_Master/WebMiningProject/testset_cold_user_warm_item.csv\")\n",
        "csv_testset_cold_user_cold_item = pl.Path(\"/content/drive/MyDrive/01_Master/WebMiningProject/testset_cold_user_cold_item.csv\")\n",
        "\n",
        "testset_warm_user_warm_item = pd.read_csv(csv_testset_warm_user_warm_item)\n",
        "testset_warm_user_cold_item = pd.read_csv(csv_testset_warm_user_cold_item)\n",
        "testset_cold_user_warm_item = pd.read_csv(csv_testset_cold_user_warm_item)\n",
        "testset_cold_user_cold_item = pd.read_csv(csv_testset_cold_user_cold_item)"
      ],
      "metadata": {
        "id": "knFLL7uKT9i4"
      },
      "execution_count": 39,
      "outputs": []
    },
    {
      "cell_type": "code",
      "source": [
        "testset_warm_user_warm_item[\"Rating_True_Tensor\"] = pd.Series(true_warm_user_warm_item.numpy())\n",
        "testset_warm_user_warm_item[\"Rating_Pred_Tensor\"] = pd.Series(preds_warm_user_warm_item.numpy())\n",
        "\n",
        "testset_warm_user_cold_item[\"Rating_True_Tensor\"] = pd.Series(true_warm_user_cold_item.numpy())\n",
        "testset_warm_user_cold_item[\"Rating_Pred_Tensor\"] = pd.Series(preds_warm_user_cold_item.numpy())\n",
        "\n",
        "testset_cold_user_warm_item[\"Rating_True_Tensor\"] = pd.Series(true_cold_user_warm_item.numpy())\n",
        "testset_cold_user_warm_item[\"Rating_Pred_Tensor\"] = pd.Series(preds_cold_user_warm_item.numpy())\n",
        "\n",
        "testset_cold_user_cold_item[\"Rating_True_Tensor\"] = pd.Series(true_cold_user_cold_item.numpy())\n",
        "testset_cold_user_cold_item[\"Rating_Pred_Tensor\"] = pd.Series(preds_cold_user_cold_item.numpy())"
      ],
      "metadata": {
        "id": "blwamaxgoJeO"
      },
      "execution_count": 40,
      "outputs": []
    },
    {
      "cell_type": "code",
      "source": [
        "testset_warm_user_warm_item = testset_warm_user_warm_item.drop(columns=[\"Vintage\", \"Date\", \"Rating_True_Tensor\"])\n",
        "testset_warm_user_cold_item = testset_warm_user_cold_item.drop(columns=[\"Vintage\", \"Date\", \"Rating_True_Tensor\"])\n",
        "testset_cold_user_warm_item = testset_cold_user_warm_item.drop(columns=[\"Vintage\", \"Date\", \"Rating_True_Tensor\"])\n",
        "testset_cold_user_cold_item = testset_cold_user_cold_item.drop(columns=[\"Vintage\", \"Date\", \"Rating_True_Tensor\"])"
      ],
      "metadata": {
        "id": "gP2gxciMW2nD"
      },
      "execution_count": 45,
      "outputs": []
    },
    {
      "cell_type": "code",
      "source": [
        "testset_warm_user_warm_item.to_csv(pl.Path(\"/content/drive/MyDrive/01_Master/WebMiningProject/results_graphsage_warm_user_warm_item.csv\"))\n",
        "testset_warm_user_cold_item.to_csv(pl.Path(\"/content/drive/MyDrive/01_Master/WebMiningProject/results_graphsage_warm_user_cold_item.csv\"))\n",
        "testset_cold_user_warm_item.to_csv(pl.Path(\"/content/drive/MyDrive/01_Master/WebMiningProject/results_graphsage_cold_user_warm_item.csv\"))\n",
        "testset_cold_user_cold_item.to_csv(pl.Path(\"/content/drive/MyDrive/01_Master/WebMiningProject/results_graphsage_cold_user_cold_item.csv\"))"
      ],
      "metadata": {
        "id": "p3ifftGMr-4p"
      },
      "execution_count": 47,
      "outputs": []
    }
  ]
}
{
 "cells": [
  {
   "cell_type": "code",
   "id": "initial_id",
   "metadata": {
    "collapsed": true,
    "ExecuteTime": {
     "end_time": "2025-05-07T22:09:56.440968Z",
     "start_time": "2025-05-07T22:09:55.020288Z"
    }
   },
   "source": [
    "# --- Imports ---\n",
    "import pandas as pd\n",
    "import numpy as np\n",
    "from sklearn.feature_extraction.text import TfidfVectorizer, FeatureHasher\n",
    "from sklearn.preprocessing import StandardScaler\n",
    "from sklearn.metrics.pairwise import cosine_similarity\n",
    "from sklearn.model_selection import train_test_split\n",
    "from sklearn.metrics import mean_squared_error, mean_absolute_error\n",
    "from scipy.sparse import csr_matrix, hstack\n",
    "from tqdm import tqdm"
   ],
   "outputs": [],
   "execution_count": 1
  },
  {
   "metadata": {
    "ExecuteTime": {
     "end_time": "2025-05-07T22:09:56.616758Z",
     "start_time": "2025-05-07T22:09:56.449980Z"
    }
   },
   "cell_type": "code",
   "source": [
    "# --- Data Loading ---\n",
    "df_wines = pd.read_csv(\"XWines_Slim_1K_wines.csv\")\n",
    "df_ratings = pd.read_csv(\"XWines_Slim_150K_ratings.csv\")"
   ],
   "id": "fb2d80656ab7cb9e",
   "outputs": [
    {
     "name": "stderr",
     "output_type": "stream",
     "text": [
      "C:\\Users\\vince\\AppData\\Local\\Temp\\ipykernel_18112\\2908224310.py:3: DtypeWarning: Columns (3) have mixed types. Specify dtype option on import or set low_memory=False.\n",
      "  df_ratings = pd.read_csv(\"XWines_Slim_150K_ratings.csv\")\n"
     ]
    }
   ],
   "execution_count": 2
  },
  {
   "metadata": {
    "ExecuteTime": {
     "end_time": "2025-05-07T22:09:56.863782Z",
     "start_time": "2025-05-07T22:09:56.841667Z"
    }
   },
   "cell_type": "code",
   "source": [
    "# --- Train/Test Split FIRST (clearly avoiding leakage) ---\n",
    "train_ratings, test_ratings = train_test_split(df_ratings, test_size=0.2, random_state=42)"
   ],
   "id": "1a461ed394ec805b",
   "outputs": [],
   "execution_count": 3
  },
  {
   "metadata": {
    "ExecuteTime": {
     "end_time": "2025-05-07T22:09:56.885585Z",
     "start_time": "2025-05-07T22:09:56.878357Z"
    }
   },
   "cell_type": "code",
   "source": [
    "# --- Selecting Wines ONLY from Training Data (avoids leakage) ---\n",
    "train_wine_ids = train_ratings['WineID'].unique()\n",
    "df_wines_train = df_wines[df_wines['WineID'].isin(train_wine_ids)].copy().reset_index(drop=True)"
   ],
   "id": "3fcf66ec3510c09a",
   "outputs": [],
   "execution_count": 4
  },
  {
   "metadata": {
    "ExecuteTime": {
     "end_time": "2025-05-07T22:09:56.914120Z",
     "start_time": "2025-05-07T22:09:56.904560Z"
    }
   },
   "cell_type": "code",
   "source": [
    "# --- Text Preprocessing (Lowercase) ---\n",
    "# Standardize all categorical text attributes to lowercase for consistency\n",
    "cols_lowercase = ['WineName', 'Type', 'Elaborate', 'Body', 'Acidity', \n",
    "                  'Country', 'RegionName', 'WineryName']\n",
    "df_wines_train[cols_lowercase] = df_wines_train[cols_lowercase].apply(lambda x: x.str.lower())"
   ],
   "id": "111bd26006741093",
   "outputs": [],
   "execution_count": 5
  },
  {
   "metadata": {
    "ExecuteTime": {
     "end_time": "2025-05-07T22:09:56.944431Z",
     "start_time": "2025-05-07T22:09:56.933959Z"
    }
   },
   "cell_type": "code",
   "source": [
    "# --- List-column Cleaning (Grapes & Harmonize) ---\n",
    "# Clean up columns that represent lists as strings, remove brackets/quotes, and convert to actual Python lists\n",
    "for col in ['Grapes', 'Harmonize']:\n",
    "    df_wines_train[col] = df_wines_train[col].fillna('') \\\n",
    "                         .str.replace(r'[\\[\\]\\']/','',regex=True) \\\n",
    "                         .apply(lambda x: [w.strip().lower() for w in x.split(',') if w.strip()])"
   ],
   "id": "9a1d9b51a5c13226",
   "outputs": [],
   "execution_count": 6
  },
  {
   "metadata": {
    "ExecuteTime": {
     "end_time": "2025-05-07T22:09:56.972456Z",
     "start_time": "2025-05-07T22:09:56.965265Z"
    }
   },
   "cell_type": "code",
   "source": [
    "# --- Numeric Preprocessing (ABV) ---\n",
    "# Normalize numerical ABV (alcohol by volume) feature using StandardScaler (mean=0, variance=1)\n",
    "scaler = StandardScaler()\n",
    "df_wines_train['ABV'] = scaler.fit_transform(df_wines_train[['ABV']].astype(float))"
   ],
   "id": "52c26b0f99d42eae",
   "outputs": [],
   "execution_count": 7
  },
  {
   "metadata": {
    "ExecuteTime": {
     "end_time": "2025-05-07T22:09:56.997532Z",
     "start_time": "2025-05-07T22:09:56.992068Z"
    }
   },
   "cell_type": "code",
   "source": [
    "# --- Preserve original wine data for readable recommendations ---\n",
    "# Save a copy of original wine data attributes for final presentation purposes\n",
    "context_cols=['WineID','WineName','WineryName','Type','Country','RegionName','ABV']\n",
    "df_wines_original = df_wines_train[context_cols].copy()"
   ],
   "id": "64cc6a35862713d9",
   "outputs": [],
   "execution_count": 8
  },
  {
   "metadata": {
    "ExecuteTime": {
     "end_time": "2025-05-07T22:09:57.028448Z",
     "start_time": "2025-05-07T22:09:57.018919Z"
    }
   },
   "cell_type": "code",
   "source": [
    "# --- Categorical Features (One-Hot Encoding) ---\n",
    "# Represent categorical variables using one-hot encoding\n",
    "cat_features = ['Type','Elaborate','Body','Acidity','Country']\n",
    "df_wines_train_encoded = pd.get_dummies(df_wines_train,columns=cat_features)"
   ],
   "id": "54db614f2374b6",
   "outputs": [],
   "execution_count": 9
  },
  {
   "metadata": {
    "ExecuteTime": {
     "end_time": "2025-05-07T22:09:57.069942Z",
     "start_time": "2025-05-07T22:09:57.053583Z"
    }
   },
   "cell_type": "code",
   "source": [
    "# --- TF-IDF Vectorization (Grapes + Harmonize) ---\n",
    "# Create a textual corpus by combining Grapes and Harmonize features\n",
    "corpus = df_wines_train['Grapes'].str.join(' ')+' '+df_wines_train['Harmonize'].str.join(' ')\n",
    "# Vectorize corpus using TF-IDF to capture the uniqueness of terms across wines\n",
    "tfidf_vec = TfidfVectorizer().fit_transform(corpus)"
   ],
   "id": "c4441e0734a230f3",
   "outputs": [],
   "execution_count": 10
  },
  {
   "metadata": {
    "ExecuteTime": {
     "end_time": "2025-05-07T22:09:57.102328Z",
     "start_time": "2025-05-07T22:09:57.096895Z"
    }
   },
   "cell_type": "code",
   "source": [
    "# --- Feature hashing (RegionName) ---\n",
    "# Use FeatureHasher to reduce high-cardinality categorical RegionName variable to 16 hashed features\n",
    "hasher = FeatureHasher(n_features=16,input_type='string',alternate_sign=False)\n",
    "hashed_region = hasher.fit_transform(df_wines_train[['RegionName']].values)"
   ],
   "id": "b3fd0a131089ada0",
   "outputs": [],
   "execution_count": 11
  },
  {
   "metadata": {
    "ExecuteTime": {
     "end_time": "2025-05-07T22:09:57.164696Z",
     "start_time": "2025-05-07T22:09:57.158601Z"
    }
   },
   "cell_type": "code",
   "source": [
    "# --- Combine all features into Sparse Embeddings ---\n",
    "# Identify numeric and encoded categorical features to combine with embeddings\n",
    "non_text_cols = ['ABV'] + [col for col in df_wines_train_encoded if col.startswith(('Type_', 'Elaborate_', 'Body_', 'Acidity_', 'Country_'))]\n",
    "# Convert explicitly to float to ensure correct numeric data types\n",
    "numeric_sparse = csr_matrix(df_wines_train_encoded[non_text_cols].astype(float).values)"
   ],
   "id": "422029c1801ec3d5",
   "outputs": [],
   "execution_count": 12
  },
  {
   "metadata": {
    "ExecuteTime": {
     "end_time": "2025-05-07T22:09:57.188998Z",
     "start_time": "2025-05-07T22:09:57.167694Z"
    }
   },
   "cell_type": "code",
   "source": [
    "\n",
    "# Combine numeric, TF-IDF text vectors, and hashed region vectors into a single sparse embedding vector\n",
    "combined_train_sparse = hstack([numeric_sparse, tfidf_vec, hashed_region])\n",
    "\n",
    "# --- Compute Similarity Matrix (Training Only) ---\n",
    "# Calculate pairwise cosine similarity among wines based on embeddings\n",
    "similarity_train = cosine_similarity(combined_train_sparse)\n",
    "similarity_df_train = pd.DataFrame(similarity_train,\n",
    "                                   index=df_wines_train['WineID'],\n",
    "                                   columns=df_wines_train['WineID'])"
   ],
   "id": "677514bd846072",
   "outputs": [],
   "execution_count": 13
  },
  {
   "metadata": {
    "ExecuteTime": {
     "end_time": "2025-05-07T22:09:57.221930Z",
     "start_time": "2025-05-07T22:09:57.217043Z"
    }
   },
   "cell_type": "code",
   "source": [
    "# --- Predict Rating (User-Based via Similarity) ---\n",
    "# Predict rating for a given user and wine based on similarity-weighted ratings from the user's history\n",
    "def predict_rating(user_id, wine_id, train_ratings, similarity_df, global_mean):\n",
    "    user_history = train_ratings[train_ratings.UserID == user_id]\n",
    "    rated_wines = user_history['WineID'][user_history['WineID'].isin(similarity_df.index)]\n",
    "    if rated_wines.empty or wine_id not in similarity_df.index:\n",
    "        return global_mean\n",
    "    similarities = similarity_df.loc[wine_id, rated_wines]\n",
    "    if similarities.abs().sum() == 0:\n",
    "        return global_mean\n",
    "    ratings = user_history.set_index('WineID').loc[similarities.index]['Rating']\n",
    "    return np.dot(ratings, similarities) / similarities.abs().sum()"
   ],
   "id": "b82b1bf55cdd2333",
   "outputs": [],
   "execution_count": 14
  },
  {
   "metadata": {
    "ExecuteTime": {
     "end_time": "2025-05-07T22:10:45.241401Z",
     "start_time": "2025-05-07T22:09:57.252719Z"
    }
   },
   "cell_type": "code",
   "source": [
    "from numpy import sqrt\n",
    "\n",
    "\n",
    "# --- Evaluation Function ---\n",
    "def evaluate(test_ratings, train_ratings, similarity_df):\n",
    "    global_mean = train_ratings['Rating'].mean()\n",
    "    y_true, y_pred = [], []\n",
    "    for _,r in tqdm(test_ratings.iterrows(),total=len(test_ratings)):\n",
    "        pred = predict_rating(r.UserID,r.WineID,train_ratings,similarity_df,global_mean)\n",
    "        y_true.append(r.Rating)\n",
    "        y_pred.append(pred)\n",
    "    rmse = sqrt(mean_squared_error(y_true,y_pred))\n",
    "    mae = mean_absolute_error(y_true,y_pred)\n",
    "    return rmse, mae\n",
    "\n",
    "rmse, mae = evaluate(test_ratings,train_ratings,similarity_df_train)\n",
    "print(f\" RMSE: {rmse:.4f}\\n MAE: {mae:.4f}\")"
   ],
   "id": "329684cee709b0ee",
   "outputs": [
    {
     "name": "stderr",
     "output_type": "stream",
     "text": [
      "100%|██████████| 30000/30000 [00:47<00:00, 625.37it/s]"
     ]
    },
    {
     "name": "stdout",
     "output_type": "stream",
     "text": [
      " RMSE: 0.6217\n",
      " MAE: 0.4694\n"
     ]
    },
    {
     "name": "stderr",
     "output_type": "stream",
     "text": [
      "\n"
     ]
    }
   ],
   "execution_count": 15
  },
  {
   "metadata": {
    "ExecuteTime": {
     "end_time": "2025-05-07T22:10:45.281497Z",
     "start_time": "2025-05-07T22:10:45.275516Z"
    }
   },
   "cell_type": "code",
   "source": [
    "# --- Evaluation Function (RMSE & MAE) ---\n",
    "# Evaluate recommendation predictions on the test set using RMSE and MAE\n",
    "def evaluate(test_ratings, train_ratings, similarity_df):\n",
    "    global_mean = train_ratings['Rating'].mean()\n",
    "    y_true, y_pred = [], []\n",
    "    for _,r in tqdm(test_ratings.iterrows(),total=len(test_ratings)):\n",
    "        pred = predict_rating(r.UserID,r.WineID,train_ratings,similarity_df,global_mean)\n",
    "        y_true.append(r.Rating)\n",
    "        y_pred.append(pred)\n",
    "    rmse = np.sqrt(mean_squared_error(y_true,y_pred))\n",
    "    mae = mean_absolute_error(y_true,y_pred)\n",
    "    return rmse, mae"
   ],
   "id": "c4be0ec462b9457a",
   "outputs": [],
   "execution_count": 16
  },
  {
   "metadata": {
    "ExecuteTime": {
     "end_time": "2025-05-07T22:11:28.082261Z",
     "start_time": "2025-05-07T22:10:45.313718Z"
    }
   },
   "cell_type": "code",
   "source": [
    "# Execute evaluation and display performance results\n",
    "rmse, mae = evaluate(test_ratings,train_ratings,similarity_df_train)\n",
    "print(f\" RMSE: {rmse:.4f}\\n MAE: {mae:.4f}\")"
   ],
   "id": "22363d2b3219af7",
   "outputs": [
    {
     "name": "stderr",
     "output_type": "stream",
     "text": [
      "100%|██████████| 30000/30000 [00:42<00:00, 701.67it/s]"
     ]
    },
    {
     "name": "stdout",
     "output_type": "stream",
     "text": [
      " RMSE: 0.6217\n",
      " MAE: 0.4694\n"
     ]
    },
    {
     "name": "stderr",
     "output_type": "stream",
     "text": [
      "\n"
     ]
    }
   ],
   "execution_count": 17
  },
  {
   "metadata": {
    "ExecuteTime": {
     "end_time": "2025-05-07T22:11:28.238446Z",
     "start_time": "2025-05-07T22:11:28.233154Z"
    }
   },
   "cell_type": "code",
   "source": [
    "# --- Recommendation (Item-to-Item) ---\n",
    "# Function recommending similar wines based on cosine similarity scores\n",
    "def get_recommendation(wine_id, similarity_df,df_wines_original,num_recs=5):\n",
    "    if wine_id not in similarity_df.index:\n",
    "        return pd.DataFrame()\n",
    "    similar = similarity_df[wine_id].sort_values(ascending=False).drop(wine_id).head(num_recs).reset_index()\n",
    "    similar.columns=['WineID','Similarity']\n",
    "    return pd.merge(similar,df_wines_original[['WineID', 'Type', 'Country']], on='WineID', how='left')"
   ],
   "id": "6b41d6aadddc4991",
   "outputs": [],
   "execution_count": 18
  },
  {
   "metadata": {
    "ExecuteTime": {
     "end_time": "2025-05-07T22:11:28.283766Z",
     "start_time": "2025-05-07T22:11:28.273567Z"
    }
   },
   "cell_type": "code",
   "source": [
    "# Example usage of function: Provide similar wines for user-selected wine\n",
    "example_wine_id=train_ratings['WineID'].iloc[0]\n",
    "recommendations=get_recommendation(example_wine_id,similarity_df_train,df_wines_original)\n",
    "\n",
    "print(f\"Item-to-item recommendations for WineID {example_wine_id}\\n{recommendations}\")"
   ],
   "id": "47371f6994c8cb1e",
   "outputs": [
    {
     "name": "stdout",
     "output_type": "stream",
     "text": [
      "Item-to-item recommendations for WineID 193486\n",
      "   WineID  Similarity   Type      Country\n",
      "0  193487    1.000000  white  new zealand\n",
      "1  193484    1.000000  white  new zealand\n",
      "2  193482    0.999935  white  new zealand\n",
      "3  193499    0.998375  white  new zealand\n",
      "4  193489    0.998375  white  new zealand\n"
     ]
    }
   ],
   "execution_count": 19
  },
  {
   "metadata": {
    "ExecuteTime": {
     "end_time": "2025-05-07T22:11:28.323150Z",
     "start_time": "2025-05-07T22:11:28.317758Z"
    }
   },
   "cell_type": "code",
   "source": [
    "# --- Popular Wines utility (Cold-Start Recommendations) ---\n",
    "# Identify most popular/highly-rated wines in training data, useful for cold-start recommendations\n",
    "def popular_wines(train_ratings, df_wines_original, n=5, min_ratings=10):\n",
    "    popular = train_ratings.groupby('WineID')['Rating'].agg(['mean', 'count'])\n",
    "    popular = popular[popular['count'] >= min_ratings].sort_values('mean',ascending=False).head(n)\n",
    "    return df_wines_original.loc[\n",
    "        df_wines_original['WineID'].isin(popular.index), ['WineID', 'Type', 'Country']\n",
    "    ]"
   ],
   "id": "3fbff6472b7df25",
   "outputs": [],
   "execution_count": 20
  },
  {
   "metadata": {
    "ExecuteTime": {
     "end_time": "2025-05-07T22:11:28.369774Z",
     "start_time": "2025-05-07T22:11:28.355608Z"
    }
   },
   "cell_type": "code",
   "source": [
    "# Display example popular wine recommendations\n",
    "popular=popular_wines(train_ratings,df_wines_original)\n",
    "print(f\"Popular wines for cold-start recommendations:\\n{popular}\")"
   ],
   "id": "38a347cb87a943e6",
   "outputs": [
    {
     "name": "stdout",
     "output_type": "stream",
     "text": [
      "Popular wines for cold-start recommendations:\n",
      "     WineID       Type        Country\n",
      "258  112084  sparkling         france\n",
      "481  144337    dessert          italy\n",
      "716  174184        red      australia\n",
      "806  180330        red  united states\n",
      "833  183379        red  united states\n"
     ]
    }
   ],
   "execution_count": 21
  }
 ],
 "metadata": {
  "kernelspec": {
   "display_name": "Python 3",
   "language": "python",
   "name": "python3"
  },
  "language_info": {
   "codemirror_mode": {
    "name": "ipython",
    "version": 2
   },
   "file_extension": ".py",
   "mimetype": "text/x-python",
   "name": "python",
   "nbconvert_exporter": "python",
   "pygments_lexer": "ipython2",
   "version": "2.7.6"
  }
 },
 "nbformat": 4,
 "nbformat_minor": 5
}

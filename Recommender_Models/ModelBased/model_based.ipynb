{
 "cells": [
  {
   "cell_type": "markdown",
   "id": "96787365",
   "metadata": {},
   "source": [
    "# Model-Based recommender system\n",
    "## Plan\n",
    "* Dataset of WineID,UserID,Rating\n",
    "* Train using MF(SVD)\n",
    "* Hyperparameter optimization\n",
    "* Evaluate"
   ]
  },
  {
   "cell_type": "code",
   "execution_count": 1,
   "id": "23a81cfd",
   "metadata": {},
   "outputs": [],
   "source": [
    "# Imports\n",
    "import pandas as pd\n",
    "import matplotlib.pyplot as plt\n",
    "import seaborn as sns\n",
    "\n",
    "from sklearn.metrics import mean_squared_error, mean_absolute_error, root_mean_squared_error\n",
    "from surprise import SVD, Dataset, Reader\n",
    "\n"
   ]
  },
  {
   "cell_type": "code",
   "execution_count": 2,
   "id": "09271dce",
   "metadata": {},
   "outputs": [],
   "source": [
    "# Data loading\n",
    "base_path = '..\\..\\data\\main'\n",
    "\n",
    "train = pd.read_csv(f'{base_path}\\\\trainset.csv', usecols=['UserID', 'WineID', 'Rating'])\n",
    "test_uwarm_iwarm = pd.read_csv(f'{base_path}\\\\testset_warm_user_warm_item.csv', usecols=['RatingID', 'UserID', 'WineID', 'Rating'])\n",
    "test_uwarm_icold = pd.read_csv(f'{base_path}\\\\testset_warm_user_cold_item.csv', usecols=['RatingID', 'UserID', 'WineID', 'Rating'])\n",
    "test_ucold_iwarm = pd.read_csv(f'{base_path}\\\\testset_cold_user_warm_item.csv', usecols=['RatingID', 'UserID', 'WineID', 'Rating'])\n",
    "test_ucold_icold = pd.read_csv(f'{base_path}\\\\testset_cold_user_cold_item.csv', usecols=['RatingID', 'UserID', 'WineID', 'Rating'])"
   ]
  },
  {
   "cell_type": "code",
   "execution_count": 3,
   "id": "c551542c",
   "metadata": {},
   "outputs": [
    {
     "name": "stdout",
     "output_type": "stream",
     "text": [
      "Train set shape: (16917894, 3)\n",
      "Test set shape (warm user, warm item): (2036778, 4)\n",
      "Test set shape (warm user, cold item): (35456, 4)\n",
      "Test set shape (cold user, warm item): (506800, 4)\n",
      "Test set shape (cold user, cold item): (16504, 4)\n"
     ]
    }
   ],
   "source": [
    "print('Train set shape:', train.shape)\n",
    "print('Test set shape (warm user, warm item):', test_uwarm_iwarm.shape)\n",
    "print('Test set shape (warm user, cold item):', test_uwarm_icold.shape)\n",
    "print('Test set shape (cold user, warm item):', test_ucold_iwarm.shape)\n",
    "print('Test set shape (cold user, cold item):', test_ucold_icold.shape)"
   ]
  },
  {
   "cell_type": "markdown",
   "id": "fdded934",
   "metadata": {},
   "source": [
    "## SVD using Surprise library"
   ]
  },
  {
   "cell_type": "code",
   "execution_count": 4,
   "id": "3ec1e8f5",
   "metadata": {},
   "outputs": [],
   "source": [
    "# Here we use only raw data since Surprise handles the encoding internally\n",
    "\n",
    "# For train: convert to Surprise format\n",
    "reader = Reader(rating_scale=(1, 5))\n",
    "train_data = Dataset.load_from_df(train[['UserID', 'WineID', 'Rating']], reader)\n",
    "train_surprise = train_data.build_full_trainset()\n",
    "\n",
    "# For test: convert to Surprise format\n",
    "test_uwarm_iwarm_surprise = list(test_uwarm_iwarm[['UserID', 'WineID', 'Rating']].itertuples(index=False, name=None))\n",
    "test_uwarm_icold_surprise = list(test_uwarm_icold[['UserID', 'WineID', 'Rating']].itertuples(index=False, name=None))\n",
    "test_ucold_iwarm_surprise = list(test_ucold_iwarm[['UserID', 'WineID', 'Rating']].itertuples(index=False, name=None))\n",
    "test_ucold_icold_surprise = list(test_ucold_icold[['UserID', 'WineID', 'Rating']].itertuples(index=False, name=None))"
   ]
  },
  {
   "cell_type": "code",
   "execution_count": 5,
   "id": "eb3186b7",
   "metadata": {},
   "outputs": [
    {
     "name": "stdout",
     "output_type": "stream",
     "text": [
      "SVD Results:\n",
      "MSE (warm user, warm item): 0.3198472927282139\n",
      "RMSE (warm user, warm item): 0.5655504334082098\n",
      "MAE (warm user, warm item): 0.412036745658953\n",
      "--------------------------------------------------\n",
      "MSE (warm user, cold item): 0.41533766974870867\n",
      "RMSE (warm user, cold item): 0.644466965599253\n",
      "MAE (warm user, cold item): 0.47336789039746074\n",
      "--------------------------------------------------\n",
      "MSE (cold user, warm item): 0.44334311057386555\n",
      "RMSE (cold user, warm item): 0.6658401539212437\n",
      "MAE (cold user, warm item): 0.49323154327054913\n",
      "--------------------------------------------------\n",
      "MSE (cold user, cold item): 0.5983717312186697\n",
      "RMSE (cold user, cold item): 0.7735449122182045\n",
      "MAE (cold user, cold item): 0.574148821209833\n"
     ]
    }
   ],
   "source": [
    "# Train SVD\n",
    "model = SVD()\n",
    "model.fit(train_surprise)\n",
    "\n",
    "# Predict ratings for test sets\n",
    "pred_uwarm_iwarm = model.test(test_uwarm_iwarm_surprise)\n",
    "pred_uwarm_icold = model.test(test_uwarm_icold_surprise)\n",
    "pred_ucold_iwarm = model.test(test_ucold_iwarm_surprise)\n",
    "pred_ucold_icold = model.test(test_ucold_icold_surprise)\n",
    "\n",
    "# Predicted ratings\n",
    "pred_uwarm_iwarm = [pred.est for pred in pred_uwarm_iwarm]\n",
    "pred_uwarm_icold = [pred.est for pred in pred_uwarm_icold]\n",
    "pred_ucold_iwarm = [pred.est for pred in pred_ucold_iwarm]\n",
    "pred_ucold_icold = [pred.est for pred in pred_ucold_icold]\n",
    "\n",
    "# Save predictions with RatingID\n",
    "test_uwarm_iwarm['Prediction'] = pred_uwarm_iwarm\n",
    "test_uwarm_icold['Prediction'] = pred_uwarm_icold\n",
    "test_ucold_iwarm['Prediction'] = pred_ucold_iwarm\n",
    "test_ucold_icold['Prediction'] = pred_ucold_icold\n",
    "\n",
    "# Write predictions to CSV\n",
    "test_uwarm_iwarm.to_csv(f'{base_path}\\\\svd\\\\svd_warm_user_warm_item.csv', index=False, columns=['RatingID', 'Prediction'], header=['RatingID', 'Rating'])\n",
    "test_uwarm_icold.to_csv(f'{base_path}\\\\svd\\\\svd_warm_user_cold_item.csv', index=False, columns=['RatingID', 'Prediction'], header=['RatingID', 'Rating'])\n",
    "test_ucold_iwarm.to_csv(f'{base_path}\\\\svd\\\\svd_cold_user_warm_item.csv', index=False, columns=['RatingID', 'Prediction'], header=['RatingID', 'Rating'])\n",
    "test_ucold_icold.to_csv(f'{base_path}\\\\svd\\\\svd_cold_user_cold_item.csv', index=False, columns=['RatingID', 'Prediction'], header=['RatingID', 'Rating'])\n",
    "\n",
    "# Evaluate MSE\n",
    "mse_uwarm_iwarm = mean_squared_error(test_uwarm_iwarm['Rating'], pred_uwarm_iwarm)\n",
    "mse_uwarm_icold = mean_squared_error(test_uwarm_icold['Rating'], pred_uwarm_icold)\n",
    "mse_ucold_iwarm = mean_squared_error(test_ucold_iwarm['Rating'], pred_ucold_iwarm)\n",
    "mse_ucold_icold = mean_squared_error(test_ucold_icold['Rating'], pred_ucold_icold)\n",
    "\n",
    "# Evaluate RMSE\n",
    "rmse_uwarm_iwarm = root_mean_squared_error(test_uwarm_iwarm['Rating'], pred_uwarm_iwarm)\n",
    "rmse_uwarm_icold = root_mean_squared_error(test_uwarm_icold['Rating'], pred_uwarm_icold)\n",
    "rmse_ucold_iwarm = root_mean_squared_error(test_ucold_iwarm['Rating'], pred_ucold_iwarm)\n",
    "rmse_ucold_icold = root_mean_squared_error(test_ucold_icold['Rating'], pred_ucold_icold)\n",
    "\n",
    "\n",
    "# Evaluate MAE\n",
    "mae_uwarm_iwarm = mean_absolute_error(test_uwarm_iwarm['Rating'], pred_uwarm_iwarm)\n",
    "mae_uwarm_icold = mean_absolute_error(test_uwarm_icold['Rating'], pred_uwarm_icold)\n",
    "mae_ucold_iwarm = mean_absolute_error(test_ucold_iwarm['Rating'], pred_ucold_iwarm)\n",
    "mae_ucold_icold = mean_absolute_error(test_ucold_icold['Rating'], pred_ucold_icold)\n",
    "\n",
    "\n",
    "# Print results\n",
    "print('SVD Results:')\n",
    "print('MSE (warm user, warm item):', mse_uwarm_iwarm)\n",
    "print('RMSE (warm user, warm item):', rmse_uwarm_iwarm)\n",
    "print('MAE (warm user, warm item):', mae_uwarm_iwarm)\n",
    "print('-' * 50)\n",
    "print('MSE (warm user, cold item):', mse_uwarm_icold)\n",
    "print('RMSE (warm user, cold item):', rmse_uwarm_icold)\n",
    "print('MAE (warm user, cold item):', mae_uwarm_icold)\n",
    "print('-' * 50)\n",
    "print('MSE (cold user, warm item):', mse_ucold_iwarm)\n",
    "print('RMSE (cold user, warm item):', rmse_ucold_iwarm)\n",
    "print('MAE (cold user, warm item):', mae_ucold_iwarm)\n",
    "print('-' * 50)\n",
    "print('MSE (cold user, cold item):', mse_ucold_icold)\n",
    "print('RMSE (cold user, cold item):', rmse_ucold_icold)\n",
    "print('MAE (cold user, cold item):', mae_ucold_icold)\n"
   ]
  }
 ],
 "metadata": {
  "kernelspec": {
   "display_name": "webmining",
   "language": "python",
   "name": "python3"
  },
  "language_info": {
   "codemirror_mode": {
    "name": "ipython",
    "version": 3
   },
   "file_extension": ".py",
   "mimetype": "text/x-python",
   "name": "python",
   "nbconvert_exporter": "python",
   "pygments_lexer": "ipython3",
   "version": "3.11.9"
  }
 },
 "nbformat": 4,
 "nbformat_minor": 5
}

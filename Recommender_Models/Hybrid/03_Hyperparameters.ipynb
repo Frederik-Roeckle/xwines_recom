{
 "cells": [
  {
   "cell_type": "code",
   "execution_count": 5,
   "id": "08811589",
   "metadata": {},
   "outputs": [],
   "source": [
    "\n",
    "import pandas as pd\n",
    "import pickle\n",
    "import numpy as np\n",
    "\n",
    "# Training and evaluation\n",
    "import optuna\n",
    "import lightgbm as lgb\n",
    "import xgboost as xgb\n",
    "from scipy.sparse import load_npz\n",
    "from sklearn.metrics import mean_squared_error\n",
    "\n",
    "base_path = '..\\..\\..\\data\\main'"
   ]
  },
  {
   "cell_type": "code",
   "execution_count": 14,
   "id": "093eed23",
   "metadata": {},
   "outputs": [],
   "source": [
    "test_uwarm_iwarm = pd.read_csv(f'{base_path}\\\\testset_warm_user_warm_item.csv', usecols=['RatingID', 'UserID', 'WineID', 'Rating'])\n",
    "test_uwarm_icold = pd.read_csv(f'{base_path}\\\\testset_warm_user_cold_item.csv', usecols=['RatingID', 'UserID', 'WineID', 'Rating'])\n",
    "test_ucold_iwarm = pd.read_csv(f'{base_path}\\\\testset_cold_user_warm_item.csv', usecols=['RatingID', 'UserID', 'WineID', 'Rating'])\n",
    "test_ucold_icold = pd.read_csv(f'{base_path}\\\\testset_cold_user_cold_item.csv', usecols=['RatingID', 'UserID', 'WineID', 'Rating'])"
   ]
  },
  {
   "cell_type": "code",
   "execution_count": 11,
   "id": "2b3cb141",
   "metadata": {},
   "outputs": [],
   "source": [
    "# # Load transformed data from npz\n",
    "X_train_transformed = load_npz(f'{base_path}\\\\preprocessed\\\\X_train_transformed.npz')\n",
    "X_val_transformed = load_npz(f'{base_path}\\\\preprocessed\\\\X_val_transformed.npz')\n",
    "X_test_uwarm_iwarm_transformed = load_npz(f'{base_path}\\\\preprocessed\\\\X_test_uwarm_iwarm_transformed.npz')\n",
    "X_test_uwarm_icold_transformed = load_npz(f'{base_path}\\\\preprocessed\\\\X_test_uwarm_icold_transformed.npz')\n",
    "X_test_ucold_iwarm_transformed = load_npz(f'{base_path}\\\\preprocessed\\\\X_test_ucold_iwarm_transformed.npz')\n",
    "X_test_ucold_icold_transformed = load_npz(f'{base_path}\\\\preprocessed\\\\X_test_ucold_icold_transformed.npz')\n",
    "\n",
    "# # Load target variables\n",
    "y_train = pd.read_csv(f'{base_path}\\\\preprocessed\\\\y_train.csv')\n",
    "y_val = pd.read_csv(f'{base_path}\\\\preprocessed\\\\y_val.csv')\n",
    "y_test_uwarm_iwarm = pd.read_csv(f'{base_path}\\\\preprocessed\\\\y_test_uwarm_iwarm.csv')\n",
    "y_test_uwarm_icold = pd.read_csv(f'{base_path}\\\\preprocessed\\\\y_test_uwarm_icold.csv')\n",
    "y_test_ucold_iwarm = pd.read_csv(f'{base_path}\\\\preprocessed\\\\y_test_ucold_iwarm.csv')\n",
    "y_test_ucold_icold = pd.read_csv(f'{base_path}\\\\preprocessed\\\\y_test_ucold_icold.csv')"
   ]
  },
  {
   "cell_type": "markdown",
   "id": "d188bad9",
   "metadata": {},
   "source": [
    "# LightGBM"
   ]
  },
  {
   "cell_type": "code",
   "execution_count": null,
   "id": "981ddbdf",
   "metadata": {},
   "outputs": [],
   "source": [
    "import pickle\n",
    "# LGBM tuning\n",
    "\n",
    "def objective(trial):\n",
    "    params = {\n",
    "        \"objective\": \"regression\",\n",
    "        \"metric\": \"mse\",\n",
    "        \"boosting_type\": \"gbdt\",\n",
    "        \"verbosity\": -1,\n",
    "        \"learning_rate\": trial.suggest_float(\"learning_rate\", 0.01, 0.2),\n",
    "        \"num_leaves\": trial.suggest_int(\"num_leaves\", 30, 300),\n",
    "        \"max_depth\": trial.suggest_int(\"max_depth\", 3, 16),\n",
    "        \"feature_fraction\": trial.suggest_float(\"feature_fraction\", 0.6, 1.0),\n",
    "        \"bagging_fraction\": trial.suggest_float(\"bagging_fraction\", 0.6, 1.0),\n",
    "        \"lambda_l1\": trial.suggest_float(\"lambda_l1\", 0.0, 10.0),\n",
    "        \"lambda_l2\": trial.suggest_float(\"lambda_l2\", 0.0, 10.0),\n",
    "    }\n",
    "\n",
    "    lgb_train = lgb.Dataset(X_train_transformed, y_train)\n",
    "    lgb_valid = lgb.Dataset(X_val_transformed, y_val, reference=lgb_train)\n",
    "\n",
    "    model = lgb.train(params, lgb_train,\n",
    "                      valid_sets=[lgb_valid],\n",
    "                      callbacks=[lgb.early_stopping(stopping_rounds=50), lgb.log_evaluation(period=0)],\n",
    "                    )\n",
    "    preds = model.predict(X_val_transformed)\n",
    "    return mean_squared_error(y_val, preds) \n",
    "\n",
    "study = optuna.create_study(direction=\"minimize\")\n",
    "study.optimize(objective, n_trials=50)  # 1 hour\n",
    "\n",
    "# Save the best model to pkl\n",
    "with open(f'{base_path}\\\\lightgbm\\\\lgbm_model.pkl', 'wb') as f:\n",
    "    pickle.dump(study, f)\n",
    "    \n",
    "best_model = lgb.LGBMRegressor(**study.best_params)\n"
   ]
  },
  {
   "cell_type": "code",
   "execution_count": 12,
   "id": "d20d7d89",
   "metadata": {},
   "outputs": [],
   "source": [
    "# Load the best model from pkl\n",
    "with open(f'{base_path}\\\\lightgbm\\\\lgbm_model.pkl', 'rb') as f:\n",
    "    best_model = pickle.load(f)"
   ]
  },
  {
   "cell_type": "code",
   "execution_count": 15,
   "id": "61515d1a",
   "metadata": {},
   "outputs": [
    {
     "name": "stderr",
     "output_type": "stream",
     "text": [
      "c:\\Users\\Denis\\envs\\webmining\\Lib\\site-packages\\sklearn\\utils\\validation.py:1408: DataConversionWarning: A column-vector y was passed when a 1d array was expected. Please change the shape of y to (n_samples, ), for example using ravel().\n",
      "  y = column_or_1d(y, warn=True)\n"
     ]
    },
    {
     "name": "stdout",
     "output_type": "stream",
     "text": [
      "[LightGBM] [Warning] feature_fraction is set=0.8097140286131668, colsample_bytree=1.0 will be ignored. Current value: feature_fraction=0.8097140286131668\n",
      "[LightGBM] [Warning] lambda_l1 is set=1.046040620381623, reg_alpha=0.0 will be ignored. Current value: lambda_l1=1.046040620381623\n",
      "[LightGBM] [Warning] lambda_l2 is set=7.041416588234524, reg_lambda=0.0 will be ignored. Current value: lambda_l2=7.041416588234524\n",
      "[LightGBM] [Warning] bagging_fraction is set=0.8737349843116362, subsample=1.0 will be ignored. Current value: bagging_fraction=0.8737349843116362\n",
      "[LightGBM] [Warning] feature_fraction is set=0.8097140286131668, colsample_bytree=1.0 will be ignored. Current value: feature_fraction=0.8097140286131668\n",
      "[LightGBM] [Warning] lambda_l1 is set=1.046040620381623, reg_alpha=0.0 will be ignored. Current value: lambda_l1=1.046040620381623\n",
      "[LightGBM] [Warning] lambda_l2 is set=7.041416588234524, reg_lambda=0.0 will be ignored. Current value: lambda_l2=7.041416588234524\n",
      "[LightGBM] [Warning] bagging_fraction is set=0.8737349843116362, subsample=1.0 will be ignored. Current value: bagging_fraction=0.8737349843116362\n",
      "[LightGBM] [Info] Auto-choosing row-wise multi-threading, the overhead of testing was 8.770508 seconds.\n",
      "You can set `force_row_wise=true` to remove the overhead.\n",
      "And if memory is not enough, you can set `force_col_wise=true`.\n",
      "[LightGBM] [Info] Total Bins 2963\n",
      "[LightGBM] [Info] Number of data points in the train set: 13534315, number of used features: 753\n",
      "[LightGBM] [Info] Start training from score 3.858934\n",
      "[LightGBM] [Warning] No further splits with positive gain, best gain: -inf\n",
      "[LightGBM] [Warning] No further splits with positive gain, best gain: -inf\n"
     ]
    },
    {
     "name": "stderr",
     "output_type": "stream",
     "text": [
      "c:\\Users\\Denis\\envs\\webmining\\Lib\\site-packages\\sklearn\\utils\\validation.py:2739: UserWarning: X does not have valid feature names, but LGBMRegressor was fitted with feature names\n",
      "  warnings.warn(\n"
     ]
    },
    {
     "name": "stdout",
     "output_type": "stream",
     "text": [
      "[LightGBM] [Warning] feature_fraction is set=0.8097140286131668, colsample_bytree=1.0 will be ignored. Current value: feature_fraction=0.8097140286131668\n",
      "[LightGBM] [Warning] lambda_l1 is set=1.046040620381623, reg_alpha=0.0 will be ignored. Current value: lambda_l1=1.046040620381623\n",
      "[LightGBM] [Warning] lambda_l2 is set=7.041416588234524, reg_lambda=0.0 will be ignored. Current value: lambda_l2=7.041416588234524\n",
      "[LightGBM] [Warning] bagging_fraction is set=0.8737349843116362, subsample=1.0 will be ignored. Current value: bagging_fraction=0.8737349843116362\n",
      "[LightGBM] [Warning] feature_fraction is set=0.8097140286131668, colsample_bytree=1.0 will be ignored. Current value: feature_fraction=0.8097140286131668\n",
      "[LightGBM] [Warning] lambda_l1 is set=1.046040620381623, reg_alpha=0.0 will be ignored. Current value: lambda_l1=1.046040620381623\n",
      "[LightGBM] [Warning] lambda_l2 is set=7.041416588234524, reg_lambda=0.0 will be ignored. Current value: lambda_l2=7.041416588234524\n",
      "[LightGBM] [Warning] bagging_fraction is set=0.8737349843116362, subsample=1.0 will be ignored. Current value: bagging_fraction=0.8737349843116362\n",
      "[LightGBM] [Warning] feature_fraction is set=0.8097140286131668, colsample_bytree=1.0 will be ignored. Current value: feature_fraction=0.8097140286131668\n",
      "[LightGBM] [Warning] lambda_l1 is set=1.046040620381623, reg_alpha=0.0 will be ignored. Current value: lambda_l1=1.046040620381623\n",
      "[LightGBM] [Warning] lambda_l2 is set=7.041416588234524, reg_lambda=0.0 will be ignored. Current value: lambda_l2=7.041416588234524\n",
      "[LightGBM] [Warning] bagging_fraction is set=0.8737349843116362, subsample=1.0 will be ignored. Current value: bagging_fraction=0.8737349843116362\n",
      "[LightGBM] [Warning] feature_fraction is set=0.8097140286131668, colsample_bytree=1.0 will be ignored. Current value: feature_fraction=0.8097140286131668\n",
      "[LightGBM] [Warning] lambda_l1 is set=1.046040620381623, reg_alpha=0.0 will be ignored. Current value: lambda_l1=1.046040620381623\n",
      "[LightGBM] [Warning] lambda_l2 is set=7.041416588234524, reg_lambda=0.0 will be ignored. Current value: lambda_l2=7.041416588234524\n",
      "[LightGBM] [Warning] bagging_fraction is set=0.8737349843116362, subsample=1.0 will be ignored. Current value: bagging_fraction=0.8737349843116362\n"
     ]
    }
   ],
   "source": [
    "# Train the loaded best model and predict\n",
    "model = lgb.LGBMRegressor(**best_model.best_params)\n",
    "\n",
    "model.fit(X_train_transformed, y_train)\n",
    "y_pred_uwarm_iwarm = model.predict(X_test_uwarm_iwarm_transformed)\n",
    "y_pred_uwarm_icold = model.predict(X_test_uwarm_icold_transformed)\n",
    "y_pred_ucold_iwarm = model.predict(X_test_ucold_iwarm_transformed)\n",
    "y_pred_ucold_icold = model.predict(X_test_ucold_icold_transformed)\n"
   ]
  },
  {
   "cell_type": "code",
   "execution_count": 16,
   "id": "6fd9f424",
   "metadata": {},
   "outputs": [],
   "source": [
    "# Save the predictions as RatingID, PredictedRating\n",
    "\n",
    "# Warm user warm item\n",
    "result_uwarm_iwarm = pd.DataFrame({\n",
    "    'RatingID': test_uwarm_iwarm['RatingID'],\n",
    "    'Rating': y_pred_uwarm_iwarm\n",
    "})\n",
    "result_uwarm_iwarm.to_csv(\n",
    "    f'{base_path}\\\\lightgbm\\\\lightgbm_warm_user_warm_item.csv', \n",
    "    index=False, \n",
    "    header=['RatingID', 'Rating']\n",
    ")\n",
    "# Warm user cold item\n",
    "result_uwarm_icold = pd.DataFrame({\n",
    "    'RatingID': test_uwarm_icold['RatingID'],\n",
    "    'Rating': y_pred_uwarm_icold\n",
    "})\n",
    "result_uwarm_icold.to_csv(\n",
    "    f'{base_path}\\\\lightgbm\\\\lightgbm_warm_user_cold_item.csv', \n",
    "    index=False, \n",
    "    header=['RatingID', 'Rating']\n",
    ")\n",
    "# Cold user warm item\n",
    "result_ucold_iwarm = pd.DataFrame({\n",
    "    'RatingID': test_ucold_iwarm['RatingID'],\n",
    "    'Rating': y_pred_ucold_iwarm\n",
    "})\n",
    "result_ucold_iwarm.to_csv(\n",
    "    f'{base_path}\\\\lightgbm\\\\lightgbm_cold_user_warm_item.csv', \n",
    "    index=False, \n",
    "    header=['RatingID', 'Rating']\n",
    ")\n",
    "# Cold user cold item\n",
    "result_ucold_icold = pd.DataFrame({\n",
    "    'RatingID': test_ucold_icold['RatingID'],\n",
    "    'Rating': y_pred_ucold_icold\n",
    "})\n",
    "result_ucold_icold.to_csv(\n",
    "    f'{base_path}\\\\lightgbm\\\\lightgbm_cold_user_cold_item.csv', \n",
    "    index=False, \n",
    "    header=['RatingID', 'Rating']\n",
    ")"
   ]
  },
  {
   "cell_type": "markdown",
   "id": "a701d19a",
   "metadata": {},
   "source": [
    "# XGBoost"
   ]
  },
  {
   "cell_type": "code",
   "execution_count": null,
   "id": "ec502114",
   "metadata": {},
   "outputs": [],
   "source": [
    "# Hyperparameter tuning for XGBoost\n",
    "def objective_xgb(trial):\n",
    "    params = {\n",
    "        \"objective\": \"reg:squarederror\",\n",
    "        \"eval_metric\": \"rmse\",\n",
    "        \"seed\": 42,\n",
    "        \"learning_rate\": trial.suggest_float(\"learning_rate\", 0.01, 0.2),\n",
    "        \"max_depth\": trial.suggest_int(\"max_depth\", 3, 16),\n",
    "        \"min_child_weight\": trial.suggest_int(\"min_child_weight\", 1, 10),\n",
    "        \"subsample\": trial.suggest_float(\"subsample\", 0.6, 1.0),\n",
    "        \"colsample_bytree\": trial.suggest_float(\"colsample_bytree\", 0.6, 1.0),\n",
    "        \"lambda\": trial.suggest_float(\"lambda\", 0.0, 10.0),\n",
    "        \"alpha\": trial.suggest_float(\"alpha\", 0.0, 10.0),\n",
    "    }\n",
    "\n",
    "    xgb_train = xgb.DMatrix(X_train_transformed, label=y_train)\n",
    "    xgb_valid = xgb.DMatrix(X_val_transformed, label=y_val)\n",
    "    model = xgb.train(\n",
    "        params,\n",
    "        xgb_train,\n",
    "        num_boost_round=100,\n",
    "        evals=[(xgb_valid, \"validation\")],\n",
    "        early_stopping_rounds=50,\n",
    "        verbose_eval=False\n",
    "    )\n",
    "    preds = model.predict(xgb_valid)\n",
    "    return mean_squared_error(y_val, preds)\n",
    "study_xgb = optuna.create_study(direction=\"minimize\")\n",
    "study_xgb.optimize(objective_xgb, n_trials=50)\n",
    "# Save the best model to pkl\n",
    "with open(f'{base_path}\\\\xgboost\\\\xgboost_model.pkl', 'wb') as f:\n",
    "    pickle.dump(study_xgb, f)\n",
    "best_model_xgb = xgb.XGBRegressor(**study_xgb.best_params)"
   ]
  },
  {
   "cell_type": "code",
   "execution_count": 19,
   "id": "7f8004ee",
   "metadata": {},
   "outputs": [],
   "source": [
    "# Load the best model from pkl\n",
    "with open(f'{base_path}\\\\xgboost\\\\xgboost_model.pkl', 'rb') as f:\n",
    "    best_model = pickle.load(f)"
   ]
  },
  {
   "cell_type": "code",
   "execution_count": 20,
   "id": "9b1e41f0",
   "metadata": {},
   "outputs": [],
   "source": [
    "# Train the best model\n",
    "model = xgb.XGBRegressor(**best_model.best_params)\n",
    "model.fit(X_train_transformed, y_train)\n",
    "y_pred_uwarm_iwarm = model.predict(X_test_uwarm_iwarm_transformed)\n",
    "y_pred_uwarm_icold = model.predict(X_test_uwarm_icold_transformed)\n",
    "y_pred_ucold_iwarm = model.predict(X_test_ucold_iwarm_transformed)\n",
    "y_pred_ucold_icold = model.predict(X_test_ucold_icold_transformed)"
   ]
  },
  {
   "cell_type": "code",
   "execution_count": 21,
   "id": "a16f56da",
   "metadata": {},
   "outputs": [],
   "source": [
    "# Save the predictions as RatingID, PredictedRating\n",
    "# Warm user warm item\n",
    "result_uwarm_iwarm = pd.DataFrame({\n",
    "    'RatingID': test_uwarm_iwarm['RatingID'],\n",
    "    'Rating': y_pred_uwarm_iwarm\n",
    "})\n",
    "result_uwarm_iwarm.to_csv(\n",
    "    f'{base_path}\\\\xgboost\\\\xgboost_warm_user_warm_item.csv', \n",
    "    index=False, \n",
    "    header=['RatingID', 'Rating']\n",
    ")\n",
    "# Warm user cold item\n",
    "result_uwarm_icold = pd.DataFrame({\n",
    "    'RatingID': test_uwarm_icold['RatingID'],\n",
    "    'Rating': y_pred_uwarm_icold\n",
    "})\n",
    "result_uwarm_icold.to_csv(\n",
    "    f'{base_path}\\\\xgboost\\\\xgboost_warm_user_cold_item.csv', \n",
    "    index=False, \n",
    "    header=['RatingID', 'Rating']\n",
    ")\n",
    "# Cold user warm item\n",
    "result_ucold_iwarm = pd.DataFrame({\n",
    "    'RatingID': test_ucold_iwarm['RatingID'],\n",
    "    'Rating': y_pred_ucold_iwarm\n",
    "})\n",
    "result_ucold_iwarm.to_csv(\n",
    "    f'{base_path}\\\\xgboost\\\\xgboost_cold_user_warm_item.csv', \n",
    "    index=False, \n",
    "    header=['RatingID', 'Rating']\n",
    ")\n",
    "# Cold user cold item\n",
    "result_ucold_icold = pd.DataFrame({\n",
    "    'RatingID': test_ucold_icold['RatingID'],\n",
    "    'Rating': y_pred_ucold_icold\n",
    "})\n",
    "result_ucold_icold.to_csv(\n",
    "    f'{base_path}\\\\xgboost\\\\xgboost_cold_user_cold_item.csv', \n",
    "    index=False, \n",
    "    header=['RatingID', 'Rating']\n",
    ")\n"
   ]
  }
 ],
 "metadata": {
  "kernelspec": {
   "display_name": "webmining",
   "language": "python",
   "name": "python3"
  },
  "language_info": {
   "codemirror_mode": {
    "name": "ipython",
    "version": 3
   },
   "file_extension": ".py",
   "mimetype": "text/x-python",
   "name": "python",
   "nbconvert_exporter": "python",
   "pygments_lexer": "ipython3",
   "version": "3.11.9"
  }
 },
 "nbformat": 4,
 "nbformat_minor": 5
}

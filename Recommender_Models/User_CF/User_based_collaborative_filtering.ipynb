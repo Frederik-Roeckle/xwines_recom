{
  "cells": [
    {
      "cell_type": "markdown",
      "metadata": {
        "id": "view-in-github",
        "colab_type": "text"
      },
      "source": [
        "<a href=\"https://colab.research.google.com/github/Frederik-Roeckle/xwines_recom/blob/master/User_based_collaborative_filtering.ipynb\" target=\"_parent\"><img src=\"https://colab.research.google.com/assets/colab-badge.svg\" alt=\"Open In Colab\"/></a>"
      ]
    },
    {
      "cell_type": "markdown",
      "source": [
        "# Neuer Abschnitt"
      ],
      "metadata": {
        "id": "GB2POUAuZe3f"
      },
      "id": "GB2POUAuZe3f"
    },
    {
      "cell_type": "code",
      "source": [
        "!pip uninstall scikit-surprise numpy -y\n",
        "!pip cache purge\n",
        "!pip install \"numpy<2.0\"\n",
        "!pip install scikit-surprise"
      ],
      "metadata": {
        "colab": {
          "base_uri": "https://localhost:8080/"
        },
        "id": "1CXQYT5QdcTt",
        "outputId": "9d8b669d-c923-4c0f-b398-a5e83993850e"
      },
      "id": "1CXQYT5QdcTt",
      "execution_count": null,
      "outputs": [
        {
          "output_type": "stream",
          "name": "stdout",
          "text": [
            "Found existing installation: scikit-surprise 1.1.4\n",
            "Uninstalling scikit-surprise-1.1.4:\n",
            "  Successfully uninstalled scikit-surprise-1.1.4\n",
            "Found existing installation: numpy 1.26.4\n",
            "Uninstalling numpy-1.26.4:\n",
            "  Successfully uninstalled numpy-1.26.4\n",
            "Files removed: 39\n",
            "Collecting numpy<2.0\n",
            "  Downloading numpy-1.26.4-cp311-cp311-manylinux_2_17_x86_64.manylinux2014_x86_64.whl.metadata (61 kB)\n",
            "\u001b[2K     \u001b[90m━━━━━━━━━━━━━━━━━━━━━━━━━━━━━━━━━━━━━━━━\u001b[0m \u001b[32m61.0/61.0 kB\u001b[0m \u001b[31m4.5 MB/s\u001b[0m eta \u001b[36m0:00:00\u001b[0m\n",
            "\u001b[?25hDownloading numpy-1.26.4-cp311-cp311-manylinux_2_17_x86_64.manylinux2014_x86_64.whl (18.3 MB)\n",
            "\u001b[2K   \u001b[90m━━━━━━━━━━━━━━━━━━━━━━━━━━━━━━━━━━━━━━━━\u001b[0m \u001b[32m18.3/18.3 MB\u001b[0m \u001b[31m91.6 MB/s\u001b[0m eta \u001b[36m0:00:00\u001b[0m\n",
            "\u001b[?25hInstalling collected packages: numpy\n",
            "\u001b[31mERROR: pip's dependency resolver does not currently take into account all the packages that are installed. This behaviour is the source of the following dependency conflicts.\n",
            "thinc 8.3.6 requires numpy<3.0.0,>=2.0.0, but you have numpy 1.26.4 which is incompatible.\u001b[0m\u001b[31m\n",
            "\u001b[0mSuccessfully installed numpy-1.26.4\n",
            "Collecting scikit-surprise\n",
            "  Downloading scikit_surprise-1.1.4.tar.gz (154 kB)\n",
            "\u001b[2K     \u001b[90m━━━━━━━━━━━━━━━━━━━━━━━━━━━━━━━━━━━━━━━\u001b[0m \u001b[32m154.4/154.4 kB\u001b[0m \u001b[31m6.2 MB/s\u001b[0m eta \u001b[36m0:00:00\u001b[0m\n",
            "\u001b[?25h  Installing build dependencies ... \u001b[?25l\u001b[?25hdone\n",
            "  Getting requirements to build wheel ... \u001b[?25l\u001b[?25hdone\n",
            "  Preparing metadata (pyproject.toml) ... \u001b[?25l\u001b[?25hdone\n",
            "Requirement already satisfied: joblib>=1.2.0 in /usr/local/lib/python3.11/dist-packages (from scikit-surprise) (1.5.0)\n",
            "Requirement already satisfied: numpy>=1.19.5 in /usr/local/lib/python3.11/dist-packages (from scikit-surprise) (1.26.4)\n",
            "Requirement already satisfied: scipy>=1.6.0 in /usr/local/lib/python3.11/dist-packages (from scikit-surprise) (1.15.3)\n",
            "Building wheels for collected packages: scikit-surprise\n",
            "  Building wheel for scikit-surprise (pyproject.toml) ... \u001b[?25l\u001b[?25hdone\n",
            "  Created wheel for scikit-surprise: filename=scikit_surprise-1.1.4-cp311-cp311-linux_x86_64.whl size=2461553 sha256=34ae875f5ade5658bb40f6b35483a783909fcef0cf9ee2dd900432373e3b8c6c\n",
            "  Stored in directory: /root/.cache/pip/wheels/2a/8f/6e/7e2899163e2d85d8266daab4aa1cdabec7a6c56f83c015b5af\n",
            "Successfully built scikit-surprise\n",
            "Installing collected packages: scikit-surprise\n",
            "Successfully installed scikit-surprise-1.1.4\n"
          ]
        }
      ]
    },
    {
      "cell_type": "code",
      "source": [
        "!pip list | grep -E 'numpy|surprise'"
      ],
      "metadata": {
        "colab": {
          "base_uri": "https://localhost:8080/"
        },
        "id": "84poC67scOiP",
        "outputId": "a150edb3-fd8b-483d-c408-a510abbe809d"
      },
      "id": "84poC67scOiP",
      "execution_count": null,
      "outputs": [
        {
          "output_type": "stream",
          "name": "stdout",
          "text": [
            "numpy                                 1.26.4\n",
            "scikit-surprise                       1.1.4\n"
          ]
        }
      ]
    },
    {
      "cell_type": "code",
      "execution_count": null,
      "id": "1ded77d2",
      "metadata": {
        "id": "1ded77d2"
      },
      "outputs": [],
      "source": [
        "from surprise import Dataset, Reader, KNNBasic, accuracy"
      ]
    },
    {
      "cell_type": "markdown",
      "id": "3fc93ddb",
      "metadata": {
        "id": "3fc93ddb"
      },
      "source": [
        "read train and test datasets"
      ]
    },
    {
      "cell_type": "code",
      "execution_count": null,
      "id": "5204cdd4",
      "metadata": {
        "id": "5204cdd4"
      },
      "outputs": [],
      "source": [
        "import pandas as pd\n",
        "train_data = pd.read_csv(\"/content/trainset.csv\")\n",
        "test_coldu_coldi = pd.read_csv(\"/content/testset_cold_user_cold_item.csv\")\n",
        "test_coldu_warmi = pd.read_csv(\"/content/testset_cold_user_warm_item.csv\")\n",
        "test_warmu_coldi = pd.read_csv(\"/content/testset_warm_user_cold_item.csv\")\n",
        "test_warmu_warmi = pd.read_csv(\"/content/testset_warm_user_warm_item.csv\")"
      ]
    },
    {
      "cell_type": "code",
      "source": [
        "from google.colab import drive\n",
        "drive.mount('/content/drive')"
      ],
      "metadata": {
        "colab": {
          "base_uri": "https://localhost:8080/"
        },
        "id": "dsyj4PAGprss",
        "outputId": "dd0f023f-ba0e-4c8e-8ae6-9e6386b34e3f"
      },
      "id": "dsyj4PAGprss",
      "execution_count": null,
      "outputs": [
        {
          "output_type": "stream",
          "name": "stdout",
          "text": [
            "Mounted at /content/drive\n"
          ]
        }
      ]
    },
    {
      "cell_type": "code",
      "execution_count": null,
      "id": "83fdcdfb",
      "metadata": {
        "id": "83fdcdfb",
        "outputId": "7663fb92-519a-4857-b4a8-1182b47fe772"
      },
      "outputs": [
        {
          "data": {
            "text/html": [
              "<div>\n",
              "<style scoped>\n",
              "    .dataframe tbody tr th:only-of-type {\n",
              "        vertical-align: middle;\n",
              "    }\n",
              "\n",
              "    .dataframe tbody tr th {\n",
              "        vertical-align: top;\n",
              "    }\n",
              "\n",
              "    .dataframe thead th {\n",
              "        text-align: right;\n",
              "    }\n",
              "</style>\n",
              "<table border=\"1\" class=\"dataframe\">\n",
              "  <thead>\n",
              "    <tr style=\"text-align: right;\">\n",
              "      <th></th>\n",
              "      <th>RatingID</th>\n",
              "      <th>UserID</th>\n",
              "      <th>WineID</th>\n",
              "      <th>Vintage</th>\n",
              "      <th>Rating</th>\n",
              "      <th>Date</th>\n",
              "    </tr>\n",
              "  </thead>\n",
              "  <tbody>\n",
              "    <tr>\n",
              "      <th>0</th>\n",
              "      <td>17115002</td>\n",
              "      <td>1256717</td>\n",
              "      <td>179055</td>\n",
              "      <td>2018</td>\n",
              "      <td>4.5</td>\n",
              "      <td>2020-11-13 18:19:45</td>\n",
              "    </tr>\n",
              "    <tr>\n",
              "      <th>1</th>\n",
              "      <td>17115008</td>\n",
              "      <td>1299634</td>\n",
              "      <td>160215</td>\n",
              "      <td>2018</td>\n",
              "      <td>3.0</td>\n",
              "      <td>2020-11-13 18:19:47</td>\n",
              "    </tr>\n",
              "    <tr>\n",
              "      <th>2</th>\n",
              "      <td>8821172</td>\n",
              "      <td>1163644</td>\n",
              "      <td>116120</td>\n",
              "      <td>2014</td>\n",
              "      <td>4.0</td>\n",
              "      <td>2020-11-13 18:19:51</td>\n",
              "    </tr>\n",
              "    <tr>\n",
              "      <th>3</th>\n",
              "      <td>15626850</td>\n",
              "      <td>1642188</td>\n",
              "      <td>167557</td>\n",
              "      <td>2017</td>\n",
              "      <td>4.0</td>\n",
              "      <td>2020-11-13 18:19:58</td>\n",
              "    </tr>\n",
              "    <tr>\n",
              "      <th>4</th>\n",
              "      <td>15627422</td>\n",
              "      <td>1480605</td>\n",
              "      <td>102927</td>\n",
              "      <td>2017</td>\n",
              "      <td>4.0</td>\n",
              "      <td>2020-11-13 18:20:01</td>\n",
              "    </tr>\n",
              "    <tr>\n",
              "      <th>...</th>\n",
              "      <td>...</td>\n",
              "      <td>...</td>\n",
              "      <td>...</td>\n",
              "      <td>...</td>\n",
              "      <td>...</td>\n",
              "      <td>...</td>\n",
              "    </tr>\n",
              "    <tr>\n",
              "      <th>2036773</th>\n",
              "      <td>20831445</td>\n",
              "      <td>1118901</td>\n",
              "      <td>111394</td>\n",
              "      <td>N.V.</td>\n",
              "      <td>4.5</td>\n",
              "      <td>2021-12-31 23:59:26</td>\n",
              "    </tr>\n",
              "    <tr>\n",
              "      <th>2036774</th>\n",
              "      <td>20533942</td>\n",
              "      <td>1084824</td>\n",
              "      <td>111908</td>\n",
              "      <td>2020</td>\n",
              "      <td>3.0</td>\n",
              "      <td>2021-12-31 23:59:35</td>\n",
              "    </tr>\n",
              "    <tr>\n",
              "      <th>2036775</th>\n",
              "      <td>12073701</td>\n",
              "      <td>1265013</td>\n",
              "      <td>135856</td>\n",
              "      <td>2016</td>\n",
              "      <td>4.5</td>\n",
              "      <td>2021-12-31 23:59:41</td>\n",
              "    </tr>\n",
              "    <tr>\n",
              "      <th>2036776</th>\n",
              "      <td>20831451</td>\n",
              "      <td>1361925</td>\n",
              "      <td>112317</td>\n",
              "      <td>N.V.</td>\n",
              "      <td>2.0</td>\n",
              "      <td>2021-12-31 23:59:47</td>\n",
              "    </tr>\n",
              "    <tr>\n",
              "      <th>2036777</th>\n",
              "      <td>18073797</td>\n",
              "      <td>1036263</td>\n",
              "      <td>167451</td>\n",
              "      <td>2018</td>\n",
              "      <td>5.0</td>\n",
              "      <td>2021-12-31 23:59:56</td>\n",
              "    </tr>\n",
              "  </tbody>\n",
              "</table>\n",
              "<p>2036778 rows × 6 columns</p>\n",
              "</div>"
            ],
            "text/plain": [
              "         RatingID   UserID  WineID Vintage  Rating                 Date\n",
              "0        17115002  1256717  179055    2018     4.5  2020-11-13 18:19:45\n",
              "1        17115008  1299634  160215    2018     3.0  2020-11-13 18:19:47\n",
              "2         8821172  1163644  116120    2014     4.0  2020-11-13 18:19:51\n",
              "3        15626850  1642188  167557    2017     4.0  2020-11-13 18:19:58\n",
              "4        15627422  1480605  102927    2017     4.0  2020-11-13 18:20:01\n",
              "...           ...      ...     ...     ...     ...                  ...\n",
              "2036773  20831445  1118901  111394    N.V.     4.5  2021-12-31 23:59:26\n",
              "2036774  20533942  1084824  111908    2020     3.0  2021-12-31 23:59:35\n",
              "2036775  12073701  1265013  135856    2016     4.5  2021-12-31 23:59:41\n",
              "2036776  20831451  1361925  112317    N.V.     2.0  2021-12-31 23:59:47\n",
              "2036777  18073797  1036263  167451    2018     5.0  2021-12-31 23:59:56\n",
              "\n",
              "[2036778 rows x 6 columns]"
            ]
          },
          "execution_count": 14,
          "metadata": {},
          "output_type": "execute_result"
        }
      ],
      "source": [
        "#train_data\n",
        "#test_coldu_coldi\n",
        "#test_coldu_warmi\n",
        "#test_warmu_coldi\n",
        "#test_warmu_warmi"
      ]
    },
    {
      "cell_type": "code",
      "execution_count": null,
      "id": "bc2d9242",
      "metadata": {
        "id": "bc2d9242"
      },
      "outputs": [],
      "source": [
        "reader = Reader(rating_scale=(1, 5))"
      ]
    },
    {
      "cell_type": "code",
      "execution_count": null,
      "id": "240b3c8c",
      "metadata": {
        "id": "240b3c8c"
      },
      "outputs": [],
      "source": [
        "trainset = Dataset.load_from_df(\n",
        "    train_data[[\"UserID\", \"WineID\", \"Rating\"]], reader\n",
        ").build_full_trainset()"
      ]
    },
    {
      "cell_type": "code",
      "execution_count": null,
      "id": "0a3f75da",
      "metadata": {
        "id": "0a3f75da"
      },
      "outputs": [],
      "source": [
        "sim_options = dict(name=\"pearson\", user_based=True, min_support=3)\n",
        "\n",
        "algo = KNNBasic(k=5, min_k=5, sim_options=sim_options)\n",
        "algo.fit(trainset)"
      ]
    }
  ],
  "metadata": {
    "kernelspec": {
      "display_name": "Python 3 (ipykernel)",
      "language": "python",
      "name": "python3"
    },
    "language_info": {
      "codemirror_mode": {
        "name": "ipython",
        "version": 3
      },
      "file_extension": ".py",
      "mimetype": "text/x-python",
      "name": "python",
      "nbconvert_exporter": "python",
      "pygments_lexer": "ipython3",
      "version": "3.10.2"
    },
    "colab": {
      "provenance": [],
      "include_colab_link": true
    }
  },
  "nbformat": 4,
  "nbformat_minor": 5
}
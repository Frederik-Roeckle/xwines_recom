{
 "cells": [
  {
   "cell_type": "code",
   "execution_count": 1,
   "id": "0fbfb9f0-2a3b-498f-b0b1-0bfc35847ac8",
   "metadata": {},
   "outputs": [],
   "source": [
    "import pandas as pd\n",
    "import numpy as np\n",
    "from sklearn.metrics import mean_absolute_error, root_mean_squared_error\n",
    "import matplotlib.pyplot as plt\n",
    "import tqdm"
   ]
  },
  {
   "cell_type": "code",
   "execution_count": 2,
   "id": "ed536c61-eb1a-41ac-8ae9-229ba0d303fc",
   "metadata": {},
   "outputs": [],
   "source": [
    "random_state = 42\n",
    "n_bootstraped_samples = 1000"
   ]
  },
  {
   "cell_type": "code",
   "execution_count": 3,
   "id": "b8f173ac-f4e3-4f81-bdc7-c435990fc72c",
   "metadata": {},
   "outputs": [],
   "source": [
    "def map_rating_class(rating: float):\n",
    "    return round(rating / 0.5) * 0.5"
   ]
  },
  {
   "cell_type": "code",
   "execution_count": 4,
   "id": "67b383c3-a479-4fe7-ade5-19ff2d140f8a",
   "metadata": {},
   "outputs": [],
   "source": [
    "def align_dfs(true_df, pred_df):\n",
    "    if true_df.shape != pred_df.shape:\n",
    "        raise ValueError(\"The input dataframe have different dimensions\")\n",
    "    df = pd.merge(true_df, pred_df, on=\"RatingID\")\n",
    "    print(df.head())\n",
    "    return df"
   ]
  },
  {
   "cell_type": "code",
   "execution_count": 5,
   "id": "d307d0d6-08b3-4180-a6c0-5a0bd4ef1004",
   "metadata": {},
   "outputs": [],
   "source": [
    "def bootstrap_rmse(y_true, y_pred, n_bootstrap=n_bootstraped_samples, ci=95, random_state=random_state):\n",
    "    rng = np.random.default_rng(random_state)\n",
    "    rmse_score = []\n",
    "\n",
    "    n = len(y_true)\n",
    "    for _ in tqdm.tqdm(range(n_bootstrap)):\n",
    "        indices = rng.choice(n, size=n, replace=True)\n",
    "        sample_true = y_true[indices]\n",
    "        sample_pred = y_pred[indices]\n",
    "        \n",
    "        rmse = root_mean_squared_error(sample_true, sample_pred)\n",
    "        rmse_score.append(rmse)\n",
    "\n",
    "    # Convert to numpy for easy math\n",
    "    rmse_score = np.array(rmse_score)\n",
    "\n",
    "    # Confidence interval\n",
    "    lower = np.percentile(rmse_score, (100 - ci) / 2)\n",
    "    upper = np.percentile(rmse_score, 100 - (100 - ci) / 2)\n",
    "\n",
    "    return {\n",
    "        'rmse_distribution': rmse_score,\n",
    "        'mean': rmse_score.mean(),\n",
    "        'ci': (lower, upper)\n",
    "    }"
   ]
  },
  {
   "cell_type": "code",
   "execution_count": 6,
   "id": "59eac64e-8717-4f11-b46b-5d013992bd03",
   "metadata": {},
   "outputs": [],
   "source": [
    "# read all true y datasets\n",
    "true_cold_user_cold_item = pd.read_csv(r\"../testset_cold_user_cold_item.csv\")\n",
    "true_cold_user_warm_item = pd.read_csv(r\"../testset_cold_user_warm_item.csv\")\n",
    "true_warm_user_cold_item = pd.read_csv(r\"../testset_warm_user_cold_item.csv\")\n",
    "true_warm_user_warm_item = pd.read_csv(r\"../testset_warm_user_warm_item.csv\")\n",
    "\n",
    "# only keep ReviewID, Rating\n",
    "true_cold_user_cold_item = true_cold_user_cold_item[[\"RatingID\", \"Rating\"]]\n",
    "true_cold_user_warm_item = true_cold_user_warm_item[[\"RatingID\", \"Rating\"]]\n",
    "true_warm_user_cold_item = true_warm_user_cold_item[[\"RatingID\", \"Rating\"]]\n",
    "true_warm_user_warm_item = true_warm_user_warm_item[[\"RatingID\", \"Rating\"]]\n"
   ]
  },
  {
   "cell_type": "code",
   "execution_count": 7,
   "id": "ecfa2788-a9d5-4dce-91f4-391dac1303b8",
   "metadata": {},
   "outputs": [],
   "source": [
    "# read all predicted y datasets\n",
    "vincent_cold_user_cold_item = pd.read_csv(r\"../Vincent_evaluation_results/predictions_CU_CI.csv\")\n",
    "vincent_cold_user_warm_item = pd.read_csv(r\"../Vincent_evaluation_results/predictions_CU_WI.csv\")\n",
    "vincent_warm_user_cold_item = pd.read_csv(r\"../Vincent_evaluation_results/predictions_WU_CI.csv\")\n",
    "vincent_warm_user_warm_item = pd.read_csv(r\"../Vincent_evaluation_results/predictions_WU_WI.csv\")\n",
    "\n",
    "# round ratings to closest .5 value\n",
    "vincent_cold_user_cold_item[\"PredictedRating\"] = vincent_cold_user_cold_item[\"PredictedRating\"].map(lambda x: round(x / 0.5) * 0.5)\n",
    "vincent_cold_user_warm_item[\"PredictedRating\"] = vincent_cold_user_warm_item[\"PredictedRating\"].map(lambda x: round(x / 0.5) * 0.5)\n",
    "vincent_warm_user_cold_item[\"PredictedRating\"] = vincent_warm_user_cold_item[\"PredictedRating\"].map(lambda x: round(x / 0.5) * 0.5)\n",
    "vincent_warm_user_warm_item[\"PredictedRating\"] = vincent_warm_user_warm_item[\"PredictedRating\"].map(lambda x: round(x / 0.5) * 0.5)"
   ]
  },
  {
   "cell_type": "markdown",
   "id": "7e22120b-e8f7-4801-90ab-d5536e344721",
   "metadata": {
    "jp-MarkdownHeadingCollapsed": true
   },
   "source": [
    "### Vincents Model-based Recommender System"
   ]
  },
  {
   "cell_type": "markdown",
   "id": "4e2bd00d-4a21-4ae4-8f07-60fdc20a1c7d",
   "metadata": {
    "jp-MarkdownHeadingCollapsed": true
   },
   "source": [
    "#### Hot user, Hot Wine"
   ]
  },
  {
   "cell_type": "code",
   "execution_count": 8,
   "id": "3b7238bd-d95d-483b-a88a-efef9b19290a",
   "metadata": {},
   "outputs": [
    {
     "name": "stdout",
     "output_type": "stream",
     "text": [
      "   RatingID  Rating  PredictedRating\n",
      "0  17115002     4.5              4.0\n",
      "1  17115008     3.0              4.0\n",
      "2   8821172     4.0              4.0\n",
      "3  15626850     4.0              3.5\n",
      "4  15627422     4.0              4.5\n"
     ]
    },
    {
     "name": "stderr",
     "output_type": "stream",
     "text": [
      "100%|██████████████████████████████████████████████████████████████████████████████| 1000/1000 [01:34<00:00, 10.57it/s]"
     ]
    },
    {
     "name": "stdout",
     "output_type": "stream",
     "text": [
      "0.8076758159543219\n",
      "(np.float64(0.8052589283937425), np.float64(0.8100114552991685))\n"
     ]
    },
    {
     "name": "stderr",
     "output_type": "stream",
     "text": [
      "\n"
     ]
    }
   ],
   "source": [
    "aligned = align_dfs(true_warm_user_warm_item, vincent_warm_user_warm_item)\n",
    "y_true = aligned['Rating'].values\n",
    "y_pred = aligned['PredictedRating'].values\n",
    "if len(y_true) != len(y_pred):\n",
    "    raise ValueError(\"Different amount of rating\")\n",
    "results = bootstrap_rmse(y_true, y_pred)\n",
    "print(results[\"mean\"])\n",
    "print(results[\"ci\"])"
   ]
  },
  {
   "cell_type": "markdown",
   "id": "a3dbaefc-8383-4c10-b1b8-cd440fad5b79",
   "metadata": {
    "jp-MarkdownHeadingCollapsed": true
   },
   "source": [
    "#### Hot user, Cold Wine"
   ]
  },
  {
   "cell_type": "code",
   "execution_count": 9,
   "id": "045ad502-328c-4c5b-9724-5d494eb318c9",
   "metadata": {},
   "outputs": [
    {
     "name": "stdout",
     "output_type": "stream",
     "text": [
      "   RatingID  Rating  PredictedRating\n",
      "0  18311916     3.5              4.0\n",
      "1  18303342     4.0              4.0\n",
      "2  20547045     4.0              4.0\n",
      "3  11900766     3.5              4.0\n",
      "4  18273405     3.5              4.0\n"
     ]
    },
    {
     "name": "stderr",
     "output_type": "stream",
     "text": [
      "100%|████████████████████████████████████████████████████████████████████████████| 1000/1000 [00:00<00:00, 1000.21it/s]"
     ]
    },
    {
     "name": "stdout",
     "output_type": "stream",
     "text": [
      "0.6982039367735612\n",
      "(np.float64(0.6908314064682013), np.float64(0.7060356421755899))\n"
     ]
    },
    {
     "name": "stderr",
     "output_type": "stream",
     "text": [
      "\n"
     ]
    }
   ],
   "source": [
    "aligned = align_dfs(true_warm_user_cold_item, vincent_warm_user_cold_item)\n",
    "y_true = aligned['Rating'].values\n",
    "y_pred = aligned['PredictedRating'].values\n",
    "if len(y_true) != len(y_pred):\n",
    "    raise ValueError(\"Different amount of rating\")\n",
    "results = bootstrap_rmse(y_true, y_pred)\n",
    "print(results[\"mean\"])\n",
    "print(results[\"ci\"])"
   ]
  },
  {
   "cell_type": "markdown",
   "id": "0480118d-0f5b-4104-9c1e-d1dbd2174986",
   "metadata": {
    "jp-MarkdownHeadingCollapsed": true
   },
   "source": [
    "#### Cold user, Hot Wine"
   ]
  },
  {
   "cell_type": "code",
   "execution_count": 10,
   "id": "a2b61ffe-333b-4d18-b9d0-49084b765f7c",
   "metadata": {},
   "outputs": [
    {
     "name": "stdout",
     "output_type": "stream",
     "text": [
      "   RatingID  Rating  PredictedRating\n",
      "0  17618447     4.0              3.5\n",
      "1  19286240     5.0              3.5\n",
      "2  18939364     4.5              3.5\n",
      "3  14312250     4.5              3.5\n",
      "4  18967247     5.0              3.5\n"
     ]
    },
    {
     "name": "stderr",
     "output_type": "stream",
     "text": [
      "100%|██████████████████████████████████████████████████████████████████████████████| 1000/1000 [00:24<00:00, 40.95it/s]\n"
     ]
    },
    {
     "name": "stdout",
     "output_type": "stream",
     "text": [
      "1.0827310279498885\n",
      "(np.float64(1.0767296820934482), np.float64(1.088779015407571))\n"
     ]
    }
   ],
   "source": [
    "aligned = align_dfs(true_cold_user_warm_item, vincent_cold_user_warm_item)\n",
    "y_true = aligned['Rating'].values\n",
    "y_pred = aligned['PredictedRating'].values\n",
    "if len(y_true) != len(y_pred):\n",
    "    raise ValueError(\"Different amount of rating\")\n",
    "results = bootstrap_rmse(y_true, y_pred)\n",
    "print(results[\"mean\"])\n",
    "print(results[\"ci\"])"
   ]
  },
  {
   "cell_type": "markdown",
   "id": "2ffd4d73-8de4-404e-bedc-1e4437ee56ff",
   "metadata": {
    "jp-MarkdownHeadingCollapsed": true
   },
   "source": [
    "#### Cold user, Cold Wine"
   ]
  },
  {
   "cell_type": "code",
   "execution_count": 11,
   "id": "14560b0e-20a7-4b66-b458-39d78879f387",
   "metadata": {},
   "outputs": [
    {
     "name": "stdout",
     "output_type": "stream",
     "text": [
      "   RatingID  Rating  PredictedRating\n",
      "0  18274504     5.0              4.0\n",
      "1  18317678     5.0              4.0\n",
      "2  18317912     3.5              4.0\n",
      "3  15708051     3.5              4.0\n",
      "4   8822957     4.0              4.0\n"
     ]
    },
    {
     "name": "stderr",
     "output_type": "stream",
     "text": [
      "100%|████████████████████████████████████████████████████████████████████████████| 1000/1000 [00:00<00:00, 1675.96it/s]"
     ]
    },
    {
     "name": "stdout",
     "output_type": "stream",
     "text": [
      "0.8644685161465561\n",
      "(np.float64(0.8528238571153763), np.float64(0.8764994324254499))\n"
     ]
    },
    {
     "name": "stderr",
     "output_type": "stream",
     "text": [
      "\n"
     ]
    }
   ],
   "source": [
    "aligned = align_dfs(true_cold_user_cold_item, vincent_cold_user_cold_item)\n",
    "y_true = aligned['Rating'].values\n",
    "y_pred = aligned['PredictedRating'].values\n",
    "if len(y_true) != len(y_pred):\n",
    "    raise ValueError(\"Different amount of rating\")\n",
    "results = bootstrap_rmse(y_true, y_pred)\n",
    "print(results[\"mean\"])\n",
    "print(results[\"ci\"])"
   ]
  },
  {
   "cell_type": "markdown",
   "id": "d269bb1d-f74d-48be-aa13-7c6b123e661b",
   "metadata": {
    "jp-MarkdownHeadingCollapsed": true
   },
   "source": [
    "### Denis Model-based Recommender Systems"
   ]
  },
  {
   "cell_type": "markdown",
   "id": "3ce541f8-d981-4667-81c2-ef7a63e99098",
   "metadata": {},
   "source": [
    "#### LightGBM"
   ]
  },
  {
   "cell_type": "markdown",
   "id": "073cba64-cc1b-4342-8583-d668daecc2b9",
   "metadata": {
    "jp-MarkdownHeadingCollapsed": true
   },
   "source": [
    "#### SVD"
   ]
  },
  {
   "cell_type": "markdown",
   "id": "8336458f-60ca-43f2-b933-a543cf9492b7",
   "metadata": {},
   "source": [
    "#### XGBoost"
   ]
  },
  {
   "cell_type": "markdown",
   "id": "a29dc7fe-05ac-4647-8199-b098abfc8107",
   "metadata": {},
   "source": [
    "# Compare bootstraped sampled difference for best performing models"
   ]
  },
  {
   "cell_type": "code",
   "execution_count": 12,
   "id": "13c34851-e772-4cfc-ae27-f47a801ea522",
   "metadata": {},
   "outputs": [
    {
     "ename": "NameError",
     "evalue": "name 'rng' is not defined",
     "output_type": "error",
     "traceback": [
      "\u001b[31m---------------------------------------------------------------------------\u001b[39m",
      "\u001b[31mNameError\u001b[39m                                 Traceback (most recent call last)",
      "\u001b[36mCell\u001b[39m\u001b[36m \u001b[39m\u001b[32mIn[12]\u001b[39m\u001b[32m, line 2\u001b[39m\n\u001b[32m      1\u001b[39m \u001b[38;5;28;01mfor\u001b[39;00m _ \u001b[38;5;129;01min\u001b[39;00m \u001b[38;5;28mrange\u001b[39m(\u001b[32m1000\u001b[39m):\n\u001b[32m----> \u001b[39m\u001b[32m2\u001b[39m     idx = \u001b[43mrng\u001b[49m.choice(\u001b[38;5;28mlen\u001b[39m(y_true), size=\u001b[38;5;28mlen\u001b[39m(y_true), replace=\u001b[38;5;28;01mTrue\u001b[39;00m)\n\u001b[32m      3\u001b[39m     rmse_a = root_mean_squared_error(y_true[idx], y_pred_a[idx])\n\u001b[32m      4\u001b[39m     rmse_b = root_mean_squared_error(y_true[idx], y_pred_b[idx])\n",
      "\u001b[31mNameError\u001b[39m: name 'rng' is not defined"
     ]
    }
   ],
   "source": [
    "for _ in range(1000):\n",
    "    idx = rng.choice(len(y_true), size=len(y_true), replace=True)\n",
    "    rmse_a = root_mean_squared_error(y_true[idx], y_pred_a[idx])\n",
    "    rmse_b = root_mean_squared_error(y_true[idx], y_pred_b[idx])\n",
    "    diff = mae_b - mae_a  # Positive means A is better\n",
    "    diff_scores.append(diff)\n"
   ]
  }
 ],
 "metadata": {
  "kernelspec": {
   "display_name": "Python 3 (ipykernel)",
   "language": "python",
   "name": "python3"
  },
  "language_info": {
   "codemirror_mode": {
    "name": "ipython",
    "version": 3
   },
   "file_extension": ".py",
   "mimetype": "text/x-python",
   "name": "python",
   "nbconvert_exporter": "python",
   "pygments_lexer": "ipython3",
   "version": "3.12.2"
  }
 },
 "nbformat": 4,
 "nbformat_minor": 5
}

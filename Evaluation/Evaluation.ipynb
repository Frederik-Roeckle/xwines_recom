{
 "cells": [
  {
   "cell_type": "code",
   "execution_count": 1,
   "id": "0fbfb9f0-2a3b-498f-b0b1-0bfc35847ac8",
   "metadata": {},
   "outputs": [],
   "source": [
    "import pandas as pd\n",
    "import numpy as np\n",
    "from sklearn.metrics import mean_absolute_error, root_mean_squared_error\n",
    "import matplotlib.pyplot as plt\n",
    "import tqdm"
   ]
  },
  {
   "cell_type": "code",
   "execution_count": 2,
   "id": "ed536c61-eb1a-41ac-8ae9-229ba0d303fc",
   "metadata": {},
   "outputs": [],
   "source": [
    "random_state = 42\n",
    "n_bootstraped_samples = 1000"
   ]
  },
  {
   "cell_type": "code",
   "execution_count": 3,
   "id": "b8f173ac-f4e3-4f81-bdc7-c435990fc72c",
   "metadata": {},
   "outputs": [],
   "source": [
    "def map_rating_class(rating: float):\n",
    "    return round(rating / 0.5) * 0.5"
   ]
  },
  {
   "cell_type": "code",
   "execution_count": 4,
   "id": "67b383c3-a479-4fe7-ade5-19ff2d140f8a",
   "metadata": {},
   "outputs": [],
   "source": [
    "def align_dfs(true_df, pred_df):\n",
    "    if true_df.shape != pred_df.shape:\n",
    "        raise ValueError(\"The input dataframe have different dimensions\")\n",
    "    df = pd.merge(true_df, pred_df, on=\"RatingID\")\n",
    "    print(df.head())\n",
    "    return df"
   ]
  },
  {
   "cell_type": "code",
   "execution_count": 5,
   "id": "d307d0d6-08b3-4180-a6c0-5a0bd4ef1004",
   "metadata": {},
   "outputs": [],
   "source": [
    "def bootstrap_rmse(y_true, y_pred, n_bootstrap=n_bootstraped_samples, ci=95, random_state=random_state):\n",
    "    rng = np.random.default_rng(random_state)\n",
    "    rmse_score = []\n",
    "\n",
    "    n = len(y_true)\n",
    "    for _ in tqdm.tqdm(range(n_bootstrap)):\n",
    "        indices = rng.choice(n, size=n, replace=True)\n",
    "        sample_true = y_true[indices]\n",
    "        sample_pred = y_pred[indices]\n",
    "        \n",
    "        rmse = root_mean_squared_error(sample_true, sample_pred)\n",
    "        rmse_score.append(rmse)\n",
    "\n",
    "    # Convert to numpy for easy math\n",
    "    rmse_score = np.array(rmse_score)\n",
    "\n",
    "    # Confidence interval\n",
    "    lower = np.percentile(rmse_score, (100 - ci) / 2)\n",
    "    upper = np.percentile(rmse_score, 100 - (100 - ci) / 2)\n",
    "\n",
    "    return {\n",
    "        'rmse_distribution': rmse_score,\n",
    "        'mean': f\"{rmse_score.mean():.4f}\",\n",
    "        'ci': f\"[{lower:.4f}, {upper:.4f}]\"\n",
    "    }"
   ]
  },
  {
   "cell_type": "code",
   "execution_count": 6,
   "id": "59eac64e-8717-4f11-b46b-5d013992bd03",
   "metadata": {},
   "outputs": [],
   "source": [
    "# read all true y datasets\n",
    "true_cold_user_cold_item = pd.read_csv(r\"../../testset_cold_user_cold_item.csv\")\n",
    "true_cold_user_warm_item = pd.read_csv(r\"../../testset_cold_user_warm_item.csv\")\n",
    "true_warm_user_cold_item = pd.read_csv(r\"../../testset_warm_user_cold_item.csv\")\n",
    "true_warm_user_warm_item = pd.read_csv(r\"../../testset_warm_user_warm_item.csv\")\n",
    "\n",
    "# only keep ReviewID, Rating\n",
    "true_cold_user_cold_item = true_cold_user_cold_item[[\"RatingID\", \"Rating\"]]\n",
    "true_cold_user_warm_item = true_cold_user_warm_item[[\"RatingID\", \"Rating\"]]\n",
    "true_warm_user_cold_item = true_warm_user_cold_item[[\"RatingID\", \"Rating\"]]\n",
    "true_warm_user_warm_item = true_warm_user_warm_item[[\"RatingID\", \"Rating\"]]\n"
   ]
  },
  {
   "cell_type": "code",
   "execution_count": 7,
   "id": "ecfa2788-a9d5-4dce-91f4-391dac1303b8",
   "metadata": {},
   "outputs": [],
   "source": [
    "# read all predicted y datasets\n",
    "vincent_cold_user_cold_item = pd.read_csv(r\"./model_based_vincent/predictions_CU_CI.csv\")\n",
    "vincent_cold_user_warm_item = pd.read_csv(r\"./model_based_vincent/predictions_CU_WI.csv\")\n",
    "vincent_warm_user_cold_item = pd.read_csv(r\"./model_based_vincent/predictions_WU_CI.csv\")\n",
    "vincent_warm_user_warm_item = pd.read_csv(r\"./model_based_vincent/predictions_WU_WI.csv\")\n",
    "\n",
    "# round ratings to closest .5 value\n",
    "vincent_cold_user_cold_item[\"PredictedRating\"] = vincent_cold_user_cold_item[\"PredictedRating\"].map(lambda x: round(x / 0.5) * 0.5)\n",
    "vincent_cold_user_warm_item[\"PredictedRating\"] = vincent_cold_user_warm_item[\"PredictedRating\"].map(lambda x: round(x / 0.5) * 0.5)\n",
    "vincent_warm_user_cold_item[\"PredictedRating\"] = vincent_warm_user_cold_item[\"PredictedRating\"].map(lambda x: round(x / 0.5) * 0.5)\n",
    "vincent_warm_user_warm_item[\"PredictedRating\"] = vincent_warm_user_warm_item[\"PredictedRating\"].map(lambda x: round(x / 0.5) * 0.5)"
   ]
  },
  {
   "cell_type": "code",
   "execution_count": 8,
   "id": "a2f12482-74c4-4d10-b1c4-35521273ef2a",
   "metadata": {},
   "outputs": [],
   "source": [
    "lightgbm_cold_user_cold_item = pd.read_csv(r\"./lightgbm/lightgbm_cold_user_cold_item.csv\")\n",
    "lightgbm_cold_user_warm_item = pd.read_csv(r\"./lightgbm/lightgbm_cold_user_warm_item.csv\")\n",
    "lightgbm_warm_user_cold_item = pd.read_csv(r\"./lightgbm/lightgbm_warm_user_cold_item.csv\")\n",
    "lightgbm_warm_user_warm_item = pd.read_csv(r\"./lightgbm/lightgbm_warm_user_warm_item.csv\")\n",
    "\n",
    "# round ratings to closest .5 value\n",
    "lightgbm_cold_user_cold_item[\"Rating\"] = lightgbm_cold_user_cold_item[\"Rating\"].map(lambda x: round(x / 0.5) * 0.5)\n",
    "lightgbm_cold_user_warm_item[\"Rating\"] = lightgbm_cold_user_warm_item[\"Rating\"].map(lambda x: round(x / 0.5) * 0.5)\n",
    "lightgbm_warm_user_cold_item[\"Rating\"] = lightgbm_warm_user_cold_item[\"Rating\"].map(lambda x: round(x / 0.5) * 0.5)\n",
    "lightgbm_warm_user_warm_item[\"Rating\"] = lightgbm_warm_user_warm_item[\"Rating\"].map(lambda x: round(x / 0.5) * 0.5)"
   ]
  },
  {
   "cell_type": "code",
   "execution_count": 9,
   "id": "51cc0d58-3c75-463f-b429-7231a31ce0a0",
   "metadata": {},
   "outputs": [],
   "source": [
    "svd_cold_user_cold_item = pd.read_csv(r\"./svd/svd_cold_user_cold_item.csv\")\n",
    "svd_cold_user_warm_item = pd.read_csv(r\"./svd/svd_cold_user_warm_item.csv\")\n",
    "svd_warm_user_cold_item = pd.read_csv(r\"./svd/svd_warm_user_cold_item.csv\")\n",
    "svd_warm_user_warm_item = pd.read_csv(r\"./svd/svd_warm_user_warm_item.csv\")\n",
    "\n",
    "# round ratings to closest .5 value\n",
    "svd_cold_user_cold_item[\"Rating\"] = svd_cold_user_cold_item[\"Rating\"].map(lambda x: round(x / 0.5) * 0.5)\n",
    "svd_cold_user_warm_item[\"Rating\"] = svd_cold_user_warm_item[\"Rating\"].map(lambda x: round(x / 0.5) * 0.5)\n",
    "svd_warm_user_cold_item[\"Rating\"] = svd_warm_user_cold_item[\"Rating\"].map(lambda x: round(x / 0.5) * 0.5)\n",
    "svd_warm_user_warm_item[\"Rating\"] = svd_warm_user_warm_item[\"Rating\"].map(lambda x: round(x / 0.5) * 0.5)"
   ]
  },
  {
   "cell_type": "code",
   "execution_count": 10,
   "id": "be2a8041-aadf-4e98-b047-a24b365687a9",
   "metadata": {},
   "outputs": [],
   "source": [
    "xgboost_cold_user_cold_item = pd.read_csv(r\"./xgboost/xgboost_cold_user_cold_item.csv\")\n",
    "xgboost_cold_user_warm_item = pd.read_csv(r\"./xgboost/xgboost_cold_user_warm_item.csv\")\n",
    "xgboost_warm_user_cold_item = pd.read_csv(r\"./xgboost/xgboost_warm_user_cold_item.csv\")\n",
    "xgboost_warm_user_warm_item = pd.read_csv(r\"./xgboost/xgboost_warm_user_warm_item.csv\")\n",
    "\n",
    "# round ratings to closest .5 value\n",
    "xgboost_cold_user_cold_item[\"Rating\"] = xgboost_cold_user_cold_item[\"Rating\"].map(lambda x: round(x / 0.5) * 0.5)\n",
    "xgboost_cold_user_warm_item[\"Rating\"] = xgboost_cold_user_warm_item[\"Rating\"].map(lambda x: round(x / 0.5) * 0.5)\n",
    "xgboost_warm_user_cold_item[\"Rating\"] = xgboost_warm_user_cold_item[\"Rating\"].map(lambda x: round(x / 0.5) * 0.5)\n",
    "xgboost_warm_user_warm_item[\"Rating\"] = xgboost_warm_user_warm_item[\"Rating\"].map(lambda x: round(x / 0.5) * 0.5)"
   ]
  },
  {
   "cell_type": "markdown",
   "id": "7e22120b-e8f7-4801-90ab-d5536e344721",
   "metadata": {
    "jp-MarkdownHeadingCollapsed": true
   },
   "source": [
    "### Vincents Model-based Recommender System"
   ]
  },
  {
   "cell_type": "markdown",
   "id": "4e2bd00d-4a21-4ae4-8f07-60fdc20a1c7d",
   "metadata": {
    "jp-MarkdownHeadingCollapsed": true
   },
   "source": [
    "#### Hot user, Hot Wine"
   ]
  },
  {
   "cell_type": "code",
   "execution_count": 11,
   "id": "3b7238bd-d95d-483b-a88a-efef9b19290a",
   "metadata": {
    "scrolled": true
   },
   "outputs": [
    {
     "name": "stdout",
     "output_type": "stream",
     "text": [
      "   RatingID  Rating  PredictedRating\n",
      "0  17115002     4.5              4.0\n",
      "1  17115008     3.0              4.0\n",
      "2   8821172     4.0              4.0\n",
      "3  15626850     4.0              3.5\n",
      "4  15627422     4.0              4.5\n"
     ]
    },
    {
     "name": "stderr",
     "output_type": "stream",
     "text": [
      "100%|██████████████████████████████████████████████████████████████████████████████| 1000/1000 [02:05<00:00,  8.00it/s]"
     ]
    },
    {
     "name": "stdout",
     "output_type": "stream",
     "text": [
      "0.8077/[0.8053, 0.8100]\n"
     ]
    },
    {
     "name": "stderr",
     "output_type": "stream",
     "text": [
      "\n"
     ]
    }
   ],
   "source": [
    "aligned = align_dfs(true_warm_user_warm_item, vincent_warm_user_warm_item)\n",
    "y_true = aligned['Rating'].values\n",
    "y_pred = aligned['PredictedRating'].values\n",
    "if len(y_true) != len(y_pred):\n",
    "    raise ValueError(\"Different amount of rating\")\n",
    "results = bootstrap_rmse(y_true, y_pred)\n",
    "print(f\"{results[\"mean\"]}/{results[\"ci\"]}\")"
   ]
  },
  {
   "cell_type": "code",
   "execution_count": 12,
   "id": "b99850d2-3867-461e-af10-1fcac4c3ad29",
   "metadata": {},
   "outputs": [
    {
     "data": {
      "text/plain": [
       "(array([  1.,   3.,  33.,  95., 224., 288., 216., 105.,  33.,   2.]),\n",
       " array([0.80276739, 0.80365708, 0.80454677, 0.80543647, 0.80632616,\n",
       "        0.80721585, 0.80810555, 0.80899524, 0.80988493, 0.81077463,\n",
       "        0.81166432]),\n",
       " <BarContainer object of 10 artists>)"
      ]
     },
     "execution_count": 12,
     "metadata": {},
     "output_type": "execute_result"
    },
    {
     "data": {
      "image/png": "[encoded data removed]",
      "text/plain": [
       "<Figure size 640x480 with 1 Axes>"
      ]
     },
     "metadata": {},
     "output_type": "display_data"
    }
   ],
   "source": [
    "plt.hist(results[\"rmse_distribution\"])"
   ]
  },
  {
   "cell_type": "markdown",
   "id": "a3dbaefc-8383-4c10-b1b8-cd440fad5b79",
   "metadata": {
    "jp-MarkdownHeadingCollapsed": true
   },
   "source": [
    "#### Hot user, Cold Wine"
   ]
  },
  {
   "cell_type": "code",
   "execution_count": 13,
   "id": "045ad502-328c-4c5b-9724-5d494eb318c9",
   "metadata": {},
   "outputs": [
    {
     "name": "stdout",
     "output_type": "stream",
     "text": [
      "   RatingID  Rating  PredictedRating\n",
      "0  18311916     3.5              4.0\n",
      "1  18303342     4.0              4.0\n",
      "2  20547045     4.0              4.0\n",
      "3  11900766     3.5              4.0\n",
      "4  18273405     3.5              4.0\n"
     ]
    },
    {
     "name": "stderr",
     "output_type": "stream",
     "text": [
      "100%|████████████████████████████████████████████████████████████████████████████| 1000/1000 [00:00<00:00, 1001.45it/s]"
     ]
    },
    {
     "name": "stdout",
     "output_type": "stream",
     "text": [
      "0.6982/[0.6908, 0.7060]\n"
     ]
    },
    {
     "name": "stderr",
     "output_type": "stream",
     "text": [
      "\n"
     ]
    }
   ],
   "source": [
    "aligned = align_dfs(true_warm_user_cold_item, vincent_warm_user_cold_item)\n",
    "y_true = aligned['Rating'].values\n",
    "y_pred = aligned['PredictedRating'].values\n",
    "if len(y_true) != len(y_pred):\n",
    "    raise ValueError(\"Different amount of rating\")\n",
    "results = bootstrap_rmse(y_true, y_pred)\n",
    "print(f\"{results[\"mean\"]}/{results[\"ci\"]}\")"
   ]
  },
  {
   "cell_type": "code",
   "execution_count": 14,
   "id": "1d66c14a-f188-46eb-a098-3ee993ef6082",
   "metadata": {},
   "outputs": [
    {
     "data": {
      "text/plain": [
       "(array([ 13.,  34., 137., 214., 267., 188., 103.,  35.,   7.,   2.]),\n",
       " array([0.68678684, 0.68937951, 0.69197218, 0.69456485, 0.69715751,\n",
       "        0.69975018, 0.70234285, 0.70493552, 0.70752819, 0.71012086,\n",
       "        0.71271353]),\n",
       " <BarContainer object of 10 artists>)"
      ]
     },
     "execution_count": 14,
     "metadata": {},
     "output_type": "execute_result"
    },
    {
     "data": {
      "image/png": "[encoded data removed]",
      "text/plain": [
       "<Figure size 640x480 with 1 Axes>"
      ]
     },
     "metadata": {},
     "output_type": "display_data"
    }
   ],
   "source": [
    "plt.hist(results[\"rmse_distribution\"])"
   ]
  },
  {
   "cell_type": "markdown",
   "id": "0480118d-0f5b-4104-9c1e-d1dbd2174986",
   "metadata": {
    "jp-MarkdownHeadingCollapsed": true
   },
   "source": [
    "#### Cold user, Hot Wine"
   ]
  },
  {
   "cell_type": "code",
   "execution_count": 15,
   "id": "a2b61ffe-333b-4d18-b9d0-49084b765f7c",
   "metadata": {},
   "outputs": [
    {
     "name": "stdout",
     "output_type": "stream",
     "text": [
      "   RatingID  Rating  PredictedRating\n",
      "0  17618447     4.0              3.5\n",
      "1  19286240     5.0              3.5\n",
      "2  18939364     4.5              3.5\n",
      "3  14312250     4.5              3.5\n",
      "4  18967247     5.0              3.5\n"
     ]
    },
    {
     "name": "stderr",
     "output_type": "stream",
     "text": [
      "100%|██████████████████████████████████████████████████████████████████████████████| 1000/1000 [00:23<00:00, 41.83it/s]"
     ]
    },
    {
     "name": "stdout",
     "output_type": "stream",
     "text": [
      "1.0827/[1.0767, 1.0888]\n"
     ]
    },
    {
     "name": "stderr",
     "output_type": "stream",
     "text": [
      "\n"
     ]
    }
   ],
   "source": [
    "aligned = align_dfs(true_cold_user_warm_item, vincent_cold_user_warm_item)\n",
    "y_true = aligned['Rating'].values\n",
    "y_pred = aligned['PredictedRating'].values\n",
    "if len(y_true) != len(y_pred):\n",
    "    raise ValueError(\"Different amount of rating\")\n",
    "results = bootstrap_rmse(y_true, y_pred)\n",
    "print(f\"{results[\"mean\"]}/{results[\"ci\"]}\")"
   ]
  },
  {
   "cell_type": "code",
   "execution_count": 16,
   "id": "c7309881-d09a-4f16-aa90-551978e80f56",
   "metadata": {},
   "outputs": [
    {
     "data": {
      "text/plain": [
       "(array([  8.,  39., 110., 208., 257., 233., 102.,  33.,   9.,   1.]),\n",
       " array([1.07341227, 1.07548371, 1.07755515, 1.0796266 , 1.08169804,\n",
       "        1.08376949, 1.08584093, 1.08791238, 1.08998382, 1.09205527,\n",
       "        1.09412671]),\n",
       " <BarContainer object of 10 artists>)"
      ]
     },
     "execution_count": 16,
     "metadata": {},
     "output_type": "execute_result"
    },
    {
     "data": {
      "image/png": "[encoded data removed]",
      "text/plain": [
       "<Figure size 640x480 with 1 Axes>"
      ]
     },
     "metadata": {},
     "output_type": "display_data"
    }
   ],
   "source": [
    "plt.hist(results[\"rmse_distribution\"])"
   ]
  },
  {
   "cell_type": "markdown",
   "id": "2ffd4d73-8de4-404e-bedc-1e4437ee56ff",
   "metadata": {
    "jp-MarkdownHeadingCollapsed": true
   },
   "source": [
    "#### Cold user, Cold Wine"
   ]
  },
  {
   "cell_type": "code",
   "execution_count": 17,
   "id": "14560b0e-20a7-4b66-b458-39d78879f387",
   "metadata": {},
   "outputs": [
    {
     "name": "stdout",
     "output_type": "stream",
     "text": [
      "   RatingID  Rating  PredictedRating\n",
      "0  18274504     5.0              4.0\n",
      "1  18317678     5.0              4.0\n",
      "2  18317912     3.5              4.0\n",
      "3  15708051     3.5              4.0\n",
      "4   8822957     4.0              4.0\n"
     ]
    },
    {
     "name": "stderr",
     "output_type": "stream",
     "text": [
      "100%|████████████████████████████████████████████████████████████████████████████| 1000/1000 [00:00<00:00, 1402.84it/s]"
     ]
    },
    {
     "name": "stdout",
     "output_type": "stream",
     "text": [
      "0.8645/[0.8528, 0.8765]\n"
     ]
    },
    {
     "name": "stderr",
     "output_type": "stream",
     "text": [
      "\n"
     ]
    }
   ],
   "source": [
    "aligned = align_dfs(true_cold_user_cold_item, vincent_cold_user_cold_item)\n",
    "y_true = aligned['Rating'].values\n",
    "y_pred = aligned['PredictedRating'].values\n",
    "if len(y_true) != len(y_pred):\n",
    "    raise ValueError(\"Different amount of rating\")\n",
    "results = bootstrap_rmse(y_true, y_pred)\n",
    "print(f\"{results[\"mean\"]}/{results[\"ci\"]}\")"
   ]
  },
  {
   "cell_type": "code",
   "execution_count": 18,
   "id": "af37067c-7570-43be-8968-aec5c2606f0d",
   "metadata": {},
   "outputs": [
    {
     "data": {
      "text/plain": [
       "(array([ 11.,  70., 125., 240., 222., 191.,  93.,  36.,  11.,   1.]),\n",
       " array([0.84780912, 0.8516929 , 0.85557668, 0.85946046, 0.86334424,\n",
       "        0.86722802, 0.8711118 , 0.87499558, 0.87887936, 0.88276314,\n",
       "        0.88664692]),\n",
       " <BarContainer object of 10 artists>)"
      ]
     },
     "execution_count": 18,
     "metadata": {},
     "output_type": "execute_result"
    },
    {
     "data": {
      "image/png": "[encoded data removed]",
      "text/plain": [
       "<Figure size 640x480 with 1 Axes>"
      ]
     },
     "metadata": {},
     "output_type": "display_data"
    }
   ],
   "source": [
    "plt.hist(results[\"rmse_distribution\"])"
   ]
  },
  {
   "cell_type": "markdown",
   "id": "d269bb1d-f74d-48be-aa13-7c6b123e661b",
   "metadata": {},
   "source": [
    "### Denis Model-based Recommender Systems"
   ]
  },
  {
   "cell_type": "markdown",
   "id": "3ce541f8-d981-4667-81c2-ef7a63e99098",
   "metadata": {
    "jp-MarkdownHeadingCollapsed": true
   },
   "source": [
    "#### LightGBM"
   ]
  },
  {
   "cell_type": "markdown",
   "id": "bc4d4fc8-d8a1-4897-900c-ad96d2f632df",
   "metadata": {
    "jp-MarkdownHeadingCollapsed": true
   },
   "source": [
    "##### Hot user, Hot Wine"
   ]
  },
  {
   "cell_type": "code",
   "execution_count": 19,
   "id": "434ced19-ccc8-43f2-8faf-86b0cdc0692c",
   "metadata": {},
   "outputs": [
    {
     "name": "stdout",
     "output_type": "stream",
     "text": [
      "   RatingID  Rating_x  Rating_y\n",
      "0  17115002       4.5       4.5\n",
      "1  17115008       3.0       3.5\n",
      "2   8821172       4.0       4.0\n",
      "3  15626850       4.0       4.0\n",
      "4  15627422       4.0       4.0\n"
     ]
    },
    {
     "name": "stderr",
     "output_type": "stream",
     "text": [
      "100%|██████████████████████████████████████████████████████████████████████████████| 1000/1000 [01:45<00:00,  9.48it/s]"
     ]
    },
    {
     "name": "stdout",
     "output_type": "stream",
     "text": [
      "0.6303/[0.6295, 0.6312]\n"
     ]
    },
    {
     "name": "stderr",
     "output_type": "stream",
     "text": [
      "\n"
     ]
    }
   ],
   "source": [
    "aligned = align_dfs(true_warm_user_warm_item, lightgbm_warm_user_warm_item)\n",
    "y_true = aligned['Rating_x'].values\n",
    "y_pred = aligned['Rating_y'].values\n",
    "if len(y_true) != len(y_pred):\n",
    "    raise ValueError(\"Different amount of rating\")\n",
    "results = bootstrap_rmse(y_true, y_pred)\n",
    "print(f\"{results[\"mean\"]}/{results[\"ci\"]}\")"
   ]
  },
  {
   "cell_type": "code",
   "execution_count": 20,
   "id": "0cb3dd78-dd18-48b6-95cb-10ca46e5ce4e",
   "metadata": {},
   "outputs": [
    {
     "data": {
      "text/plain": [
       "(array([  9.,  56., 143., 221., 253., 183., 101.,  27.,   5.,   2.]),\n",
       " array([0.62902053, 0.62932834, 0.62963614, 0.62994394, 0.63025174,\n",
       "        0.63055954, 0.63086734, 0.63117514, 0.63148295, 0.63179075,\n",
       "        0.63209855]),\n",
       " <BarContainer object of 10 artists>)"
      ]
     },
     "execution_count": 20,
     "metadata": {},
     "output_type": "execute_result"
    },
    {
     "data": {
      "image/png": "[encoded data removed]",
      "text/plain": [
       "<Figure size 640x480 with 1 Axes>"
      ]
     },
     "metadata": {},
     "output_type": "display_data"
    }
   ],
   "source": [
    "plt.hist(results[\"rmse_distribution\"])"
   ]
  },
  {
   "cell_type": "markdown",
   "id": "e3dda8f4-6b2f-4399-9f4f-68b2992fedb0",
   "metadata": {
    "jp-MarkdownHeadingCollapsed": true
   },
   "source": [
    "##### Hot user, Cold Wine"
   ]
  },
  {
   "cell_type": "code",
   "execution_count": 21,
   "id": "4668f6d4-7f4b-4fa3-a106-7fa93cf7182a",
   "metadata": {},
   "outputs": [
    {
     "name": "stdout",
     "output_type": "stream",
     "text": [
      "   RatingID  Rating_x  Rating_y\n",
      "0  18311916       3.5       3.5\n",
      "1  18303342       4.0       4.0\n",
      "2  20547045       4.0       4.0\n",
      "3  11900766       3.5       4.0\n",
      "4  18273405       3.5       4.0\n"
     ]
    },
    {
     "name": "stderr",
     "output_type": "stream",
     "text": [
      "100%|█████████████████████████████████████████████████████████████████████████████| 1000/1000 [00:01<00:00, 733.39it/s]"
     ]
    },
    {
     "name": "stdout",
     "output_type": "stream",
     "text": [
      "0.6892/[0.6821, 0.6964]\n"
     ]
    },
    {
     "name": "stderr",
     "output_type": "stream",
     "text": [
      "\n"
     ]
    }
   ],
   "source": [
    "aligned = align_dfs(true_warm_user_cold_item, lightgbm_warm_user_cold_item)\n",
    "y_true = aligned['Rating_x'].values\n",
    "y_pred = aligned['Rating_y'].values\n",
    "if len(y_true) != len(y_pred):\n",
    "    raise ValueError(\"Different amount of rating\")\n",
    "results = bootstrap_rmse(y_true, y_pred)\n",
    "print(f\"{results[\"mean\"]}/{results[\"ci\"]}\")"
   ]
  },
  {
   "cell_type": "code",
   "execution_count": 22,
   "id": "d66b84c3-45e3-4ab4-895d-3d192b0c1489",
   "metadata": {},
   "outputs": [
    {
     "data": {
      "text/plain": [
       "(array([ 12.,  25., 111., 205., 282., 208., 116.,  28.,  10.,   3.]),\n",
       " array([0.67845107, 0.68082935, 0.68320762, 0.6855859 , 0.68796417,\n",
       "        0.69034245, 0.69272072, 0.69509899, 0.69747727, 0.69985554,\n",
       "        0.70223382]),\n",
       " <BarContainer object of 10 artists>)"
      ]
     },
     "execution_count": 22,
     "metadata": {},
     "output_type": "execute_result"
    },
    {
     "data": {
      "image/png": "[encoded data removed]",
      "text/plain": [
       "<Figure size 640x480 with 1 Axes>"
      ]
     },
     "metadata": {},
     "output_type": "display_data"
    }
   ],
   "source": [
    "plt.hist(results[\"rmse_distribution\"])"
   ]
  },
  {
   "cell_type": "markdown",
   "id": "ed797646-9139-45ef-af50-978e9c4a0d00",
   "metadata": {
    "jp-MarkdownHeadingCollapsed": true
   },
   "source": [
    "##### Cold user, Hot Wine"
   ]
  },
  {
   "cell_type": "code",
   "execution_count": 23,
   "id": "a2a68af4-2ecd-4fe3-b44d-5eaf2eb26f80",
   "metadata": {},
   "outputs": [
    {
     "name": "stdout",
     "output_type": "stream",
     "text": [
      "   RatingID  Rating_x  Rating_y\n",
      "0  17618447       4.0       4.0\n",
      "1  19286240       5.0       3.5\n",
      "2  18939364       4.5       4.0\n",
      "3  14312250       4.5       3.5\n",
      "4  18967247       5.0       4.0\n"
     ]
    },
    {
     "name": "stderr",
     "output_type": "stream",
     "text": [
      "100%|██████████████████████████████████████████████████████████████████████████████| 1000/1000 [00:24<00:00, 40.17it/s]"
     ]
    },
    {
     "name": "stdout",
     "output_type": "stream",
     "text": [
      "0.7063/[0.7044, 0.7081]\n"
     ]
    },
    {
     "name": "stderr",
     "output_type": "stream",
     "text": [
      "\n"
     ]
    }
   ],
   "source": [
    "aligned = align_dfs(true_cold_user_warm_item, lightgbm_cold_user_warm_item)\n",
    "y_true = aligned['Rating_x'].values\n",
    "y_pred = aligned['Rating_y'].values\n",
    "if len(y_true) != len(y_pred):\n",
    "    raise ValueError(\"Different amount of rating\")\n",
    "results = bootstrap_rmse(y_true, y_pred)\n",
    "print(f\"{results[\"mean\"]}/{results[\"ci\"]}\")"
   ]
  },
  {
   "cell_type": "code",
   "execution_count": 24,
   "id": "b23b7297-347c-46cd-ae28-0c299edcd6dd",
   "metadata": {},
   "outputs": [
    {
     "data": {
      "text/plain": [
       "(array([  8.,  40., 104., 211., 275., 193., 121.,  37.,   8.,   3.]),\n",
       " array([0.70330149, 0.7039543 , 0.70460711, 0.70525992, 0.70591273,\n",
       "        0.70656554, 0.70721834, 0.70787115, 0.70852396, 0.70917677,\n",
       "        0.70982958]),\n",
       " <BarContainer object of 10 artists>)"
      ]
     },
     "execution_count": 24,
     "metadata": {},
     "output_type": "execute_result"
    },
    {
     "data": {
      "image/png": "[encoded data removed]",
      "text/plain": [
       "<Figure size 640x480 with 1 Axes>"
      ]
     },
     "metadata": {},
     "output_type": "display_data"
    }
   ],
   "source": [
    "plt.hist(results[\"rmse_distribution\"])"
   ]
  },
  {
   "cell_type": "markdown",
   "id": "f23631b1-f2d5-4317-9ab1-2b1139508f17",
   "metadata": {
    "jp-MarkdownHeadingCollapsed": true
   },
   "source": [
    "##### Cold user, Cold Wine"
   ]
  },
  {
   "cell_type": "code",
   "execution_count": 25,
   "id": "736c7a9b-1cec-4395-821c-bce5a7c8feb0",
   "metadata": {},
   "outputs": [
    {
     "name": "stdout",
     "output_type": "stream",
     "text": [
      "   RatingID  Rating_x  Rating_y\n",
      "0  18274504       5.0       4.0\n",
      "1  18317678       5.0       3.5\n",
      "2  18317912       3.5       3.5\n",
      "3  15708051       3.5       4.0\n",
      "4   8822957       4.0       3.5\n"
     ]
    },
    {
     "name": "stderr",
     "output_type": "stream",
     "text": [
      "100%|████████████████████████████████████████████████████████████████████████████| 1000/1000 [00:00<00:00, 1418.38it/s]"
     ]
    },
    {
     "name": "stdout",
     "output_type": "stream",
     "text": [
      "0.7797/[0.7691, 0.7909]\n"
     ]
    },
    {
     "name": "stderr",
     "output_type": "stream",
     "text": [
      "\n"
     ]
    }
   ],
   "source": [
    "aligned = align_dfs(true_cold_user_cold_item, lightgbm_cold_user_cold_item)\n",
    "y_true = aligned['Rating_x'].values\n",
    "y_pred = aligned['Rating_y'].values\n",
    "if len(y_true) != len(y_pred):\n",
    "    raise ValueError(\"Different amount of rating\")\n",
    "results = bootstrap_rmse(y_true, y_pred)\n",
    "print(f\"{results[\"mean\"]}/{results[\"ci\"]}\")"
   ]
  },
  {
   "cell_type": "code",
   "execution_count": 26,
   "id": "d807b6cd-aa0f-47b3-bf4c-eab66567615e",
   "metadata": {},
   "outputs": [
    {
     "data": {
      "text/plain": [
       "(array([  7.,  38.,  85., 184., 244., 219., 133.,  58.,  27.,   5.]),\n",
       " array([0.7636403 , 0.76698676, 0.77033323, 0.77367969, 0.77702615,\n",
       "        0.78037262, 0.78371908, 0.78706554, 0.79041201, 0.79375847,\n",
       "        0.79710493]),\n",
       " <BarContainer object of 10 artists>)"
      ]
     },
     "execution_count": 26,
     "metadata": {},
     "output_type": "execute_result"
    },
    {
     "data": {
      "image/png": "[encoded data removed]",
      "text/plain": [
       "<Figure size 640x480 with 1 Axes>"
      ]
     },
     "metadata": {},
     "output_type": "display_data"
    }
   ],
   "source": [
    "plt.hist(results[\"rmse_distribution\"])"
   ]
  },
  {
   "cell_type": "markdown",
   "id": "073cba64-cc1b-4342-8583-d668daecc2b9",
   "metadata": {
    "jp-MarkdownHeadingCollapsed": true
   },
   "source": [
    "#### SVD"
   ]
  },
  {
   "cell_type": "markdown",
   "id": "95244f73-85d4-459e-9665-bb729f7a5589",
   "metadata": {
    "jp-MarkdownHeadingCollapsed": true
   },
   "source": [
    "##### Hot user, Hot Wine"
   ]
  },
  {
   "cell_type": "code",
   "execution_count": 27,
   "id": "5c92bb57-b917-4bd1-bad8-5b00446dae02",
   "metadata": {},
   "outputs": [
    {
     "name": "stdout",
     "output_type": "stream",
     "text": [
      "   RatingID  Rating_x  Rating_y\n",
      "0  17115002       4.5       4.5\n",
      "1  17115008       3.0       3.5\n",
      "2   8821172       4.0       4.0\n",
      "3  15626850       4.0       4.0\n",
      "4  15627422       4.0       4.0\n"
     ]
    },
    {
     "name": "stderr",
     "output_type": "stream",
     "text": [
      "100%|██████████████████████████████████████████████████████████████████████████████| 1000/1000 [01:53<00:00,  8.80it/s]"
     ]
    },
    {
     "name": "stdout",
     "output_type": "stream",
     "text": [
      "0.5837/[0.5828, 0.5845]\n"
     ]
    },
    {
     "name": "stderr",
     "output_type": "stream",
     "text": [
      "\n"
     ]
    }
   ],
   "source": [
    "aligned = align_dfs(true_warm_user_warm_item, svd_warm_user_warm_item)\n",
    "y_true = aligned['Rating_x'].values\n",
    "y_pred = aligned['Rating_y'].values\n",
    "if len(y_true) != len(y_pred):\n",
    "    raise ValueError(\"Different amount of rating\")\n",
    "results = bootstrap_rmse(y_true, y_pred)\n",
    "print(f\"{results[\"mean\"]}/{results[\"ci\"]}\")"
   ]
  },
  {
   "cell_type": "code",
   "execution_count": 28,
   "id": "c6cda109-3b8b-494d-9f78-fa386426c0be",
   "metadata": {},
   "outputs": [
    {
     "data": {
      "text/plain": [
       "(array([ 10.,  40., 114., 152., 209., 214., 145.,  81.,  27.,   8.]),\n",
       " array([0.58243699, 0.58269612, 0.58295525, 0.58321438, 0.58347351,\n",
       "        0.58373264, 0.58399177, 0.58425089, 0.58451002, 0.58476915,\n",
       "        0.58502828]),\n",
       " <BarContainer object of 10 artists>)"
      ]
     },
     "execution_count": 28,
     "metadata": {},
     "output_type": "execute_result"
    },
    {
     "data": {
      "image/png": "[encoded data removed]",
      "text/plain": [
       "<Figure size 640x480 with 1 Axes>"
      ]
     },
     "metadata": {},
     "output_type": "display_data"
    }
   ],
   "source": [
    "plt.hist(results[\"rmse_distribution\"])"
   ]
  },
  {
   "cell_type": "markdown",
   "id": "804b0d76-019b-4c75-99ad-c7844a9d35fc",
   "metadata": {
    "jp-MarkdownHeadingCollapsed": true
   },
   "source": [
    "##### Hot user, Cold Wine"
   ]
  },
  {
   "cell_type": "code",
   "execution_count": 29,
   "id": "19c2ccfb-bc08-400c-b42a-556490f574f4",
   "metadata": {},
   "outputs": [
    {
     "name": "stdout",
     "output_type": "stream",
     "text": [
      "   RatingID  Rating_x  Rating_y\n",
      "0  18311916       3.5       4.0\n",
      "1  18303342       4.0       3.5\n",
      "2  20547045       4.0       4.0\n",
      "3  11900766       3.5       3.5\n",
      "4  18273405       3.5       4.0\n"
     ]
    },
    {
     "name": "stderr",
     "output_type": "stream",
     "text": [
      "100%|█████████████████████████████████████████████████████████████████████████████| 1000/1000 [00:01<00:00, 952.13it/s]"
     ]
    },
    {
     "name": "stdout",
     "output_type": "stream",
     "text": [
      "0.6606/[0.6534, 0.6674]\n"
     ]
    },
    {
     "name": "stderr",
     "output_type": "stream",
     "text": [
      "\n"
     ]
    }
   ],
   "source": [
    "aligned = align_dfs(true_warm_user_cold_item, svd_warm_user_cold_item)\n",
    "y_true = aligned['Rating_x'].values\n",
    "y_pred = aligned['Rating_y'].values\n",
    "if len(y_true) != len(y_pred):\n",
    "    raise ValueError(\"Different amount of rating\")\n",
    "results = bootstrap_rmse(y_true, y_pred)\n",
    "print(f\"{results[\"mean\"]}/{results[\"ci\"]}\")"
   ]
  },
  {
   "cell_type": "code",
   "execution_count": 30,
   "id": "6c0e30ef-42ec-41c3-bf30-f125f6a620ad",
   "metadata": {},
   "outputs": [
    {
     "data": {
      "text/plain": [
       "(array([ 11.,  44., 107., 190., 267., 206., 116.,  51.,   6.,   2.]),\n",
       " array([0.64982837, 0.65219622, 0.65456407, 0.65693192, 0.65929977,\n",
       "        0.66166762, 0.66403548, 0.66640333, 0.66877118, 0.67113903,\n",
       "        0.67350688]),\n",
       " <BarContainer object of 10 artists>)"
      ]
     },
     "execution_count": 30,
     "metadata": {},
     "output_type": "execute_result"
    },
    {
     "data": {
      "image/png": "[encoded data removed]",
      "text/plain": [
       "<Figure size 640x480 with 1 Axes>"
      ]
     },
     "metadata": {},
     "output_type": "display_data"
    }
   ],
   "source": [
    "plt.hist(results[\"rmse_distribution\"])"
   ]
  },
  {
   "cell_type": "markdown",
   "id": "de34526f-6169-4a15-b5af-46dd9b300e77",
   "metadata": {
    "jp-MarkdownHeadingCollapsed": true
   },
   "source": [
    "##### Cold user, Hot Wine"
   ]
  },
  {
   "cell_type": "code",
   "execution_count": 31,
   "id": "0c19ae53-1b9c-46d0-bd33-1bfc70e0045f",
   "metadata": {},
   "outputs": [
    {
     "name": "stdout",
     "output_type": "stream",
     "text": [
      "   RatingID  Rating_x  Rating_y\n",
      "0  17618447       4.0       3.5\n",
      "1  19286240       5.0       3.5\n",
      "2  18939364       4.5       4.0\n",
      "3  14312250       4.5       3.5\n",
      "4  18967247       5.0       4.0\n"
     ]
    },
    {
     "name": "stderr",
     "output_type": "stream",
     "text": [
      "100%|██████████████████████████████████████████████████████████████████████████████| 1000/1000 [00:24<00:00, 40.69it/s]"
     ]
    },
    {
     "name": "stdout",
     "output_type": "stream",
     "text": [
      "0.6815/[0.6796, 0.6834]\n"
     ]
    },
    {
     "name": "stderr",
     "output_type": "stream",
     "text": [
      "\n"
     ]
    }
   ],
   "source": [
    "aligned = align_dfs(true_cold_user_warm_item, svd_cold_user_warm_item)\n",
    "y_true = aligned['Rating_x'].values\n",
    "y_pred = aligned['Rating_y'].values\n",
    "if len(y_true) != len(y_pred):\n",
    "    raise ValueError(\"Different amount of rating\")\n",
    "results = bootstrap_rmse(y_true, y_pred)\n",
    "print(f\"{results[\"mean\"]}/{results[\"ci\"]}\")"
   ]
  },
  {
   "cell_type": "code",
   "execution_count": 32,
   "id": "703695c2-93b4-410c-82ae-27a735affc28",
   "metadata": {},
   "outputs": [
    {
     "data": {
      "text/plain": [
       "(array([ 15.,  42., 111., 204., 268., 189., 128.,  33.,   6.,   4.]),\n",
       " array([0.67877209, 0.67938858, 0.68000508, 0.68062157, 0.68123806,\n",
       "        0.68185455, 0.68247104, 0.68308754, 0.68370403, 0.68432052,\n",
       "        0.68493701]),\n",
       " <BarContainer object of 10 artists>)"
      ]
     },
     "execution_count": 32,
     "metadata": {},
     "output_type": "execute_result"
    },
    {
     "data": {
      "image/png": "[encoded data removed]",
      "text/plain": [
       "<Figure size 640x480 with 1 Axes>"
      ]
     },
     "metadata": {},
     "output_type": "display_data"
    }
   ],
   "source": [
    "plt.hist(results[\"rmse_distribution\"])"
   ]
  },
  {
   "cell_type": "markdown",
   "id": "4b22e364-a0c9-4786-bb6f-c280899d7679",
   "metadata": {},
   "source": [
    "##### Cold user, Cold Wine"
   ]
  },
  {
   "cell_type": "code",
   "execution_count": 33,
   "id": "09c7ac48-948f-44fb-b404-bb751f34abe1",
   "metadata": {},
   "outputs": [
    {
     "name": "stdout",
     "output_type": "stream",
     "text": [
      "   RatingID  Rating_x  Rating_y\n",
      "0  18274504       5.0       4.0\n",
      "1  18317678       5.0       4.0\n",
      "2  18317912       3.5       4.0\n",
      "3  15708051       3.5       4.0\n",
      "4   8822957       4.0       4.0\n"
     ]
    },
    {
     "name": "stderr",
     "output_type": "stream",
     "text": [
      "100%|████████████████████████████████████████████████████████████████████████████| 1000/1000 [00:00<00:00, 1380.01it/s]"
     ]
    },
    {
     "name": "stdout",
     "output_type": "stream",
     "text": [
      "0.7896/[0.7789, 0.8016]\n"
     ]
    },
    {
     "name": "stderr",
     "output_type": "stream",
     "text": [
      "\n"
     ]
    }
   ],
   "source": [
    "aligned = align_dfs(true_cold_user_cold_item, svd_cold_user_cold_item)\n",
    "y_true = aligned['Rating_x'].values\n",
    "y_pred = aligned['Rating_y'].values\n",
    "if len(y_true) != len(y_pred):\n",
    "    raise ValueError(\"Different amount of rating\")\n",
    "results = bootstrap_rmse(y_true, y_pred)\n",
    "print(f\"{results[\"mean\"]}/{results[\"ci\"]}\")"
   ]
  },
  {
   "cell_type": "code",
   "execution_count": 34,
   "id": "dee2a4ca-1406-40a9-b851-2cb0a28ff4c7",
   "metadata": {},
   "outputs": [
    {
     "data": {
      "text/plain": [
       "(array([ 15.,  44., 106., 184., 221., 193., 136.,  70.,  22.,   9.]),\n",
       " array([0.77399412, 0.7772939 , 0.78059369, 0.78389348, 0.78719326,\n",
       "        0.79049305, 0.79379284, 0.79709262, 0.80039241, 0.8036922 ,\n",
       "        0.80699199]),\n",
       " <BarContainer object of 10 artists>)"
      ]
     },
     "execution_count": 34,
     "metadata": {},
     "output_type": "execute_result"
    },
    {
     "data": {
      "image/png": "[encoded data removed]",
      "text/plain": [
       "<Figure size 640x480 with 1 Axes>"
      ]
     },
     "metadata": {},
     "output_type": "display_data"
    }
   ],
   "source": [
    "plt.hist(results[\"rmse_distribution\"])"
   ]
  },
  {
   "cell_type": "markdown",
   "id": "8336458f-60ca-43f2-b933-a543cf9492b7",
   "metadata": {
    "jp-MarkdownHeadingCollapsed": true
   },
   "source": [
    "#### XGBoost"
   ]
  },
  {
   "cell_type": "markdown",
   "id": "0c393325-7581-4ab8-92fb-6d34b8b0c010",
   "metadata": {
    "jp-MarkdownHeadingCollapsed": true
   },
   "source": [
    "##### Hot user, Hot Wine"
   ]
  },
  {
   "cell_type": "code",
   "execution_count": 35,
   "id": "b7bc8702-912e-410c-8274-ea4c041b3ce4",
   "metadata": {},
   "outputs": [
    {
     "name": "stdout",
     "output_type": "stream",
     "text": [
      "   RatingID  Rating_x  Rating_y\n",
      "0  17115002       4.5       4.5\n",
      "1  17115008       3.0       3.5\n",
      "2   8821172       4.0       4.0\n",
      "3  15626850       4.0       4.0\n",
      "4  15627422       4.0       4.0\n"
     ]
    },
    {
     "name": "stderr",
     "output_type": "stream",
     "text": [
      "100%|██████████████████████████████████████████████████████████████████████████████| 1000/1000 [01:58<00:00,  8.40it/s]"
     ]
    },
    {
     "name": "stdout",
     "output_type": "stream",
     "text": [
      "0.6281/[0.6273, 0.6290]\n"
     ]
    },
    {
     "name": "stderr",
     "output_type": "stream",
     "text": [
      "\n"
     ]
    }
   ],
   "source": [
    "aligned = align_dfs(true_warm_user_warm_item, xgboost_warm_user_warm_item)\n",
    "y_true = aligned['Rating_x'].values\n",
    "y_pred = aligned['Rating_y'].values\n",
    "if len(y_true) != len(y_pred):\n",
    "    raise ValueError(\"Different amount of rating\")\n",
    "results = bootstrap_rmse(y_true, y_pred)\n",
    "print(f\"{results[\"mean\"]}/{results[\"ci\"]}\")"
   ]
  },
  {
   "cell_type": "code",
   "execution_count": 36,
   "id": "bbb6dfce-9b95-4d64-9086-6e28713ad79e",
   "metadata": {},
   "outputs": [
    {
     "data": {
      "text/plain": [
       "(array([ 10.,  62., 141., 245., 262., 174.,  81.,  19.,   4.,   2.]),\n",
       " array([0.62683162, 0.62714507, 0.62745852, 0.62777197, 0.62808542,\n",
       "        0.62839887, 0.62871232, 0.62902577, 0.62933922, 0.62965267,\n",
       "        0.62996612]),\n",
       " <BarContainer object of 10 artists>)"
      ]
     },
     "execution_count": 36,
     "metadata": {},
     "output_type": "execute_result"
    },
    {
     "data": {
      "image/png": "[encoded data removed]",
      "text/plain": [
       "<Figure size 640x480 with 1 Axes>"
      ]
     },
     "metadata": {},
     "output_type": "display_data"
    }
   ],
   "source": [
    "plt.hist(results[\"rmse_distribution\"])"
   ]
  },
  {
   "cell_type": "markdown",
   "id": "4c6ae799-948c-4546-b7bd-4c27295eefe4",
   "metadata": {
    "jp-MarkdownHeadingCollapsed": true
   },
   "source": [
    "##### Hot user, Cold Wine"
   ]
  },
  {
   "cell_type": "code",
   "execution_count": 37,
   "id": "f824c253-9dda-4467-8ea8-0cb2802d4705",
   "metadata": {},
   "outputs": [
    {
     "name": "stdout",
     "output_type": "stream",
     "text": [
      "   RatingID  Rating_x  Rating_y\n",
      "0  18311916       3.5       3.5\n",
      "1  18303342       4.0       4.0\n",
      "2  20547045       4.0       4.0\n",
      "3  11900766       3.5       4.0\n",
      "4  18273405       3.5       4.0\n"
     ]
    },
    {
     "name": "stderr",
     "output_type": "stream",
     "text": [
      "100%|█████████████████████████████████████████████████████████████████████████████| 1000/1000 [00:01<00:00, 907.14it/s]"
     ]
    },
    {
     "name": "stdout",
     "output_type": "stream",
     "text": [
      "0.6790/[0.6721, 0.6864]\n"
     ]
    },
    {
     "name": "stderr",
     "output_type": "stream",
     "text": [
      "\n"
     ]
    }
   ],
   "source": [
    "aligned = align_dfs(true_warm_user_cold_item, xgboost_warm_user_cold_item)\n",
    "y_true = aligned['Rating_x'].values\n",
    "y_pred = aligned['Rating_y'].values\n",
    "if len(y_true) != len(y_pred):\n",
    "    raise ValueError(\"Different amount of rating\")\n",
    "results = bootstrap_rmse(y_true, y_pred)\n",
    "print(f\"{results[\"mean\"]}/{results[\"ci\"]}\")"
   ]
  },
  {
   "cell_type": "code",
   "execution_count": 38,
   "id": "d6e2d208-32c7-4d75-be9a-7013c3b948ce",
   "metadata": {},
   "outputs": [
    {
     "data": {
      "text/plain": [
       "(array([ 14.,  33., 123., 210., 250., 199., 111.,  46.,  11.,   3.]),\n",
       " array([0.66859468, 0.67091666, 0.67323864, 0.67556062, 0.6778826 ,\n",
       "        0.68020458, 0.68252656, 0.68484855, 0.68717053, 0.68949251,\n",
       "        0.69181449]),\n",
       " <BarContainer object of 10 artists>)"
      ]
     },
     "execution_count": 38,
     "metadata": {},
     "output_type": "execute_result"
    },
    {
     "data": {
      "image/png": "[encoded data removed]",
      "text/plain": [
       "<Figure size 640x480 with 1 Axes>"
      ]
     },
     "metadata": {},
     "output_type": "display_data"
    }
   ],
   "source": [
    "plt.hist(results[\"rmse_distribution\"])"
   ]
  },
  {
   "cell_type": "markdown",
   "id": "1754cf64-d7d5-421e-8456-0389094d2efc",
   "metadata": {
    "jp-MarkdownHeadingCollapsed": true
   },
   "source": [
    "##### Cold user, Hot Wine"
   ]
  },
  {
   "cell_type": "code",
   "execution_count": 39,
   "id": "a57ba97e-c3b9-470b-9586-70782b4defee",
   "metadata": {
    "scrolled": true
   },
   "outputs": [
    {
     "name": "stdout",
     "output_type": "stream",
     "text": [
      "   RatingID  Rating_x  Rating_y\n",
      "0  17618447       4.0       3.5\n",
      "1  19286240       5.0       3.5\n",
      "2  18939364       4.5       3.5\n",
      "3  14312250       4.5       3.5\n",
      "4  18967247       5.0       4.0\n"
     ]
    },
    {
     "name": "stderr",
     "output_type": "stream",
     "text": [
      "100%|██████████████████████████████████████████████████████████████████████████████| 1000/1000 [00:26<00:00, 37.19it/s]"
     ]
    },
    {
     "name": "stdout",
     "output_type": "stream",
     "text": [
      "0.7040/[0.7021, 0.7059]\n"
     ]
    },
    {
     "name": "stderr",
     "output_type": "stream",
     "text": [
      "\n"
     ]
    }
   ],
   "source": [
    "aligned = align_dfs(true_cold_user_warm_item, xgboost_cold_user_warm_item)\n",
    "y_true = aligned['Rating_x'].values\n",
    "y_pred = aligned['Rating_y'].values\n",
    "if len(y_true) != len(y_pred):\n",
    "    raise ValueError(\"Different amount of rating\")\n",
    "results = bootstrap_rmse(y_true, y_pred)\n",
    "print(f\"{results[\"mean\"]}/{results[\"ci\"]}\")"
   ]
  },
  {
   "cell_type": "code",
   "execution_count": 40,
   "id": "dfdf2701-0217-46e3-aa77-fb7d404f9ab7",
   "metadata": {},
   "outputs": [
    {
     "data": {
      "text/plain": [
       "(array([  7.,  29.,  99., 181., 263., 228., 123.,  55.,  12.,   3.]),\n",
       " array([0.70099152, 0.70164147, 0.70229143, 0.70294138, 0.70359134,\n",
       "        0.70424129, 0.70489125, 0.7055412 , 0.70619116, 0.70684111,\n",
       "        0.70749106]),\n",
       " <BarContainer object of 10 artists>)"
      ]
     },
     "execution_count": 40,
     "metadata": {},
     "output_type": "execute_result"
    },
    {
     "data": {
      "image/png": "[encoded data removed]",
      "text/plain": [
       "<Figure size 640x480 with 1 Axes>"
      ]
     },
     "metadata": {},
     "output_type": "display_data"
    }
   ],
   "source": [
    "plt.hist(results[\"rmse_distribution\"])"
   ]
  },
  {
   "cell_type": "markdown",
   "id": "a7d52c87-2469-40f8-84cf-e0e308ececfe",
   "metadata": {
    "jp-MarkdownHeadingCollapsed": true
   },
   "source": [
    "##### Cold user, Cold Wine"
   ]
  },
  {
   "cell_type": "code",
   "execution_count": 41,
   "id": "fe0289e6-f3b7-4c65-a675-d4061eedbf25",
   "metadata": {
    "scrolled": true
   },
   "outputs": [
    {
     "name": "stdout",
     "output_type": "stream",
     "text": [
      "   RatingID  Rating_x  Rating_y\n",
      "0  18274504       5.0       4.0\n",
      "1  18317678       5.0       4.0\n",
      "2  18317912       3.5       3.5\n",
      "3  15708051       3.5       4.0\n",
      "4   8822957       4.0       3.5\n"
     ]
    },
    {
     "name": "stderr",
     "output_type": "stream",
     "text": [
      "100%|████████████████████████████████████████████████████████████████████████████| 1000/1000 [00:00<00:00, 1142.45it/s]"
     ]
    },
    {
     "name": "stdout",
     "output_type": "stream",
     "text": [
      "0.7807/[0.7699, 0.7918]\n"
     ]
    },
    {
     "name": "stderr",
     "output_type": "stream",
     "text": [
      "\n"
     ]
    }
   ],
   "source": [
    "aligned = align_dfs(true_cold_user_cold_item, xgboost_cold_user_cold_item)\n",
    "y_true = aligned['Rating_x'].values\n",
    "y_pred = aligned['Rating_y'].values\n",
    "if len(y_true) != len(y_pred):\n",
    "    raise ValueError(\"Different amount of rating\")\n",
    "results = bootstrap_rmse(y_true, y_pred)\n",
    "print(f\"{results[\"mean\"]}/{results[\"ci\"]}\")"
   ]
  },
  {
   "cell_type": "code",
   "execution_count": 42,
   "id": "67ce9049-aaee-4e4d-af88-4c3eca9489b0",
   "metadata": {},
   "outputs": [
    {
     "data": {
      "text/plain": [
       "(array([  9.,  36.,  82., 169., 225., 226., 145.,  70.,  29.,   9.]),\n",
       " array([0.76454232, 0.76783468, 0.77112704, 0.7744194 , 0.77771176,\n",
       "        0.78100412, 0.78429648, 0.78758884, 0.7908812 , 0.79417356,\n",
       "        0.79746592]),\n",
       " <BarContainer object of 10 artists>)"
      ]
     },
     "execution_count": 42,
     "metadata": {},
     "output_type": "execute_result"
    },
    {
     "data": {
      "image/png": "[encoded data removed]",
      "text/plain": [
       "<Figure size 640x480 with 1 Axes>"
      ]
     },
     "metadata": {},
     "output_type": "display_data"
    }
   ],
   "source": [
    "plt.hist(results[\"rmse_distribution\"])"
   ]
  },
  {
   "cell_type": "markdown",
   "id": "a29dc7fe-05ac-4647-8199-b098abfc8107",
   "metadata": {},
   "source": [
    "# Compare bootstraped sampled difference for best performing models"
   ]
  },
  {
   "cell_type": "code",
   "execution_count": 43,
   "id": "13c34851-e772-4cfc-ae27-f47a801ea522",
   "metadata": {},
   "outputs": [
    {
     "ename": "NameError",
     "evalue": "name 'rng' is not defined",
     "output_type": "error",
     "traceback": [
      "\u001b[31m---------------------------------------------------------------------------\u001b[39m",
      "\u001b[31mNameError\u001b[39m                                 Traceback (most recent call last)",
      "\u001b[36mCell\u001b[39m\u001b[36m \u001b[39m\u001b[32mIn[43]\u001b[39m\u001b[32m, line 2\u001b[39m\n\u001b[32m      1\u001b[39m \u001b[38;5;28;01mfor\u001b[39;00m _ \u001b[38;5;129;01min\u001b[39;00m \u001b[38;5;28mrange\u001b[39m(\u001b[32m1000\u001b[39m):\n\u001b[32m----> \u001b[39m\u001b[32m2\u001b[39m     idx = \u001b[43mrng\u001b[49m.choice(\u001b[38;5;28mlen\u001b[39m(y_true), size=\u001b[38;5;28mlen\u001b[39m(y_true), replace=\u001b[38;5;28;01mTrue\u001b[39;00m)\n\u001b[32m      3\u001b[39m     rmse_a = root_mean_squared_error(y_true[idx], y_pred_a[idx])\n\u001b[32m      4\u001b[39m     rmse_b = root_mean_squared_error(y_true[idx], y_pred_b[idx])\n",
      "\u001b[31mNameError\u001b[39m: name 'rng' is not defined"
     ]
    }
   ],
   "source": [
    "for _ in range(1000):\n",
    "    idx = rng.choice(len(y_true), size=len(y_true), replace=True)\n",
    "    rmse_a = root_mean_squared_error(y_true[idx], y_pred_a[idx])\n",
    "    rmse_b = root_mean_squared_error(y_true[idx], y_pred_b[idx])\n",
    "    diff = mae_b - mae_a  # Positive means A is better\n",
    "    diff_scores.append(diff)\n"
   ]
  }
 ],
 "metadata": {
  "kernelspec": {
   "display_name": "Python 3 (ipykernel)",
   "language": "python",
   "name": "python3"
  },
  "language_info": {
   "codemirror_mode": {
    "name": "ipython",
    "version": 3
   },
   "file_extension": ".py",
   "mimetype": "text/x-python",
   "name": "python",
   "nbconvert_exporter": "python",
   "pygments_lexer": "ipython3",
   "version": "3.12.2"
  }
 },
 "nbformat": 4,
 "nbformat_minor": 5
}

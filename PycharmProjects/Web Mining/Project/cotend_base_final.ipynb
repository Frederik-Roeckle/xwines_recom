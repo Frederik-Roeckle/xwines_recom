{
  "cells": [
    {
      "cell_type": "code",
      "id": "initial_id",
      "metadata": {
        "collapsed": true,
        "ExecuteTime": {
          "end_time": "2025-05-10T15:55:46.636235Z",
          "start_time": "2025-05-10T15:54:31.392169Z"
        },
        "id": "initial_id"
      },
      "source": [
        "# --- Imports ---\n",
        "import pandas as pd\n",
        "import numpy as np\n",
        "from sklearn.feature_extraction.text import TfidfVectorizer, FeatureHasher\n",
        "from sklearn.preprocessing import StandardScaler\n",
        "from sklearn.metrics.pairwise import cosine_similarity\n",
        "from sklearn.model_selection import train_test_split\n",
        "from sklearn.metrics import mean_squared_error, mean_absolute_error\n",
        "from scipy.sparse import csr_matrix, hstack\n",
        "from tqdm import tqdm"
      ],
      "outputs": [],
      "execution_count": 1
    },
    {
      "cell_type": "code",
      "source": [
        "from google.colab import drive\n",
        "drive.mount('/content/drive')"
      ],
      "metadata": {
        "colab": {
          "base_uri": "https://localhost:8080/"
        },
        "id": "wer6_I3RACrp",
        "outputId": "682de457-f6ca-4de8-8263-59af16d9d290"
      },
      "id": "wer6_I3RACrp",
      "execution_count": 2,
      "outputs": [
        {
          "output_type": "stream",
          "name": "stdout",
          "text": [
            "Drive already mounted at /content/drive; to attempt to forcibly remount, call drive.mount(\"/content/drive\", force_remount=True).\n"
          ]
        }
      ]
    },
    {
      "cell_type": "code",
      "source": [
        "# Define your file paths\n",
        "wine_file = '/content/drive/My Drive/XWines_Full_100K_wines.csv'\n",
        "train_file = '/content/drive/My Drive/trainset.csv'\n",
        "test_files = {\n",
        "    'CU_CI': '/content/drive/My Drive/testset_cold_user_cold_item.csv',\n",
        "    'CU_WI': '/content/drive/My Drive/testset_cold_user_warm_item.csv',\n",
        "    'WU_CI': '/content/drive/My Drive/testset_warm_user_cold_item.csv',\n",
        "    'WU_WI': '/content/drive/My Drive/testset_warm_user_warm_item.csv'\n",
        "}\n",
        "drive_save_path = '/content/drive/MyDrive/'\n"
      ],
      "metadata": {
        "id": "zf2LCas2BIlx"
      },
      "id": "zf2LCas2BIlx",
      "execution_count": 24,
      "outputs": []
    },
    {
      "metadata": {
        "ExecuteTime": {
          "end_time": "2025-05-10T16:07:22.459093Z",
          "start_time": "2025-05-10T16:06:35.687105Z"
        },
        "id": "fb2d80656ab7cb9e"
      },
      "cell_type": "code",
      "source": [
        "# --- Data Loading ---\n",
        "df_wines = pd.read_csv(wine_file)\n",
        "train_ratings = pd.read_csv(train_file)\n"
      ],
      "id": "fb2d80656ab7cb9e",
      "outputs": [],
      "execution_count": 4
    },
    {
      "metadata": {
        "ExecuteTime": {
          "end_time": "2025-05-10T16:07:34.601790Z",
          "start_time": "2025-05-10T16:07:34.338467Z"
        },
        "id": "3fcf66ec3510c09a"
      },
      "cell_type": "code",
      "source": [
        "# --- Selecting Wines ONLY from Training Data (avoids leakage) ---\n",
        "# Prepare wines present in training data\n",
        "train_wine_ids = train_ratings['WineID'].unique()\n",
        "df_wines_train = df_wines[df_wines['WineID'].isin(train_wine_ids)].copy().reset_index(drop=True)"
      ],
      "id": "3fcf66ec3510c09a",
      "outputs": [],
      "execution_count": 5
    },
    {
      "metadata": {
        "ExecuteTime": {
          "end_time": "2025-05-10T16:07:36.343144Z",
          "start_time": "2025-05-10T16:07:36.169783Z"
        },
        "id": "111bd26006741093"
      },
      "cell_type": "code",
      "source": [
        "# --- Text Preprocessing (Lowercase) ---\n",
        "# Standardize all categorical text attributes to lowercase for consistency\n",
        "cols_lowercase = ['WineName', 'Type', 'Elaborate', 'Body', 'Acidity',\n",
        "                  'Country', 'RegionName', 'WineryName']\n",
        "df_wines_train[cols_lowercase] = df_wines_train[cols_lowercase].apply(lambda x: x.str.lower())"
      ],
      "id": "111bd26006741093",
      "outputs": [],
      "execution_count": 6
    },
    {
      "metadata": {
        "ExecuteTime": {
          "end_time": "2025-05-10T16:07:40.660071Z",
          "start_time": "2025-05-10T16:07:37.751376Z"
        },
        "id": "9a1d9b51a5c13226"
      },
      "cell_type": "code",
      "source": [
        "# --- List-column Cleaning (Grapes & Harmonize) ---\n",
        "# Clean up columns that represent lists as strings, remove brackets/quotes, and convert to actual Python lists\n",
        "for col in ['Grapes', 'Harmonize']:\n",
        "    df_wines_train[col] = df_wines_train[col].fillna('') \\\n",
        "                         .str.replace(r'[\\[\\]\\']/','',regex=True) \\\n",
        "                         .apply(lambda x: [w.strip().lower() for w in x.split(',') if w.strip()])"
      ],
      "id": "9a1d9b51a5c13226",
      "outputs": [],
      "execution_count": 7
    },
    {
      "metadata": {
        "ExecuteTime": {
          "end_time": "2025-05-10T16:07:43.437225Z",
          "start_time": "2025-05-10T16:07:43.424303Z"
        },
        "id": "52c26b0f99d42eae"
      },
      "cell_type": "code",
      "source": [
        "# --- Numeric Preprocessing (ABV) ---\n",
        "# Normalize numerical ABV (alcohol by volume) feature using StandardScaler (mean=0, variance=1)\n",
        "scaler = StandardScaler()\n",
        "df_wines_train['ABV'] = scaler.fit_transform(df_wines_train[['ABV']].astype(float))"
      ],
      "id": "52c26b0f99d42eae",
      "outputs": [],
      "execution_count": 8
    },
    {
      "metadata": {
        "ExecuteTime": {
          "end_time": "2025-05-10T16:07:44.624857Z",
          "start_time": "2025-05-10T16:07:44.586262Z"
        },
        "id": "64cc6a35862713d9"
      },
      "cell_type": "code",
      "source": [
        "# --- Preserve original wine data for readable recommendations ---\n",
        "# Save a copy of original wine data attributes for final presentation purposes\n",
        "context_cols=['WineID','WineName','WineryName','Type','Country','RegionName','ABV']\n",
        "df_wines_original = df_wines_train[context_cols].copy()"
      ],
      "id": "64cc6a35862713d9",
      "outputs": [],
      "execution_count": 9
    },
    {
      "metadata": {
        "ExecuteTime": {
          "end_time": "2025-05-10T16:07:45.725356Z",
          "start_time": "2025-05-10T16:07:45.460516Z"
        },
        "id": "54db614f2374b6"
      },
      "cell_type": "code",
      "source": [
        "# --- Categorical Features (One-Hot Encoding) ---\n",
        "# Represent categorical variables using one-hot encoding\n",
        "cat_features = ['Type','Elaborate','Body','Acidity','Country']\n",
        "df_wines_train_encoded = pd.get_dummies(df_wines_train,columns=cat_features)"
      ],
      "id": "54db614f2374b6",
      "outputs": [],
      "execution_count": 10
    },
    {
      "metadata": {
        "ExecuteTime": {
          "end_time": "2025-05-10T16:07:49.631637Z",
          "start_time": "2025-05-10T16:07:46.679498Z"
        },
        "id": "c4441e0734a230f3"
      },
      "cell_type": "code",
      "source": [
        "# --- TF-IDF Vectorization (Grapes + Harmonize) ---\n",
        "# Create a textual corpus by combining Grapes and Harmonize features\n",
        "corpus = df_wines_train['Grapes'].str.join(' ')+' '+df_wines_train['Harmonize'].str.join(' ')\n",
        "# Vectorize corpus using TF-IDF to capture the uniqueness of terms across wines\n",
        "tfidf_vec = TfidfVectorizer().fit_transform(corpus)"
      ],
      "id": "c4441e0734a230f3",
      "outputs": [],
      "execution_count": 11
    },
    {
      "metadata": {
        "ExecuteTime": {
          "end_time": "2025-05-10T16:07:50.484453Z",
          "start_time": "2025-05-10T16:07:50.291721Z"
        },
        "id": "b3fd0a131089ada0"
      },
      "cell_type": "code",
      "source": [
        "# --- Feature hashing (RegionName) ---\n",
        "# Use FeatureHasher to reduce high-cardinality categorical RegionName variable to 16 hashed features\n",
        "hasher = FeatureHasher(n_features=16,input_type='string',alternate_sign=False)\n",
        "hashed_region = hasher.fit_transform(df_wines_train[['RegionName']].values)"
      ],
      "id": "b3fd0a131089ada0",
      "outputs": [],
      "execution_count": 12
    },
    {
      "metadata": {
        "ExecuteTime": {
          "end_time": "2025-05-10T16:07:52.272901Z",
          "start_time": "2025-05-10T16:07:51.823227Z"
        },
        "id": "422029c1801ec3d5"
      },
      "cell_type": "code",
      "source": [
        "# --- Combine all features into Sparse Embeddings ---\n",
        "# Identify numeric and encoded categorical features to combine with embeddings\n",
        "non_text_cols = ['ABV'] + [col for col in df_wines_train_encoded if col.startswith(('Type_', 'Elaborate_', 'Body_', 'Acidity_', 'Country_'))]\n",
        "# Convert explicitly to float to ensure correct numeric data types\n",
        "numeric_sparse = csr_matrix(df_wines_train_encoded[non_text_cols].astype(float).values)"
      ],
      "id": "422029c1801ec3d5",
      "outputs": [],
      "execution_count": 13
    },
    {
      "cell_type": "code",
      "source": [
        "\n",
        "# Create a mapping from WineID to its index in the similarity matrix\n",
        "# The order is based on df_wines_train['WineID'] as used for combined_train_sparse\n",
        "wine_id_to_idx = {wine_id: i for i, wine_id in enumerate(df_wines_train['WineID'])}"
      ],
      "metadata": {
        "id": "9xdX9Y6WpyVr"
      },
      "id": "9xdX9Y6WpyVr",
      "execution_count": 14,
      "outputs": []
    },
    {
      "metadata": {
        "ExecuteTime": {
          "end_time": "2025-05-10T16:13:01.333576Z",
          "start_time": "2025-05-10T16:12:42.271152Z"
        },
        "id": "677514bd846072"
      },
      "cell_type": "code",
      "source": [
        "combined_train_sparse = hstack([numeric_sparse, tfidf_vec, hashed_region])\n",
        "\n",
        "# --- Compute Similarity Matrix (Training Only) ---\n",
        "# Calculate pairwise cosine similarity among wines based on embeddings\n",
        "similarity_train_np_full = cosine_similarity(combined_train_sparse)\n",
        "# Optimization: Convert to float32 to save memory and potentially speed up operations\n",
        "similarity_matrix_np = similarity_train_np_full.astype(np.float32)\n",
        "del similarity_train_np_full # Free memory of the float64 version"
      ],
      "id": "677514bd846072",
      "outputs": [],
      "execution_count": 15
    },
    {
      "cell_type": "code",
      "source": [
        "similarity_df_train = pd.DataFrame(similarity_matrix_np, # Use the float32 version\n",
        "                                   index=df_wines_train['WineID'],\n",
        "                                   columns=df_wines_train['WineID'])"
      ],
      "metadata": {
        "id": "1Q5lFKdht-5X"
      },
      "id": "1Q5lFKdht-5X",
      "execution_count": 29,
      "outputs": []
    },
    {
      "cell_type": "code",
      "source": [
        "global_mean_rating = train_ratings['Rating'].mean()\n",
        "\n",
        "# `user_rated_wines_avg_ratings_idx_map` will store:\n",
        "# { user_id: {wine_idx_in_similarity_matrix: avg_rating} }\n",
        "user_rated_wines_avg_ratings_idx_map = {}\n",
        "\n",
        "# Filter train_ratings to include only wines present in our similarity matrix\n",
        "# (i.e., wines in df_wines_train, which are derived from train_wine_ids)\n",
        "valid_wine_ids_in_sim_matrix = set(wine_id_to_idx.keys())\n",
        "filtered_train_ratings = train_ratings[train_ratings['WineID'].isin(valid_wine_ids_in_sim_matrix)].copy()\n",
        "\n",
        "for user_id, group in tqdm(filtered_train_ratings.groupby('UserID'), desc=\"Preprocessing user ratings\"):\n",
        "    avg_ratings_for_user = group.groupby('WineID')['Rating'].mean()\n",
        "\n",
        "    # Store ratings with wine indices instead of WineIDs for direct use with similarity_matrix_np\n",
        "    ratings_with_indices = {\n",
        "        wine_id_to_idx[wine_id]: rating\n",
        "        for wine_id, rating in avg_ratings_for_user.items()\n",
        "        # wine_id should always be in wine_id_to_idx due to pre-filtering of train_ratings\n",
        "    }\n",
        "    if ratings_with_indices: # Only add user if they have rated wines present in the similarity matrix\n",
        "        user_rated_wines_avg_ratings_idx_map[user_id] = ratings_with_indices"
      ],
      "metadata": {
        "colab": {
          "base_uri": "https://localhost:8080/"
        },
        "id": "p9iuHZ_epVxh",
        "outputId": "5ea8157e-9031-4fb4-bc2e-cef009010e59"
      },
      "id": "p9iuHZ_epVxh",
      "execution_count": 16,
      "outputs": [
        {
          "output_type": "stream",
          "name": "stderr",
          "text": [
            "Preprocessing user ratings: 100%|██████████| 1056035/1056035 [06:53<00:00, 2552.64it/s]\n"
          ]
        }
      ]
    },
    {
      "metadata": {
        "id": "b82b1bf55cdd2333"
      },
      "cell_type": "code",
      "source": [
        "def predict_rating(user_id, wine_id, train_ratings, similarity_df, global_mean):\n",
        "    user_history = train_ratings[train_ratings.UserID == user_id]\n",
        "\n",
        "    if wine_id not in similarity_df.index:\n",
        "        return global_mean\n",
        "\n",
        "    rated_wines = user_history['WineID'][user_history['WineID'].isin(similarity_df.index)]\n",
        "\n",
        "    if rated_wines.empty:\n",
        "        return global_mean\n",
        "\n",
        "    # Ensure unique wines to match with similarities\n",
        "    rated_wines_unique = rated_wines.drop_duplicates()\n",
        "\n",
        "    # Extract similarities for these unique rated wines\n",
        "    similarities = similarity_df.loc[wine_id, rated_wines_unique]\n",
        "\n",
        "    # Averaging multiple ratings for the same wine before alignment\n",
        "    ratings_avg = user_history.groupby('WineID')['Rating'].mean().loc[similarities.index]\n",
        "\n",
        "\n",
        "    if len(ratings_avg) != len(similarities):\n",
        "        raise ValueError(\"Mismatch between ratings and similarities lengths.\")\n",
        "\n",
        "    # Edge case safeguard: handle zero similarity sum\n",
        "    if similarities.abs().sum() == 0:\n",
        "        return global_mean\n",
        "\n",
        "    # Calculate prediction using dot product\n",
        "    return np.dot(ratings_avg, similarities) / similarities.abs().sum()"
      ],
      "id": "b82b1bf55cdd2333",
      "outputs": [],
      "execution_count": 17
    },
    {
      "metadata": {
        "id": "c4be0ec462b9457a"
      },
      "cell_type": "code",
      "source": [
        "# --- Evaluation Function (RMSE & MAE) ---\n",
        "def predict_rating_optimized(user_id, target_wine_id,\n",
        "                             user_rated_wines_map, # This is user_rated_wines_avg_ratings_idx_map\n",
        "                             sim_matrix_np, # This is similarity_matrix_np\n",
        "                             wine_id_to_idx_map, # This is wine_id_to_idx\n",
        "                             global_mean):\n",
        "\n",
        "    if target_wine_id not in wine_id_to_idx_map: # Target wine not in our known wines\n",
        "        return global_mean\n",
        "\n",
        "    target_wine_idx = wine_id_to_idx_map[target_wine_id]\n",
        "\n",
        "    user_ratings_data = user_rated_wines_map.get(user_id)\n",
        "    if not user_ratings_data: # User has no relevant rating history or unknown user\n",
        "        return global_mean\n",
        "\n",
        "    # user_ratings_data is a dict {rated_wine_idx: avg_rating}\n",
        "    # These indices are already valid for sim_matrix_np\n",
        "    rated_wine_indices = list(user_ratings_data.keys())\n",
        "\n",
        "    # If rated_wine_indices is empty (shouldn't happen if user_ratings_data is not None and not empty)\n",
        "    if not rated_wine_indices:\n",
        "        return global_mean\n",
        "\n",
        "    actual_ratings_for_these_indices = np.array([user_ratings_data[idx] for idx in rated_wine_indices], dtype=np.float32)\n",
        "\n",
        "    # Get similarities: sim_matrix_np[target_wine_idx] is the row for target_wine_id\n",
        "    # sim_matrix_np[target_wine_idx, rated_wine_indices] gets specific similarities\n",
        "    item_similarities = sim_matrix_np[target_wine_idx, rated_wine_indices] # This is already np.float32\n",
        "\n",
        "    sim_sum_abs = np.sum(np.abs(item_similarities))\n",
        "\n",
        "    if sim_sum_abs == 0: # No similarity or similarities cancel out (unlikely with abs)\n",
        "        return global_mean\n",
        "\n",
        "    weighted_sum = np.dot(actual_ratings_for_these_indices, item_similarities)\n",
        "\n",
        "    return weighted_sum / sim_sum_abs\n",
        "    return rmse, mae, results_df"
      ],
      "id": "c4be0ec462b9457a",
      "outputs": [],
      "execution_count": 18
    },
    {
      "cell_type": "code",
      "source": [
        "batch_size = 100000 # Adjust batch size according to your requirements\n"
      ],
      "metadata": {
        "id": "5NuKhyP50Vkk"
      },
      "id": "5NuKhyP50Vkk",
      "execution_count": 19,
      "outputs": []
    },
    {
      "cell_type": "code",
      "source": [
        "# Load and evaluate the test set\n",
        "def evaluate_in_batches_optimized(test_ratings_df, # Renamed to avoid conflict\n",
        "                                  # Pre-computed data passed directly:\n",
        "                                  user_ratings_map_param, # user_rated_wines_avg_ratings_idx_map\n",
        "                                  sim_matrix_param,       # similarity_matrix_np\n",
        "                                  wine_id_idx_map_param,  # wine_id_to_idx\n",
        "                                  global_mean_param,      # global_mean_rating\n",
        "                                  batch_size_param, scenario_name):\n",
        "\n",
        "    y_true_list, y_pred_list, rating_ids_list = [], [], []\n",
        "\n",
        "    num_batches = (len(test_ratings_df) + batch_size_param - 1) // batch_size_param\n",
        "\n",
        "    for i in tqdm(range(num_batches), desc=f\"Evaluating {scenario_name}\"):\n",
        "        start_idx = i * batch_size_param\n",
        "        end_idx = min((i + 1) * batch_size_param, len(test_ratings_df))\n",
        "        batch_df = test_ratings_df.iloc[start_idx:end_idx]\n",
        "\n",
        "        # Optimized loop using zip for slightly better performance than .apply or .iterrows\n",
        "        current_preds_batch = []\n",
        "        for user_id_val, wine_id_val in zip(batch_df.UserID, batch_df.WineID):\n",
        "            pred = predict_rating_optimized(user_id_val, wine_id_val,\n",
        "                                            user_ratings_map_param,\n",
        "                                            sim_matrix_param,\n",
        "                                            wine_id_idx_map_param,\n",
        "                                            global_mean_param)\n",
        "            current_preds_batch.append(pred)\n",
        "\n",
        "        y_true_list.extend(batch_df.Rating.tolist())\n",
        "        y_pred_list.extend(current_preds_batch)\n",
        "        rating_ids_list.extend(batch_df.RatingID.tolist())\n",
        "\n",
        "    rmse = np.sqrt(mean_squared_error(y_true_list, y_pred_list))\n",
        "    mae = mean_absolute_error(y_true_list, y_pred_list)\n",
        "\n",
        "    predictions_output_df = pd.DataFrame({'RatingID': rating_ids_list, 'PredictedRating': y_pred_list})\n",
        "    predictions_output_df.to_csv(f'{drive_save_path}predictions_{scenario_name}_optimized.csv', index=False)\n",
        "\n",
        "    print(f\"{scenario_name} - RMSE: {rmse:.4f}, MAE: {mae:.4f}\")\n",
        "    return rmse, mae"
      ],
      "metadata": {
        "id": "NluVIeuB7Mu6"
      },
      "id": "NluVIeuB7Mu6",
      "execution_count": 20,
      "outputs": []
    },
    {
      "cell_type": "code",
      "source": [
        "for scenario, test_file_path in test_files.items():\n",
        "    current_test_ratings = pd.read_csv(test_file_path)\n",
        "    rmse_val, mae_val = evaluate_in_batches_optimized(\n",
        "        current_test_ratings,\n",
        "        user_rated_wines_avg_ratings_idx_map, # Pass pre-computed map\n",
        "        similarity_matrix_np,                 # Pass NumPy similarity matrix\n",
        "        wine_id_to_idx,                       # Pass WineID to index map\n",
        "        global_mean_rating,                   # Pass global mean\n",
        "        batch_size,\n",
        "        scenario\n",
        "    )"
      ],
      "metadata": {
        "colab": {
          "base_uri": "https://localhost:8080/"
        },
        "id": "M48egcnEpNCp",
        "outputId": "93da6377-0b0e-40b0-db51-c5139ac366e6"
      },
      "id": "M48egcnEpNCp",
      "execution_count": 25,
      "outputs": [
        {
          "output_type": "stream",
          "name": "stderr",
          "text": [
            "Evaluating CU_CI: 100%|██████████| 166/166 [00:00<00:00, 6439.35it/s]\n"
          ]
        },
        {
          "output_type": "stream",
          "name": "stdout",
          "text": [
            "CU_CI - RMSE: 0.8220, MAE: 0.6164\n"
          ]
        },
        {
          "output_type": "stream",
          "name": "stderr",
          "text": [
            "Evaluating CU_WI: 100%|██████████| 5068/5068 [00:06<00:00, 735.92it/s]\n"
          ]
        },
        {
          "output_type": "stream",
          "name": "stdout",
          "text": [
            "CU_WI - RMSE: 1.0739, MAE: 0.6958\n"
          ]
        },
        {
          "output_type": "stream",
          "name": "stderr",
          "text": [
            "Evaluating WU_CI: 100%|██████████| 355/355 [00:00<00:00, 6333.14it/s]\n"
          ]
        },
        {
          "output_type": "stream",
          "name": "stdout",
          "text": [
            "WU_CI - RMSE: 0.6852, MAE: 0.5062\n"
          ]
        },
        {
          "output_type": "stream",
          "name": "stderr",
          "text": [
            "Evaluating WU_WI: 100%|██████████| 20368/20368 [00:51<00:00, 396.52it/s]\n"
          ]
        },
        {
          "output_type": "stream",
          "name": "stdout",
          "text": [
            "WU_WI - RMSE: 0.7951, MAE: 0.5383\n"
          ]
        }
      ]
    },
    {
      "metadata": {
        "id": "6b41d6aadddc4991"
      },
      "cell_type": "code",
      "source": [
        "# --- Recommendation (Item-to-Item) ---\n",
        "# Function recommending similar wines based on cosine similarity scores\n",
        "def get_recommendation(wine_id_param, sim_df, wines_original_df, num_recs=5):\n",
        "    if wine_id_param not in sim_df.index: # Check if wine is in our similarity matrix\n",
        "        print(f\"WineID {wine_id_param} not found in the similarity matrix.\")\n",
        "        return pd.DataFrame() # Return empty DataFrame if not found\n",
        "\n",
        "    # Get similarity scores for the given wine_id, sort them, drop the wine itself, and take top N\n",
        "    similar_wines_series = sim_df[wine_id_param].sort_values(ascending=False).drop(wine_id_param).head(num_recs)\n",
        "    similar_wines_df = similar_wines_series.reset_index()\n",
        "    similar_wines_df.columns = ['WineID', 'Similarity']\n",
        "\n",
        "    # Merge with original wine details to make recommendations readable\n",
        "    recommendations_df = pd.merge(similar_wines_df, wines_original_df[['WineID', 'WineName', 'Type', 'Country']], on='WineID', how='left')\n",
        "    return recommendations_df\n"
      ],
      "id": "6b41d6aadddc4991",
      "outputs": [],
      "execution_count": 26
    },
    {
      "metadata": {
        "id": "47371f6994c8cb1e",
        "colab": {
          "base_uri": "https://localhost:8080/"
        },
        "outputId": "21d63d1c-dac8-44fe-aa35-4b4757204286"
      },
      "cell_type": "code",
      "source": [
        "# Example usage of function: Provide similar wines for user-selected wine\n",
        "if not train_ratings.empty and train_ratings['WineID'].iloc[0] in similarity_df_train.index:\n",
        "    example_wine_id_val = train_ratings['WineID'].iloc[0]\n",
        "    recommendations_result = get_recommendation(example_wine_id_val, similarity_df_train, df_wines_original)\n",
        "    print(f\"\\nItem-to-item recommendations for WineID {example_wine_id_val}:\\n{recommendations_result}\")\n",
        "else:\n",
        "    # Fallback if the first wine is not suitable or train_ratings is empty\n",
        "    # Try a wine ID known to be in df_wines_train (if available)\n",
        "    if not df_wines_train.empty:\n",
        "        example_wine_id_val = df_wines_train['WineID'].iloc[0]\n",
        "        if example_wine_id_val in similarity_df_train.index:\n",
        "             recommendations_result = get_recommendation(example_widinie_id_val, similarity_df_train, df_wines_original)\n",
        "             print(f\"\\nItem-to-item recommendations for WineID {example_wine_id_val}:\\n{recommendations_result}\")\n",
        "        else:\n",
        "            print(f\"Could not find example wine ID {example_wine_id_val} in similarity matrix for recommendations.\")\n",
        "    else:\n",
        "        print(\"No wines available in df_wines_train for recommendation example.\")"
      ],
      "id": "47371f6994c8cb1e",
      "outputs": [
        {
          "output_type": "stream",
          "name": "stdout",
          "text": [
            "\n",
            "Item-to-item recommendations for WineID 136168:\n",
            "   WineID  Similarity                                           WineName Type  \\\n",
            "0  136255         1.0                             brunello di montalcino  red   \n",
            "1  135927         1.0                             brunello di montalcino  red   \n",
            "2  142393         1.0                             brunello di montalcino  red   \n",
            "3  136716         1.0           leonardo da vinci brunello di montalcino  red   \n",
            "4  153633         1.0  tenuta greppone mazzi riserva brunello di mont...  red   \n",
            "\n",
            "  Country  \n",
            "0   italy  \n",
            "1   italy  \n",
            "2   italy  \n",
            "3   italy  \n",
            "4   italy  \n"
          ]
        }
      ],
      "execution_count": 30
    },
    {
      "metadata": {
        "id": "3fbff6472b7df25"
      },
      "cell_type": "code",
      "source": [
        "# --- Popular Wines utility (Cold-Start Recommendations) ---\n",
        "# Identify most popular/highly-rated wines in training data, useful for cold-start recommendations\n",
        "def popular_wines(train_ratings_df, wines_original_df, n_recs=5, min_ratings_thresh=10):\n",
        "    # Group by WineID and calculate mean rating and count of ratings\n",
        "    popular_df = train_ratings_df.groupby('WineID')['Rating'].agg(['mean', 'count'])\n",
        "    # Filter out wines with fewer than min_ratings_thresh ratings\n",
        "    popular_df = popular_df[popular_df['count'] >= min_ratings_thresh]\n",
        "    # Sort by mean rating in descending order and take top N\n",
        "    popular_df = popular_df.sort_values('mean', ascending=False).head(n_recs)\n",
        "\n",
        "    # Merge with original wine details for readability\n",
        "    # We use .loc to select rows from wines_original_df whose WineID is in popular_df.index\n",
        "    # and then select specific columns.\n",
        "    popular_recs_df = wines_original_df[wines_original_df['WineID'].isin(popular_df.index)].copy()\n",
        "    # To maintain the order from popular_df, we can reindex or merge and sort\n",
        "    popular_recs_df = popular_recs_df.set_index('WineID').loc[popular_df.index].reset_index()\n",
        "\n",
        "    return popular_recs_df[['WineID', 'WineName', 'Type', 'Country']] # Include WineName"
      ],
      "id": "3fbff6472b7df25",
      "outputs": [],
      "execution_count": 31
    },
    {
      "metadata": {
        "id": "38a347cb87a943e6",
        "colab": {
          "base_uri": "https://localhost:8080/"
        },
        "outputId": "a148b07b-9c1d-4b10-f76c-0fe3087b5a76"
      },
      "cell_type": "code",
      "source": [
        "# Display example popular wine recommendations\n",
        "popular=popular_wines(train_ratings,df_wines_original)\n",
        "print(f\"Popular wines for cold-start recommendations:\\n{popular}\")"
      ],
      "id": "38a347cb87a943e6",
      "outputs": [
        {
          "output_type": "stream",
          "name": "stdout",
          "text": [
            "Popular wines for cold-start recommendations:\n",
            "   WineID                                           WineName       Type  \\\n",
            "0  183447                          wraith cabernet sauvignon        red   \n",
            "1  117346      clos d'ambonnay blanc de noirs brut champagne  sparkling   \n",
            "2  188413                                       jusqu'a l'os        red   \n",
            "3  183348  cabernet sauvignon old sparky beckstoffer to k...        red   \n",
            "4  122521                                 cristal vinothèque  sparkling   \n",
            "\n",
            "         Country  \n",
            "0  united states  \n",
            "1         france  \n",
            "2  united states  \n",
            "3  united states  \n",
            "4         france  \n"
          ]
        }
      ],
      "execution_count": 32
    }
  ],
  "metadata": {
    "kernelspec": {
      "display_name": "Python 3",
      "name": "python3"
    },
    "language_info": {
      "codemirror_mode": {
        "name": "ipython",
        "version": 2
      },
      "file_extension": ".py",
      "mimetype": "text/x-python",
      "name": "python",
      "nbconvert_exporter": "python",
      "pygments_lexer": "ipython2",
      "version": "2.7.6"
    },
    "colab": {
      "provenance": [],
      "gpuType": "V28"
    },
    "accelerator": "TPU"
  },
  "nbformat": 4,
  "nbformat_minor": 5
}
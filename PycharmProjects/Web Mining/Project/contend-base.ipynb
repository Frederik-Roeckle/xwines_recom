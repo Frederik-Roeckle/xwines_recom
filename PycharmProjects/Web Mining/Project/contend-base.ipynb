{
 "cells": [
  {
   "cell_type": "code",
   "id": "initial_id",
   "metadata": {
    "collapsed": true,
    "ExecuteTime": {
     "end_time": "2025-05-06T16:30:47.245858Z",
     "start_time": "2025-05-06T16:30:44.305600Z"
    }
   },
   "source": [
    "# --- Imports ---\n",
    "import pandas as pd\n",
    "import numpy as np\n",
    "from sklearn.feature_extraction.text import TfidfVectorizer\n",
    "from sklearn.preprocessing import StandardScaler\n",
    "from sklearn.feature_extraction import FeatureHasher\n",
    "from scipy.sparse import csr_matrix, hstack\n",
    "from sklearn.metrics.pairwise import cosine_similarity"
   ],
   "outputs": [],
   "execution_count": 1
  },
  {
   "metadata": {
    "ExecuteTime": {
     "end_time": "2025-05-06T16:30:47.548018Z",
     "start_time": "2025-05-06T16:30:47.260480Z"
    }
   },
   "cell_type": "code",
   "source": [
    "# --- Data Loading ---\n",
    "df_wines = pd.read_csv(\"XWines_Slim_1K_wines.csv\")\n",
    "df_ratings = pd.read_csv(\"XWines_Slim_150K_ratings.csv\")"
   ],
   "id": "f6b021db6f3ee5b9",
   "outputs": [
    {
     "name": "stderr",
     "output_type": "stream",
     "text": [
      "C:\\Users\\vince\\AppData\\Local\\Temp\\ipykernel_24436\\2908224310.py:3: DtypeWarning: Columns (3) have mixed types. Specify dtype option on import or set low_memory=False.\n",
      "  df_ratings = pd.read_csv(\"XWines_Slim_150K_ratings.csv\")\n"
     ]
    }
   ],
   "execution_count": 2
  },
  {
   "metadata": {
    "ExecuteTime": {
     "end_time": "2025-05-06T16:30:47.993883Z",
     "start_time": "2025-05-06T16:30:47.964582Z"
    }
   },
   "cell_type": "code",
   "source": "df_wines.head()",
   "id": "b8238228a295713",
   "outputs": [
    {
     "data": {
      "text/plain": [
       "   WineID                         WineName       Type  \\\n",
       "0  100001               Espumante Moscatel  Sparkling   \n",
       "1  100002                       Ancellotta        Red   \n",
       "2  100003               Cabernet Sauvignon        Red   \n",
       "3  100005  Maison de Ville Cabernet-Merlot        Red   \n",
       "4  100007     Do Lugar Moscatel Espumantes  Sparkling   \n",
       "\n",
       "                       Elaborate                            Grapes  \\\n",
       "0                  Varietal/100%                ['Muscat/Moscato']   \n",
       "1                  Varietal/100%                    ['Ancellotta']   \n",
       "2                  Varietal/100%            ['Cabernet Sauvignon']   \n",
       "3  Assemblage/Bordeaux Red Blend  ['Cabernet Sauvignon', 'Merlot']   \n",
       "4                  Varietal/100%         ['Muscat/Moscato Bianco']   \n",
       "\n",
       "                                           Harmonize   ABV           Body  \\\n",
       "0                 ['Pork', 'Rich Fish', 'Shellfish']   7.5  Medium-bodied   \n",
       "1  ['Beef', 'Barbecue', 'Codfish', 'Pasta', 'Pizz...  12.0  Medium-bodied   \n",
       "2                        ['Beef', 'Lamb', 'Poultry']  12.0    Full-bodied   \n",
       "3           ['Beef', 'Lamb', 'Game Meat', 'Poultry']  11.0    Full-bodied   \n",
       "4                 ['Pork', 'Rich Fish', 'Shellfish']   7.5  Medium-bodied   \n",
       "\n",
       "  Acidity Code Country  RegionID    RegionName  WineryID    WineryName  \\\n",
       "0    High   BR  Brazil      1001  Serra Gaúcha     10001   Casa Perini   \n",
       "1  Medium   BR  Brazil      1001  Serra Gaúcha     10001   Casa Perini   \n",
       "2    High   BR  Brazil      1001  Serra Gaúcha     10002  Castellamare   \n",
       "3  Medium   BR  Brazil      1001  Serra Gaúcha     10000        Aurora   \n",
       "4    High   BR  Brazil      1001  Serra Gaúcha     10012    Dal Pizzol   \n",
       "\n",
       "                                  Website  \\\n",
       "0        http://www.vinicolaperini.com.br   \n",
       "1        http://www.vinicolaperini.com.br   \n",
       "2  https://www.emporiocastellamare.com.br   \n",
       "3        http://www.vinicolaaurora.com.br   \n",
       "4             http://www.dalpizzol.com.br   \n",
       "\n",
       "                                            Vintages  \n",
       "0  [2020, 2019, 2018, 2017, 2016, 2015, 2014, 201...  \n",
       "1  [2016, 2015, 2014, 2013, 2012, 2011, 2010, 200...  \n",
       "2  [2021, 2020, 2019, 2018, 2017, 2016, 2015, 201...  \n",
       "3  [2021, 2020, 2019, 2018, 2017, 2016, 2015, 201...  \n",
       "4  [2018, 2017, 2016, 2015, 2014, 2013, 2012, 201...  "
      ],
      "text/html": [
       "<div>\n",
       "<style scoped>\n",
       "    .dataframe tbody tr th:only-of-type {\n",
       "        vertical-align: middle;\n",
       "    }\n",
       "\n",
       "    .dataframe tbody tr th {\n",
       "        vertical-align: top;\n",
       "    }\n",
       "\n",
       "    .dataframe thead th {\n",
       "        text-align: right;\n",
       "    }\n",
       "</style>\n",
       "<table border=\"1\" class=\"dataframe\">\n",
       "  <thead>\n",
       "    <tr style=\"text-align: right;\">\n",
       "      <th></th>\n",
       "      <th>WineID</th>\n",
       "      <th>WineName</th>\n",
       "      <th>Type</th>\n",
       "      <th>Elaborate</th>\n",
       "      <th>Grapes</th>\n",
       "      <th>Harmonize</th>\n",
       "      <th>ABV</th>\n",
       "      <th>Body</th>\n",
       "      <th>Acidity</th>\n",
       "      <th>Code</th>\n",
       "      <th>Country</th>\n",
       "      <th>RegionID</th>\n",
       "      <th>RegionName</th>\n",
       "      <th>WineryID</th>\n",
       "      <th>WineryName</th>\n",
       "      <th>Website</th>\n",
       "      <th>Vintages</th>\n",
       "    </tr>\n",
       "  </thead>\n",
       "  <tbody>\n",
       "    <tr>\n",
       "      <th>0</th>\n",
       "      <td>100001</td>\n",
       "      <td>Espumante Moscatel</td>\n",
       "      <td>Sparkling</td>\n",
       "      <td>Varietal/100%</td>\n",
       "      <td>['Muscat/Moscato']</td>\n",
       "      <td>['Pork', 'Rich Fish', 'Shellfish']</td>\n",
       "      <td>7.5</td>\n",
       "      <td>Medium-bodied</td>\n",
       "      <td>High</td>\n",
       "      <td>BR</td>\n",
       "      <td>Brazil</td>\n",
       "      <td>1001</td>\n",
       "      <td>Serra Gaúcha</td>\n",
       "      <td>10001</td>\n",
       "      <td>Casa Perini</td>\n",
       "      <td>http://www.vinicolaperini.com.br</td>\n",
       "      <td>[2020, 2019, 2018, 2017, 2016, 2015, 2014, 201...</td>\n",
       "    </tr>\n",
       "    <tr>\n",
       "      <th>1</th>\n",
       "      <td>100002</td>\n",
       "      <td>Ancellotta</td>\n",
       "      <td>Red</td>\n",
       "      <td>Varietal/100%</td>\n",
       "      <td>['Ancellotta']</td>\n",
       "      <td>['Beef', 'Barbecue', 'Codfish', 'Pasta', 'Pizz...</td>\n",
       "      <td>12.0</td>\n",
       "      <td>Medium-bodied</td>\n",
       "      <td>Medium</td>\n",
       "      <td>BR</td>\n",
       "      <td>Brazil</td>\n",
       "      <td>1001</td>\n",
       "      <td>Serra Gaúcha</td>\n",
       "      <td>10001</td>\n",
       "      <td>Casa Perini</td>\n",
       "      <td>http://www.vinicolaperini.com.br</td>\n",
       "      <td>[2016, 2015, 2014, 2013, 2012, 2011, 2010, 200...</td>\n",
       "    </tr>\n",
       "    <tr>\n",
       "      <th>2</th>\n",
       "      <td>100003</td>\n",
       "      <td>Cabernet Sauvignon</td>\n",
       "      <td>Red</td>\n",
       "      <td>Varietal/100%</td>\n",
       "      <td>['Cabernet Sauvignon']</td>\n",
       "      <td>['Beef', 'Lamb', 'Poultry']</td>\n",
       "      <td>12.0</td>\n",
       "      <td>Full-bodied</td>\n",
       "      <td>High</td>\n",
       "      <td>BR</td>\n",
       "      <td>Brazil</td>\n",
       "      <td>1001</td>\n",
       "      <td>Serra Gaúcha</td>\n",
       "      <td>10002</td>\n",
       "      <td>Castellamare</td>\n",
       "      <td>https://www.emporiocastellamare.com.br</td>\n",
       "      <td>[2021, 2020, 2019, 2018, 2017, 2016, 2015, 201...</td>\n",
       "    </tr>\n",
       "    <tr>\n",
       "      <th>3</th>\n",
       "      <td>100005</td>\n",
       "      <td>Maison de Ville Cabernet-Merlot</td>\n",
       "      <td>Red</td>\n",
       "      <td>Assemblage/Bordeaux Red Blend</td>\n",
       "      <td>['Cabernet Sauvignon', 'Merlot']</td>\n",
       "      <td>['Beef', 'Lamb', 'Game Meat', 'Poultry']</td>\n",
       "      <td>11.0</td>\n",
       "      <td>Full-bodied</td>\n",
       "      <td>Medium</td>\n",
       "      <td>BR</td>\n",
       "      <td>Brazil</td>\n",
       "      <td>1001</td>\n",
       "      <td>Serra Gaúcha</td>\n",
       "      <td>10000</td>\n",
       "      <td>Aurora</td>\n",
       "      <td>http://www.vinicolaaurora.com.br</td>\n",
       "      <td>[2021, 2020, 2019, 2018, 2017, 2016, 2015, 201...</td>\n",
       "    </tr>\n",
       "    <tr>\n",
       "      <th>4</th>\n",
       "      <td>100007</td>\n",
       "      <td>Do Lugar Moscatel Espumantes</td>\n",
       "      <td>Sparkling</td>\n",
       "      <td>Varietal/100%</td>\n",
       "      <td>['Muscat/Moscato Bianco']</td>\n",
       "      <td>['Pork', 'Rich Fish', 'Shellfish']</td>\n",
       "      <td>7.5</td>\n",
       "      <td>Medium-bodied</td>\n",
       "      <td>High</td>\n",
       "      <td>BR</td>\n",
       "      <td>Brazil</td>\n",
       "      <td>1001</td>\n",
       "      <td>Serra Gaúcha</td>\n",
       "      <td>10012</td>\n",
       "      <td>Dal Pizzol</td>\n",
       "      <td>http://www.dalpizzol.com.br</td>\n",
       "      <td>[2018, 2017, 2016, 2015, 2014, 2013, 2012, 201...</td>\n",
       "    </tr>\n",
       "  </tbody>\n",
       "</table>\n",
       "</div>"
      ]
     },
     "execution_count": 3,
     "metadata": {},
     "output_type": "execute_result"
    }
   ],
   "execution_count": 3
  },
  {
   "metadata": {
    "ExecuteTime": {
     "end_time": "2025-05-06T16:30:48.107137Z",
     "start_time": "2025-05-06T16:30:48.094777Z"
    }
   },
   "cell_type": "code",
   "source": "df_ratings.head()",
   "id": "2cecabc7f519b5ca",
   "outputs": [
    {
     "data": {
      "text/plain": [
       "   RatingID   UserID  WineID Vintage  Rating                 Date\n",
       "0       143  1356810  103471    1950     4.5  2021-11-02 20:52:59\n",
       "1       199  1173759  111415    1951     5.0  2015-08-20 17:46:26\n",
       "2       348  1164877  111395    1952     5.0  2020-11-13 05:40:26\n",
       "3       374  1207665  111433    1953     5.0  2017-05-05 06:44:13\n",
       "4       834  1075841  111431    1955     5.0  2016-09-14 20:18:38"
      ],
      "text/html": [
       "<div>\n",
       "<style scoped>\n",
       "    .dataframe tbody tr th:only-of-type {\n",
       "        vertical-align: middle;\n",
       "    }\n",
       "\n",
       "    .dataframe tbody tr th {\n",
       "        vertical-align: top;\n",
       "    }\n",
       "\n",
       "    .dataframe thead th {\n",
       "        text-align: right;\n",
       "    }\n",
       "</style>\n",
       "<table border=\"1\" class=\"dataframe\">\n",
       "  <thead>\n",
       "    <tr style=\"text-align: right;\">\n",
       "      <th></th>\n",
       "      <th>RatingID</th>\n",
       "      <th>UserID</th>\n",
       "      <th>WineID</th>\n",
       "      <th>Vintage</th>\n",
       "      <th>Rating</th>\n",
       "      <th>Date</th>\n",
       "    </tr>\n",
       "  </thead>\n",
       "  <tbody>\n",
       "    <tr>\n",
       "      <th>0</th>\n",
       "      <td>143</td>\n",
       "      <td>1356810</td>\n",
       "      <td>103471</td>\n",
       "      <td>1950</td>\n",
       "      <td>4.5</td>\n",
       "      <td>2021-11-02 20:52:59</td>\n",
       "    </tr>\n",
       "    <tr>\n",
       "      <th>1</th>\n",
       "      <td>199</td>\n",
       "      <td>1173759</td>\n",
       "      <td>111415</td>\n",
       "      <td>1951</td>\n",
       "      <td>5.0</td>\n",
       "      <td>2015-08-20 17:46:26</td>\n",
       "    </tr>\n",
       "    <tr>\n",
       "      <th>2</th>\n",
       "      <td>348</td>\n",
       "      <td>1164877</td>\n",
       "      <td>111395</td>\n",
       "      <td>1952</td>\n",
       "      <td>5.0</td>\n",
       "      <td>2020-11-13 05:40:26</td>\n",
       "    </tr>\n",
       "    <tr>\n",
       "      <th>3</th>\n",
       "      <td>374</td>\n",
       "      <td>1207665</td>\n",
       "      <td>111433</td>\n",
       "      <td>1953</td>\n",
       "      <td>5.0</td>\n",
       "      <td>2017-05-05 06:44:13</td>\n",
       "    </tr>\n",
       "    <tr>\n",
       "      <th>4</th>\n",
       "      <td>834</td>\n",
       "      <td>1075841</td>\n",
       "      <td>111431</td>\n",
       "      <td>1955</td>\n",
       "      <td>5.0</td>\n",
       "      <td>2016-09-14 20:18:38</td>\n",
       "    </tr>\n",
       "  </tbody>\n",
       "</table>\n",
       "</div>"
      ]
     },
     "execution_count": 4,
     "metadata": {},
     "output_type": "execute_result"
    }
   ],
   "execution_count": 4
  },
  {
   "metadata": {
    "ExecuteTime": {
     "end_time": "2025-05-06T16:30:48.207618Z",
     "start_time": "2025-05-06T16:30:48.202442Z"
    }
   },
   "cell_type": "code",
   "source": [
    "# --- Store Original Wine IDs ---\n",
    "# Keep a separate Series of WineIDs for indexing later\n",
    "wine_ids = df_wines['WineID'].copy()"
   ],
   "id": "2c276ab22db9691e",
   "outputs": [],
   "execution_count": 5
  },
  {
   "metadata": {
    "ExecuteTime": {
     "end_time": "2025-05-06T16:30:48.427258Z",
     "start_time": "2025-05-06T16:30:48.414790Z"
    }
   },
   "cell_type": "code",
   "source": [
    "# --- Create DataFrame for Preference Matching (Before Heavy Transformation) ---\n",
    "# This DataFrame holds data in a more human-readable format, suitable for\n",
    "# matching user preferences expressed as strings (e.g., 'Type': 'red').\n",
    "# Define columns needed for direct preference matching\n",
    "preference_cols_list = ['WineID', 'WineName', 'Type', 'Grapes', 'Body', 'Acidity', 'Country', 'RegionName', 'WineryName', 'Elaborate']\n",
    "# Select only columns that actually exist in the loaded DataFrame\n",
    "valid_preference_cols = [col for col in preference_cols_list if col in df_wines.columns]\n",
    "\n",
    "if 'WineID' in valid_preference_cols: # Ensure WineID exists for indexing\n",
    "    df_for_prefs = df_wines[valid_preference_cols].copy()\n",
    "    # Set WineID as index for easier lookup during preference matching\n",
    "    df_for_prefs.set_index('WineID', inplace=True)\n",
    "    print(f\"Preference DataFrame created with columns: {df_for_prefs.columns.tolist()}\")\n",
    "else:\n",
    "    df_for_prefs = pd.DataFrame() # Empty DataFrame if WineID or other columns are missing\n",
    "    warnings.warn(\"Warning: Could not create preference DataFrame (WineID missing or no suitable columns found). Preference-based cold start might fail.\")"
   ],
   "id": "d2da05c67308a784",
   "outputs": [
    {
     "name": "stdout",
     "output_type": "stream",
     "text": [
      "Preference DataFrame created with columns: ['WineName', 'Type', 'Grapes', 'Body', 'Acidity', 'Country', 'RegionName', 'WineryName', 'Elaborate']\n"
     ]
    }
   ],
   "execution_count": 6
  },
  {
   "metadata": {
    "ExecuteTime": {
     "end_time": "2025-05-06T16:30:48.618291Z",
     "start_time": "2025-05-06T16:30:48.604886Z"
    }
   },
   "cell_type": "code",
   "source": [
    "# --- Text Preprocessing (Lowercase) ---\n",
    "# Columns to convert to lowercase\n",
    "preprocessing = ['WineName', 'Type', 'Elaborate', 'Body', 'Acidity', 'Country', 'RegionName', 'WineryName']\n",
    "for col in preprocessing:\n",
    "    df_wines[col] = df_wines[col].str.lower()"
   ],
   "id": "73335f3f27a4cc4",
   "outputs": [],
   "execution_count": 7
  },
  {
   "metadata": {
    "ExecuteTime": {
     "end_time": "2025-05-06T16:30:48.775195Z",
     "start_time": "2025-05-06T16:30:48.751913Z"
    }
   },
   "cell_type": "code",
   "source": [
    "# --- List-like Column Preprocessing (Grapes, Harmonize) ---\n",
    "preprocessing2 = ['Grapes', 'Harmonize']\n",
    "\n",
    "for col in preprocessing2:\n",
    "    if col in df_wines.columns:\n",
    "        # 1. Fill NaN with empty string FIRST, then ensure string type\n",
    "        #    This prevents np.nan from becoming the string 'nan'\n",
    "        series = df_wines[col].fillna('').astype(str) # <-- Swapped order here\n",
    "\n",
    "        # 2. Remove unwanted characters\n",
    "        series = series.str.replace('[', '', regex=False)\n",
    "        series = series.str.replace(']', '', regex=False)\n",
    "        series = series.str.replace(\"'\", '', regex=False)\n",
    "        series = series.str.replace('/', '', regex=False) # Remove slash\n",
    "\n",
    "        # 3. Split into a Series of lists\n",
    "        series_list = series.str.split(',')\n",
    "\n",
    "        # 4. Clean items WITHIN each list: strip whitespace and lowercase.\n",
    "        #    Handles cases where split might produce items with leading/trailing spaces.\n",
    "        #    Includes a check for `isinstance(item, str)` for safety.\n",
    "        cleaned_series_list = series_list.apply(\n",
    "            lambda lst: [item.strip().lower() for item in lst if isinstance(item, str)] # Apply strip() and lower()\n",
    "            if isinstance(lst, list) else # Check if the element is actually a list\n",
    "            lst # Handle potential non-list elements\n",
    "        )\n",
    "\n",
    "        # 5. Assign back, converting potential [''] resulting from empty strings OR original NaNs to []\n",
    "        df_wines[col] = cleaned_series_list.apply(lambda x: [] if x == [''] else x)\n",
    "\n",
    "    else:\n",
    "         print(f\"Warning: Column '{col}' not found in DataFrame.\")"
   ],
   "id": "72d11eae6d0f6472",
   "outputs": [],
   "execution_count": 8
  },
  {
   "metadata": {
    "ExecuteTime": {
     "end_time": "2025-05-06T16:30:48.871999Z",
     "start_time": "2025-05-06T16:30:48.866218Z"
    }
   },
   "cell_type": "code",
   "source": [
    "# --- Numeric Preprocessing (ABV) ---\n",
    "# Convert ABV to float\n",
    "df_wines['ABV'] = df_wines['ABV'].astype(float)"
   ],
   "id": "eca8a9bb1bbfc549",
   "outputs": [],
   "execution_count": 9
  },
  {
   "metadata": {
    "ExecuteTime": {
     "end_time": "2025-05-06T16:30:48.924797Z",
     "start_time": "2025-05-06T16:30:48.914231Z"
    }
   },
   "cell_type": "code",
   "source": [
    " # Scale ABV using StandardScaler\n",
    "scaler = StandardScaler()\n",
    "df_wines['ABV'] = scaler.fit_transform(df_wines[['ABV']])"
   ],
   "id": "97e1d6e55176abd4",
   "outputs": [],
   "execution_count": 10
  },
  {
   "metadata": {
    "ExecuteTime": {
     "end_time": "2025-05-06T16:30:49.010758Z",
     "start_time": "2025-05-06T16:30:48.995984Z"
    }
   },
   "cell_type": "code",
   "source": [
    "# --- Categorical Preprocessing (One-Hot Encoding) ---\n",
    "categorical_features = ['Type', 'Elaborate', 'Body', 'Acidity', 'Country']\n",
    "df_wines = pd.get_dummies(df_wines, columns=categorical_features)"
   ],
   "id": "3156c7681e71b732",
   "outputs": [],
   "execution_count": 11
  },
  {
   "metadata": {
    "ExecuteTime": {
     "end_time": "2025-05-06T16:30:49.071184Z",
     "start_time": "2025-05-06T16:30:49.047769Z"
    }
   },
   "cell_type": "code",
   "source": [
    "# --- Text Vectorization (TF-IDF for Grapes & Harmonize) ---\n",
    "grapes_text = df_wines['Grapes'].apply(lambda lst: ' '.join(lst))\n",
    "harmonize_text = df_wines['Harmonize'].apply(lambda lst: ' '.join(lst))\n",
    "# Combine the text from both columns into a single corpus for vectorization\n",
    "corpus = grapes_text + ' ' + harmonize_text\n",
    "# Initialize and fit TF-IDF Vectorizer\n",
    "vect = TfidfVectorizer()\n",
    "tfidf_matrix = vect.fit_transform(corpus)\n"
   ],
   "id": "5465626008498578",
   "outputs": [],
   "execution_count": 12
  },
  {
   "metadata": {
    "ExecuteTime": {
     "end_time": "2025-05-06T16:30:49.112591Z",
     "start_time": "2025-05-06T16:30:49.103036Z"
    }
   },
   "cell_type": "code",
   "source": [
    "# --- High-Cardinality Categorical Preprocessing (Feature Hashing for RegionName) ---\n",
    "N_FEATURES_HASH = 16 # Number of hash buckets (dimensionality of the output)\n",
    "# Initialize FeatureHasher\n",
    "# input_type='string' assumes the column contains strings\n",
    "# alternate_sign=False keeps hashed values non-negative (often simpler)\n",
    "hasher = FeatureHasher(n_features=N_FEATURES_HASH, input_type='string', alternate_sign=False)\n",
    "# Prepare input for hasher: needs to be an iterable of iterables (list of lists/tuples)\n",
    "# Each inner list contains the single string feature value for that row.\n",
    "region_feature_values = [[region] for region in df_wines['RegionName']] # [[r1], [r2], ...] \n",
    "# Fit and transform the data\n",
    "hashed_features_sparse = hasher.fit_transform(region_feature_values)\n",
    "\n",
    "# Create new column names for the hashed features\n",
    "hashed_feature_columns = [f'RegionHash_{i}' for i in range(N_FEATURES_HASH)]\n",
    "# Create a DataFrame from the hashed features (sparse matrix converted to dense array)\n",
    "df_hashed_regions = pd.DataFrame(hashed_features_sparse.toarray(),\n",
    "columns=hashed_feature_columns,\n",
    "index=df_wines.index)\n"
   ],
   "id": "891c3a6ab273bedd",
   "outputs": [],
   "execution_count": 13
  },
  {
   "metadata": {
    "ExecuteTime": {
     "end_time": "2025-05-06T16:30:49.160075Z",
     "start_time": "2025-05-06T16:30:49.151616Z"
    }
   },
   "cell_type": "code",
   "source": [
    "# Concatenate the hashed features DataFrame with the main DataFrame\n",
    "df_wines = pd.concat([df_wines.drop(['RegionName'], axis=1), df_hashed_regions], axis=1)"
   ],
   "id": "de2aa8c49fdd5822",
   "outputs": [],
   "execution_count": 14
  },
  {
   "metadata": {
    "ExecuteTime": {
     "end_time": "2025-05-06T16:30:49.208264Z",
     "start_time": "2025-05-06T16:30:49.201587Z"
    }
   },
   "cell_type": "code",
   "source": [
    "# Drop the original RegionName column as it's now represented by hashed features\n",
    "df_wines = df_wines.drop(['WineryName','WineName'], axis=1)"
   ],
   "id": "23bf6e590a9afb72",
   "outputs": [],
   "execution_count": 15
  },
  {
   "metadata": {
    "ExecuteTime": {
     "end_time": "2025-05-06T16:30:49.259881Z",
     "start_time": "2025-05-06T16:30:49.251569Z"
    }
   },
   "cell_type": "code",
   "source": [
    "# --- Combine Features into a Single Sparse Matrix ---\n",
    "from scipy.sparse import csr_matrix\n",
    "non_text_columns = ['ABV'] + [col for col in df_wines.columns if col.startswith('type_')\n",
    "or col.startswith('elaborate_')\n",
    "or col.startswith('body_')\n",
    "or col.startswith('acidity_')\n",
    "or col.startswith('country_')]\n",
    "non_text_columns = [col for col in non_text_columns if col not in hashed_feature_columns]\n",
    "\n",
    "if non_text_columns:\n",
    "    numeric_sparse = csr_matrix(df_wines[non_text_columns].values)\n",
    "else:\n",
    "    numeric_sparse = None\n"
   ],
   "id": "8b8f0069b43ae07a",
   "outputs": [],
   "execution_count": 16
  },
  {
   "metadata": {
    "ExecuteTime": {
     "end_time": "2025-05-06T16:30:49.309968Z",
     "start_time": "2025-05-06T16:30:49.302604Z"
    }
   },
   "cell_type": "code",
   "source": [
    "# Combine all sparse matrices horizontally\n",
    "from scipy.sparse import hstack\n",
    "\n",
    "matrices = []\n",
    "if numeric_sparse is not None:\n",
    "    matrices.append(numeric_sparse)\n",
    "    matrices.append(tfidf_matrix)\n",
    "    matrices.append(hashed_features_sparse)\n",
    "\n",
    "combined_sparse = hstack(matrices)\n",
    "print(\"Combined feature matrix shape:\", combined_sparse.shape)"
   ],
   "id": "cae9b9f720a78913",
   "outputs": [
    {
     "name": "stdout",
     "output_type": "stream",
     "text": [
      "Combined feature matrix shape: (1007, 278)\n"
     ]
    }
   ],
   "execution_count": 17
  },
  {
   "metadata": {
    "ExecuteTime": {
     "end_time": "2025-05-06T16:30:49.369215Z",
     "start_time": "2025-05-06T16:30:49.361289Z"
    }
   },
   "cell_type": "code",
   "source": [
    "# --- Create Embedding DataFrame (Dense Representation) ---\n",
    "# This converts the sparse matrix to a dense numpy array and then to a DataFrame.\n",
    "combined_dense = combined_sparse.toarray()\n",
    "embedding_df = pd.DataFrame(combined_dense, index=wine_ids)\n",
    "embedding_df.index.name = \"WineID\""
   ],
   "id": "b331dc7a7911461a",
   "outputs": [],
   "execution_count": 18
  },
  {
   "metadata": {
    "ExecuteTime": {
     "end_time": "2025-05-06T16:30:49.613835Z",
     "start_time": "2025-05-06T16:30:49.564763Z"
    }
   },
   "cell_type": "code",
   "source": "embedding_df.head()",
   "id": "f4938f7e64d08f24",
   "outputs": [
    {
     "data": {
      "text/plain": [
       "             0    1    2    3    4    5    6    7    8    9    ...  268  269  \\\n",
       "WineID                                                         ...             \n",
       "100001 -1.774251  0.0  0.0  0.0  0.0  0.0  0.0  0.0  0.0  0.0  ...  0.0  0.0   \n",
       "100002 -0.408248  0.0  0.0  0.0  0.0  0.0  0.0  0.0  0.0  0.0  ...  0.0  0.0   \n",
       "100003 -0.408248  0.0  0.0  0.0  0.0  0.0  0.0  0.0  0.0  0.0  ...  0.0  0.0   \n",
       "100005 -0.711804  0.0  0.0  0.0  0.0  0.0  0.0  0.0  0.0  0.0  ...  0.0  0.0   \n",
       "100007 -1.774251  0.0  0.0  0.0  0.0  0.0  0.0  0.0  0.0  0.0  ...  0.0  0.0   \n",
       "\n",
       "        270  271  272  273  274  275  276  277  \n",
       "WineID                                          \n",
       "100001  0.0  0.0  0.0  0.0  0.0  0.0  0.0  0.0  \n",
       "100002  0.0  0.0  0.0  0.0  0.0  0.0  0.0  0.0  \n",
       "100003  0.0  0.0  0.0  0.0  0.0  0.0  0.0  0.0  \n",
       "100005  0.0  0.0  0.0  0.0  0.0  0.0  0.0  0.0  \n",
       "100007  0.0  0.0  0.0  0.0  0.0  0.0  0.0  0.0  \n",
       "\n",
       "[5 rows x 278 columns]"
      ],
      "text/html": [
       "<div>\n",
       "<style scoped>\n",
       "    .dataframe tbody tr th:only-of-type {\n",
       "        vertical-align: middle;\n",
       "    }\n",
       "\n",
       "    .dataframe tbody tr th {\n",
       "        vertical-align: top;\n",
       "    }\n",
       "\n",
       "    .dataframe thead th {\n",
       "        text-align: right;\n",
       "    }\n",
       "</style>\n",
       "<table border=\"1\" class=\"dataframe\">\n",
       "  <thead>\n",
       "    <tr style=\"text-align: right;\">\n",
       "      <th></th>\n",
       "      <th>0</th>\n",
       "      <th>1</th>\n",
       "      <th>2</th>\n",
       "      <th>3</th>\n",
       "      <th>4</th>\n",
       "      <th>5</th>\n",
       "      <th>6</th>\n",
       "      <th>7</th>\n",
       "      <th>8</th>\n",
       "      <th>9</th>\n",
       "      <th>...</th>\n",
       "      <th>268</th>\n",
       "      <th>269</th>\n",
       "      <th>270</th>\n",
       "      <th>271</th>\n",
       "      <th>272</th>\n",
       "      <th>273</th>\n",
       "      <th>274</th>\n",
       "      <th>275</th>\n",
       "      <th>276</th>\n",
       "      <th>277</th>\n",
       "    </tr>\n",
       "    <tr>\n",
       "      <th>WineID</th>\n",
       "      <th></th>\n",
       "      <th></th>\n",
       "      <th></th>\n",
       "      <th></th>\n",
       "      <th></th>\n",
       "      <th></th>\n",
       "      <th></th>\n",
       "      <th></th>\n",
       "      <th></th>\n",
       "      <th></th>\n",
       "      <th></th>\n",
       "      <th></th>\n",
       "      <th></th>\n",
       "      <th></th>\n",
       "      <th></th>\n",
       "      <th></th>\n",
       "      <th></th>\n",
       "      <th></th>\n",
       "      <th></th>\n",
       "      <th></th>\n",
       "      <th></th>\n",
       "    </tr>\n",
       "  </thead>\n",
       "  <tbody>\n",
       "    <tr>\n",
       "      <th>100001</th>\n",
       "      <td>-1.774251</td>\n",
       "      <td>0.0</td>\n",
       "      <td>0.0</td>\n",
       "      <td>0.0</td>\n",
       "      <td>0.0</td>\n",
       "      <td>0.0</td>\n",
       "      <td>0.0</td>\n",
       "      <td>0.0</td>\n",
       "      <td>0.0</td>\n",
       "      <td>0.0</td>\n",
       "      <td>...</td>\n",
       "      <td>0.0</td>\n",
       "      <td>0.0</td>\n",
       "      <td>0.0</td>\n",
       "      <td>0.0</td>\n",
       "      <td>0.0</td>\n",
       "      <td>0.0</td>\n",
       "      <td>0.0</td>\n",
       "      <td>0.0</td>\n",
       "      <td>0.0</td>\n",
       "      <td>0.0</td>\n",
       "    </tr>\n",
       "    <tr>\n",
       "      <th>100002</th>\n",
       "      <td>-0.408248</td>\n",
       "      <td>0.0</td>\n",
       "      <td>0.0</td>\n",
       "      <td>0.0</td>\n",
       "      <td>0.0</td>\n",
       "      <td>0.0</td>\n",
       "      <td>0.0</td>\n",
       "      <td>0.0</td>\n",
       "      <td>0.0</td>\n",
       "      <td>0.0</td>\n",
       "      <td>...</td>\n",
       "      <td>0.0</td>\n",
       "      <td>0.0</td>\n",
       "      <td>0.0</td>\n",
       "      <td>0.0</td>\n",
       "      <td>0.0</td>\n",
       "      <td>0.0</td>\n",
       "      <td>0.0</td>\n",
       "      <td>0.0</td>\n",
       "      <td>0.0</td>\n",
       "      <td>0.0</td>\n",
       "    </tr>\n",
       "    <tr>\n",
       "      <th>100003</th>\n",
       "      <td>-0.408248</td>\n",
       "      <td>0.0</td>\n",
       "      <td>0.0</td>\n",
       "      <td>0.0</td>\n",
       "      <td>0.0</td>\n",
       "      <td>0.0</td>\n",
       "      <td>0.0</td>\n",
       "      <td>0.0</td>\n",
       "      <td>0.0</td>\n",
       "      <td>0.0</td>\n",
       "      <td>...</td>\n",
       "      <td>0.0</td>\n",
       "      <td>0.0</td>\n",
       "      <td>0.0</td>\n",
       "      <td>0.0</td>\n",
       "      <td>0.0</td>\n",
       "      <td>0.0</td>\n",
       "      <td>0.0</td>\n",
       "      <td>0.0</td>\n",
       "      <td>0.0</td>\n",
       "      <td>0.0</td>\n",
       "    </tr>\n",
       "    <tr>\n",
       "      <th>100005</th>\n",
       "      <td>-0.711804</td>\n",
       "      <td>0.0</td>\n",
       "      <td>0.0</td>\n",
       "      <td>0.0</td>\n",
       "      <td>0.0</td>\n",
       "      <td>0.0</td>\n",
       "      <td>0.0</td>\n",
       "      <td>0.0</td>\n",
       "      <td>0.0</td>\n",
       "      <td>0.0</td>\n",
       "      <td>...</td>\n",
       "      <td>0.0</td>\n",
       "      <td>0.0</td>\n",
       "      <td>0.0</td>\n",
       "      <td>0.0</td>\n",
       "      <td>0.0</td>\n",
       "      <td>0.0</td>\n",
       "      <td>0.0</td>\n",
       "      <td>0.0</td>\n",
       "      <td>0.0</td>\n",
       "      <td>0.0</td>\n",
       "    </tr>\n",
       "    <tr>\n",
       "      <th>100007</th>\n",
       "      <td>-1.774251</td>\n",
       "      <td>0.0</td>\n",
       "      <td>0.0</td>\n",
       "      <td>0.0</td>\n",
       "      <td>0.0</td>\n",
       "      <td>0.0</td>\n",
       "      <td>0.0</td>\n",
       "      <td>0.0</td>\n",
       "      <td>0.0</td>\n",
       "      <td>0.0</td>\n",
       "      <td>...</td>\n",
       "      <td>0.0</td>\n",
       "      <td>0.0</td>\n",
       "      <td>0.0</td>\n",
       "      <td>0.0</td>\n",
       "      <td>0.0</td>\n",
       "      <td>0.0</td>\n",
       "      <td>0.0</td>\n",
       "      <td>0.0</td>\n",
       "      <td>0.0</td>\n",
       "      <td>0.0</td>\n",
       "    </tr>\n",
       "  </tbody>\n",
       "</table>\n",
       "<p>5 rows × 278 columns</p>\n",
       "</div>"
      ]
     },
     "execution_count": 19,
     "metadata": {},
     "output_type": "execute_result"
    }
   ],
   "execution_count": 19
  },
  {
   "metadata": {
    "ExecuteTime": {
     "end_time": "2025-05-06T16:30:50.007456Z",
     "start_time": "2025-05-06T16:30:49.977960Z"
    }
   },
   "cell_type": "code",
   "source": [
    "from sklearn.metrics.pairwise import cosine_similarity\n",
    "# --- Calculate Cosine Similarity ---\n",
    "# Calculate similarity between wines based on the combined sparse features.\n",
    "# cosine_similarity calculates row-wise similarities\n",
    "similarity_matrix = cosine_similarity(combined_sparse)"
   ],
   "id": "d55f630f7d4e4d92",
   "outputs": [],
   "execution_count": 20
  },
  {
   "metadata": {
    "ExecuteTime": {
     "end_time": "2025-05-06T16:30:50.464617Z",
     "start_time": "2025-05-06T16:30:50.456314Z"
    }
   },
   "cell_type": "code",
   "source": [
    "# Create a DataFrame from the similarity matrix for easier lookup\n",
    "# Use the original wine_ids for both index and columns\n",
    "similarity_df = pd.DataFrame(similarity_matrix, index=wine_ids, columns=wine_ids)"
   ],
   "id": "bcc51c03941ebb16",
   "outputs": [],
   "execution_count": 21
  },
  {
   "metadata": {
    "ExecuteTime": {
     "end_time": "2025-05-06T16:30:50.573402Z",
     "start_time": "2025-05-06T16:30:50.542020Z"
    }
   },
   "cell_type": "code",
   "source": "similarity_df.head()",
   "id": "59098f82acc7ca33",
   "outputs": [
    {
     "data": {
      "text/plain": [
       "WineID    100001    100002    100003    100005    100007    100008    100010  \\\n",
       "WineID                                                                         \n",
       "100001  1.000000  0.516307  0.516307  0.629946  0.952912  0.285456 -0.108890   \n",
       "100002  0.516307  1.000000  0.555854  0.565764  0.516307  0.488982 -0.027780   \n",
       "100003  0.516307  0.555854  1.000000  0.871542  0.516307  0.951008  0.072776   \n",
       "100005  0.629946  0.565764  0.871542  1.000000  0.629946  0.761955  0.014089   \n",
       "100007  0.952912  0.516307  0.516307  0.629946  1.000000  0.285456 -0.108890   \n",
       "\n",
       "WineID    100012    100013    100014  ...    198580    198885    199204  \\\n",
       "WineID                                ...                                 \n",
       "100001  0.545759 -0.623514 -0.623514  ...  0.081255  0.241784  0.601641   \n",
       "100002  0.189163 -0.208467 -0.208467  ...  0.020476  0.094202  0.543265   \n",
       "100003  0.189163 -0.213585 -0.213585  ...  0.020476  0.101021  0.573418   \n",
       "100005  0.306634 -0.353273 -0.353273  ...  0.033191  0.141283  0.613129   \n",
       "100007  0.542749 -0.623514 -0.623514  ...  0.075553  0.235748  0.587169   \n",
       "\n",
       "WineID    199306    199360    199408    199481    199533    199885    200139  \n",
       "WineID                                                                        \n",
       "100001  0.565256  0.019903  0.012275 -0.108890  0.317677  0.231239  0.057731  \n",
       "100002  0.176538 -0.009229  0.038551 -0.030144  0.066188  0.066188  0.070012  \n",
       "100003  0.196291  0.013615 -0.009229  0.024082  0.104534  0.088385  0.091915  \n",
       "100005  0.299768  0.021178  0.001845  0.031678  0.133691  0.142405  0.082375  \n",
       "100007  0.548891  0.008771  0.002992 -0.108890  0.285907  0.220422  0.057731  \n",
       "\n",
       "[5 rows x 1007 columns]"
      ],
      "text/html": [
       "<div>\n",
       "<style scoped>\n",
       "    .dataframe tbody tr th:only-of-type {\n",
       "        vertical-align: middle;\n",
       "    }\n",
       "\n",
       "    .dataframe tbody tr th {\n",
       "        vertical-align: top;\n",
       "    }\n",
       "\n",
       "    .dataframe thead th {\n",
       "        text-align: right;\n",
       "    }\n",
       "</style>\n",
       "<table border=\"1\" class=\"dataframe\">\n",
       "  <thead>\n",
       "    <tr style=\"text-align: right;\">\n",
       "      <th>WineID</th>\n",
       "      <th>100001</th>\n",
       "      <th>100002</th>\n",
       "      <th>100003</th>\n",
       "      <th>100005</th>\n",
       "      <th>100007</th>\n",
       "      <th>100008</th>\n",
       "      <th>100010</th>\n",
       "      <th>100012</th>\n",
       "      <th>100013</th>\n",
       "      <th>100014</th>\n",
       "      <th>...</th>\n",
       "      <th>198580</th>\n",
       "      <th>198885</th>\n",
       "      <th>199204</th>\n",
       "      <th>199306</th>\n",
       "      <th>199360</th>\n",
       "      <th>199408</th>\n",
       "      <th>199481</th>\n",
       "      <th>199533</th>\n",
       "      <th>199885</th>\n",
       "      <th>200139</th>\n",
       "    </tr>\n",
       "    <tr>\n",
       "      <th>WineID</th>\n",
       "      <th></th>\n",
       "      <th></th>\n",
       "      <th></th>\n",
       "      <th></th>\n",
       "      <th></th>\n",
       "      <th></th>\n",
       "      <th></th>\n",
       "      <th></th>\n",
       "      <th></th>\n",
       "      <th></th>\n",
       "      <th></th>\n",
       "      <th></th>\n",
       "      <th></th>\n",
       "      <th></th>\n",
       "      <th></th>\n",
       "      <th></th>\n",
       "      <th></th>\n",
       "      <th></th>\n",
       "      <th></th>\n",
       "      <th></th>\n",
       "      <th></th>\n",
       "    </tr>\n",
       "  </thead>\n",
       "  <tbody>\n",
       "    <tr>\n",
       "      <th>100001</th>\n",
       "      <td>1.000000</td>\n",
       "      <td>0.516307</td>\n",
       "      <td>0.516307</td>\n",
       "      <td>0.629946</td>\n",
       "      <td>0.952912</td>\n",
       "      <td>0.285456</td>\n",
       "      <td>-0.108890</td>\n",
       "      <td>0.545759</td>\n",
       "      <td>-0.623514</td>\n",
       "      <td>-0.623514</td>\n",
       "      <td>...</td>\n",
       "      <td>0.081255</td>\n",
       "      <td>0.241784</td>\n",
       "      <td>0.601641</td>\n",
       "      <td>0.565256</td>\n",
       "      <td>0.019903</td>\n",
       "      <td>0.012275</td>\n",
       "      <td>-0.108890</td>\n",
       "      <td>0.317677</td>\n",
       "      <td>0.231239</td>\n",
       "      <td>0.057731</td>\n",
       "    </tr>\n",
       "    <tr>\n",
       "      <th>100002</th>\n",
       "      <td>0.516307</td>\n",
       "      <td>1.000000</td>\n",
       "      <td>0.555854</td>\n",
       "      <td>0.565764</td>\n",
       "      <td>0.516307</td>\n",
       "      <td>0.488982</td>\n",
       "      <td>-0.027780</td>\n",
       "      <td>0.189163</td>\n",
       "      <td>-0.208467</td>\n",
       "      <td>-0.208467</td>\n",
       "      <td>...</td>\n",
       "      <td>0.020476</td>\n",
       "      <td>0.094202</td>\n",
       "      <td>0.543265</td>\n",
       "      <td>0.176538</td>\n",
       "      <td>-0.009229</td>\n",
       "      <td>0.038551</td>\n",
       "      <td>-0.030144</td>\n",
       "      <td>0.066188</td>\n",
       "      <td>0.066188</td>\n",
       "      <td>0.070012</td>\n",
       "    </tr>\n",
       "    <tr>\n",
       "      <th>100003</th>\n",
       "      <td>0.516307</td>\n",
       "      <td>0.555854</td>\n",
       "      <td>1.000000</td>\n",
       "      <td>0.871542</td>\n",
       "      <td>0.516307</td>\n",
       "      <td>0.951008</td>\n",
       "      <td>0.072776</td>\n",
       "      <td>0.189163</td>\n",
       "      <td>-0.213585</td>\n",
       "      <td>-0.213585</td>\n",
       "      <td>...</td>\n",
       "      <td>0.020476</td>\n",
       "      <td>0.101021</td>\n",
       "      <td>0.573418</td>\n",
       "      <td>0.196291</td>\n",
       "      <td>0.013615</td>\n",
       "      <td>-0.009229</td>\n",
       "      <td>0.024082</td>\n",
       "      <td>0.104534</td>\n",
       "      <td>0.088385</td>\n",
       "      <td>0.091915</td>\n",
       "    </tr>\n",
       "    <tr>\n",
       "      <th>100005</th>\n",
       "      <td>0.629946</td>\n",
       "      <td>0.565764</td>\n",
       "      <td>0.871542</td>\n",
       "      <td>1.000000</td>\n",
       "      <td>0.629946</td>\n",
       "      <td>0.761955</td>\n",
       "      <td>0.014089</td>\n",
       "      <td>0.306634</td>\n",
       "      <td>-0.353273</td>\n",
       "      <td>-0.353273</td>\n",
       "      <td>...</td>\n",
       "      <td>0.033191</td>\n",
       "      <td>0.141283</td>\n",
       "      <td>0.613129</td>\n",
       "      <td>0.299768</td>\n",
       "      <td>0.021178</td>\n",
       "      <td>0.001845</td>\n",
       "      <td>0.031678</td>\n",
       "      <td>0.133691</td>\n",
       "      <td>0.142405</td>\n",
       "      <td>0.082375</td>\n",
       "    </tr>\n",
       "    <tr>\n",
       "      <th>100007</th>\n",
       "      <td>0.952912</td>\n",
       "      <td>0.516307</td>\n",
       "      <td>0.516307</td>\n",
       "      <td>0.629946</td>\n",
       "      <td>1.000000</td>\n",
       "      <td>0.285456</td>\n",
       "      <td>-0.108890</td>\n",
       "      <td>0.542749</td>\n",
       "      <td>-0.623514</td>\n",
       "      <td>-0.623514</td>\n",
       "      <td>...</td>\n",
       "      <td>0.075553</td>\n",
       "      <td>0.235748</td>\n",
       "      <td>0.587169</td>\n",
       "      <td>0.548891</td>\n",
       "      <td>0.008771</td>\n",
       "      <td>0.002992</td>\n",
       "      <td>-0.108890</td>\n",
       "      <td>0.285907</td>\n",
       "      <td>0.220422</td>\n",
       "      <td>0.057731</td>\n",
       "    </tr>\n",
       "  </tbody>\n",
       "</table>\n",
       "<p>5 rows × 1007 columns</p>\n",
       "</div>"
      ]
     },
     "execution_count": 22,
     "metadata": {},
     "output_type": "execute_result"
    }
   ],
   "execution_count": 22
  },
  {
   "metadata": {
    "ExecuteTime": {
     "end_time": "2025-05-06T16:30:51.422406Z",
     "start_time": "2025-05-06T16:30:51.396813Z"
    }
   },
   "cell_type": "code",
   "source": [
    "# --- Calculate Wine Statistics (for Cold Start) ---\n",
    "wine_stats = pd.DataFrame(columns=['WineID', 'rating_count', 'rating_mean', 'WineName']) # Ensure WineName for popularity\n",
    "MIN_RATINGS_FOR_POPULARITY = 5 # Define a threshold for how many ratings a wine needs to be considered \"popular\"\n",
    "\n",
    "if not df_ratings.empty and 'WineID' in df_ratings.columns and 'Rating' in df_ratings.columns:\n",
    "    wine_stats_temp = df_ratings.groupby('WineID')['Rating'].agg(['count', 'mean']).reset_index()\n",
    "    wine_stats_temp.rename(columns={'count': 'rating_count', 'mean': 'rating_mean'}, inplace=True)\n",
    "\n",
    "    # Add WineName and other context to wine_stats\n",
    "    context_cols_to_merge = ['WineID', 'WineName', 'Type', 'Country'] # Add a few key context\n",
    "    valid_context_cols = [col for col in context_cols_to_merge if col in df_wines.columns]\n",
    "\n",
    "    if 'WineID' in df_wines.columns:\n",
    "         wine_stats = pd.merge(wine_stats_temp, df_wines[valid_context_cols], on='WineID', how='left')\n",
    "         for col in valid_context_cols: # Fill NaNs for context columns\n",
    "             if col != 'WineID' and col in wine_stats.columns and wine_stats[col].isnull().any():\n",
    "                 wine_stats[col].fillna('Unknown', inplace=True)\n",
    "         print(f\"Wine statistics calculated and context merged for {len(wine_stats)} wines.\")\n",
    "    else:\n",
    "        wine_stats = wine_stats_temp # Use without full context if original df is problematic\n",
    "        warnings.warn(\"Warning: 'WineID' not found in original wine data. Wine_stats context might be limited.\")\n",
    "else:\n",
    "    warnings.warn(\"Warning: Ratings data is empty or missing required columns. Cannot calculate wine statistics.\")\n",
    "# print(wine_stats.head())"
   ],
   "id": "d3139c24e5618302",
   "outputs": [
    {
     "name": "stdout",
     "output_type": "stream",
     "text": [
      "Wine statistics calculated and context merged for 1007 wines.\n"
     ]
    }
   ],
   "execution_count": 23
  },
  {
   "metadata": {
    "ExecuteTime": {
     "end_time": "2025-05-06T16:30:51.502038Z",
     "start_time": "2025-05-06T16:30:51.451399Z"
    }
   },
   "cell_type": "code",
   "source": [
    "from sklearn.model_selection import train_test_split\n",
    "\n",
    "# --- Train/Test Split of Ratings Data ---\n",
    " # test_size=0.2 means 20% for testing, 80% for training\n",
    "    # random_state ensures reproducibility\n",
    "    # stratify attempts to keep the proportion of ratings per user similar in both sets,\n",
    "    # which can be important if some users have very few ratings. Can be removed if it causes issues.\n",
    "ratings_train, ratings_test = train_test_split(\n",
    "        df_ratings,\n",
    "        test_size=0.2,\n",
    "        random_state=42,\n",
    "        #stratify=df_ratings['UserID']# Stratify by UserID\n",
    ")"
   ],
   "id": "eedc7006268afeca",
   "outputs": [],
   "execution_count": 24
  },
  {
   "metadata": {
    "ExecuteTime": {
     "end_time": "2025-05-06T16:30:52.142596Z",
     "start_time": "2025-05-06T16:30:52.135784Z"
    }
   },
   "cell_type": "code",
   "source": [
    "# --- Recommendation Functions ---\n",
    "\n",
    "def get_recommendation(target_wine_id, similarity_df, num_recs=5):\n",
    "    \"\"\"\n",
    "    CONTENT-BASED: Gets wines most similar to the target wine.\n",
    "\n",
    "    Args:\n",
    "        target_wine_id: The ID of the wine to find similar items for.\n",
    "        similarity_df: DataFrame containing pairwise wine similarities.\n",
    "        num_recs: The number of recommendations to return.\n",
    "\n",
    "    Returns:\n",
    "        pandas.Series: Series containing similar WineIDs and their similarity scores,\n",
    "                       or an empty Series if the wine or data is not found.\n",
    "    \"\"\"\n",
    "    # Input validation\n",
    "    if similarity_df.empty or target_wine_id not in similarity_df.index:\n",
    "        # warnings.warn(f\"Warning: WineID {target_wine_id} not found in similarity data or similarity data empty.\")\n",
    "        return pd.Series(dtype='float64') # Return empty series\n",
    "\n",
    "    # Get similarity scores for the target wine\n",
    "    sim_scores = similarity_df.loc[target_wine_id]\n",
    "\n",
    "    # Find the top N+1 similar wines (including the target itself)\n",
    "    # Using nlargest is efficient\n",
    "    recs = sim_scores.nlargest(num_recs + 1)\n",
    "\n",
    "    # Exclude the target wine itself from the recommendations\n",
    "    recs = recs[recs.index != target_wine_id]\n",
    "\n",
    "    return recs.head(num_recs)"
   ],
   "id": "604e47dd8ed0fc36",
   "outputs": [],
   "execution_count": 25
  },
  {
   "metadata": {
    "ExecuteTime": {
     "end_time": "2025-05-06T16:30:52.210970Z",
     "start_time": "2025-05-06T16:30:52.197319Z"
    }
   },
   "cell_type": "code",
   "source": [
    "def predict_rating(user_id, target_wine_id, df_ratings_history, similarity_df, k=10):\n",
    "    \"\"\"\n",
    "    CONTENT-BASED: Predicts rating for a user and a target wine based on\n",
    "                   the user's ratings of similar wines found in df_ratings_history.\n",
    "\n",
    "    Args:\n",
    "        user_id: The ID of the user for whom to predict the rating.\n",
    "        target_wine_id: The ID of the wine to predict the rating for.\n",
    "        df_ratings_history: DataFrame containing the user's KNOWN rating history\n",
    "                            (e.g., ratings_train during evaluation).\n",
    "        similarity_df: DataFrame containing pairwise wine similarities.\n",
    "        k: The number of nearest neighbors (similar wines rated by the user) to consider.\n",
    "\n",
    "    Returns:\n",
    "        float or None: The predicted rating, or None if prediction is not possible.\n",
    "    \"\"\"\n",
    "    # --- Input Validation and Data Retrieval ---\n",
    "    if target_wine_id not in similarity_df.columns:\n",
    "        # Fallback: Return user's average rating *from their history* if they exist, else None\n",
    "        user_ratings_check = df_ratings_history.loc[df_ratings_history['UserID'] == user_id, 'Rating']\n",
    "        return user_ratings_check.mean() if not user_ratings_check.empty else None\n",
    "\n",
    "    target_similarities = similarity_df[target_wine_id]\n",
    "\n",
    "    # Use the provided rating history (e.g., training data)\n",
    "    user_ratings = df_ratings_history[df_ratings_history['UserID'] == user_id].set_index('WineID')['Rating']\n",
    "\n",
    "    if user_ratings.empty:\n",
    "        # If user has no history in the provided df (e.g., new user for training set)\n",
    "        # Calculate global average rating *from the provided history* as fallback\n",
    "        # This avoids leaking information from the test set during evaluation.\n",
    "        global_average = df_ratings_history['Rating'].mean()\n",
    "        return global_average if not np.isnan(global_average) else None # Return None if history is empty\n",
    "\n",
    "\n",
    "    # --- Find Relevant Neighbors ---\n",
    "    rated_indices = user_ratings.index.intersection(target_similarities.index)\n",
    "    rated_indices = rated_indices.drop(target_wine_id, errors='ignore')\n",
    "\n",
    "    # Calculate user's average rating *from their history* for fallback\n",
    "    user_average_rating = user_ratings.mean() # Used if no similar items found\n",
    "\n",
    "    if rated_indices.empty:\n",
    "        return user_average_rating # Fallback to user average from history\n",
    "\n",
    "    similarities_of_rated = target_similarities.loc[rated_indices]\n",
    "    positive_similarities = similarities_of_rated[similarities_of_rated > 0]\n",
    "\n",
    "    if positive_similarities.empty:\n",
    "        return user_average_rating # Fallback to user average from history\n",
    "\n",
    "    # --- Calculate Weighted Average ---\n",
    "    actual_k = min(k, len(positive_similarities))\n",
    "    top_k_neighbors = positive_similarities.nlargest(actual_k)\n",
    "    neighbor_ratings = user_ratings.loc[top_k_neighbors.index]\n",
    "    weighted_sum = (top_k_neighbors * neighbor_ratings).sum()\n",
    "    sum_of_weights = top_k_neighbors.sum()\n",
    "\n",
    "    # --- Final Prediction ---\n",
    "    if sum_of_weights == 0:\n",
    "        return user_average_rating # Fallback to user average from history\n",
    "\n",
    "    predicted_rating = weighted_sum / sum_of_weights\n",
    "    return predicted_rating"
   ],
   "id": "2ea9b13f6300c327",
   "outputs": [],
   "execution_count": 26
  },
  {
   "metadata": {
    "ExecuteTime": {
     "end_time": "2025-05-06T16:30:52.360743Z",
     "start_time": "2025-05-06T16:30:52.350591Z"
    }
   },
   "cell_type": "code",
   "source": [
    "def rank_items_using_predict_rating(user_id, candidate_items, df_ratings_history, similarity_df, k=10, num_recs=10):\n",
    "    \"\"\"\n",
    "    Predicts ratings for a list of candidate items for a user (using their known history)\n",
    "    and ranks them.\n",
    "\n",
    "    Args:\n",
    "        user_id: The ID of the user.\n",
    "        candidate_items (list): A list of WineIDs to predict ratings for.\n",
    "        df_ratings_history: DataFrame containing user's KNOWN rating history.\n",
    "        similarity_df: DataFrame containing pairwise wine similarities.\n",
    "        k (int): Number of neighbors for the predict_rating function.\n",
    "        num_recs (int): The maximum number of recommendations to return.\n",
    "\n",
    "    Returns:\n",
    "        pd.DataFrame: DataFrame with 'WineID' and 'predicted_rating' columns, sorted.\n",
    "    \"\"\"\n",
    "    # (No changes needed, but uses history e.g., ratings_train)\n",
    "    predictions = {}\n",
    "    if not candidate_items:\n",
    "        return pd.DataFrame()\n",
    "    # print(f\"  Predicting ratings for {len(candidate_items)} candidate items...\") # Verbose\n",
    "    for wine_id in candidate_items:\n",
    "        # Use the provided rating history for prediction\n",
    "        predicted = predict_rating(user_id, wine_id, df_ratings_history, similarity_df, k=k)\n",
    "        if predicted is not None:\n",
    "            predictions[wine_id] = predicted\n",
    "    if not predictions:\n",
    "        return pd.DataFrame()\n",
    "    sorted_candidates = sorted(predictions.items(), key=lambda item: item[1], reverse=True)\n",
    "    recs_df = pd.DataFrame(sorted_candidates, columns=['WineID', 'predicted_rating']).head(num_recs)\n",
    "    # print(f\"  Ranking complete. Returning top {len(recs_df)} items.\") # Verbose\n",
    "    return recs_df\n"
   ],
   "id": "fc730a3df025dd41",
   "outputs": [],
   "execution_count": 27
  },
  {
   "metadata": {
    "ExecuteTime": {
     "end_time": "2025-05-06T16:30:52.394949Z",
     "start_time": "2025-05-06T16:30:52.383754Z"
    }
   },
   "cell_type": "code",
   "source": [
    "def check_if_user_has_ratings(user_id, df_ratings):\n",
    "    \"\"\"Checks if a user exists and has rated at least one item in the given ratings data.\"\"\"\n",
    "    # (No changes needed, but will be called with ratings_train usually)\n",
    "    if df_ratings is None or df_ratings.empty or 'UserID' not in df_ratings.columns:\n",
    "        return False\n",
    "    return (df_ratings['UserID'] == user_id).any()\n",
    "\n",
    "\n",
    "def find_candidate_items_for_user(user_id, all_wine_ids, df_ratings_history):\n",
    "    \"\"\"\n",
    "    Identifies potential wine candidates for recommendation to a user,\n",
    "    excluding items already present in their known history (df_ratings_history).\n",
    "\n",
    "    Args:\n",
    "        user_id: The ID of the user.\n",
    "        all_wine_ids (iterable): A list or index of all possible WineIDs.\n",
    "        df_ratings_history: DataFrame containing the user's KNOWN rating history.\n",
    "\n",
    "    Returns:\n",
    "        list: A list of WineIDs that the user has not rated in the history.\n",
    "    \"\"\"\n",
    "    # (No changes needed, but uses history e.g., ratings_train)\n",
    "    if df_ratings_history is None or df_ratings_history.empty or 'UserID' not in df_ratings_history.columns or 'WineID' not in df_ratings_history.columns:\n",
    "        return list(all_wine_ids)\n",
    "    rated_by_user = set(df_ratings_history.loc[df_ratings_history['UserID'] == user_id, 'WineID'].unique())\n",
    "    if not rated_by_user:\n",
    "        return list(all_wine_ids)\n",
    "    candidates = [wine_id for wine_id in all_wine_ids if wine_id not in rated_by_user]\n",
    "    return candidates"
   ],
   "id": "9a8911159c1868f8",
   "outputs": [],
   "execution_count": 28
  },
  {
   "metadata": {
    "ExecuteTime": {
     "end_time": "2025-05-06T16:30:52.456612Z",
     "start_time": "2025-05-06T16:30:52.430299Z"
    }
   },
   "cell_type": "code",
   "source": [
    "def recommend_for_user(user_id,\n",
    "                       df_ratings_history,\n",
    "                       similarity_df,\n",
    "                       df_wines_original,\n",
    "                       wine_stats, # Used for popularity\n",
    "                       num_recs=10,\n",
    "                       k_neighbors_pred=15,\n",
    "                       min_ratings_pop=MIN_RATINGS_FOR_POPULARITY # Pass the threshold\n",
    "                       ):\n",
    "    \"\"\"\n",
    "    Generates wine recommendations. Uses personalized for known users,\n",
    "    popularity-based for new users.\n",
    "    \"\"\"\n",
    "    print(f\"\\n--- Generating recommendations for UserID: {user_id} ---\")\n",
    "\n",
    "    if similarity_df is None or similarity_df.empty:\n",
    "         print(\"ERROR: Similarity matrix is missing. Cannot recommend.\")\n",
    "         return pd.DataFrame()\n",
    "    all_wine_ids = similarity_df.index\n",
    "    if not all_wine_ids.any():\n",
    "         print(\"ERROR: No wine IDs in similarity matrix. Cannot recommend.\")\n",
    "         return pd.DataFrame()\n",
    "\n",
    "    user_has_history = check_if_user_has_ratings(user_id, df_ratings_history)\n",
    "    final_recs_df = pd.DataFrame()\n",
    "    reason = \"Unknown\"\n",
    "\n",
    "    if user_has_history:\n",
    "        print(f\"User {user_id} has rating history. Using personalized strategy.\")\n",
    "        reason = 'Personalized Prediction'\n",
    "        candidate_items = find_candidate_items_for_user(user_id, all_wine_ids, df_ratings_history)\n",
    "        if not candidate_items:\n",
    "            print(f\"  User {user_id} has rated all available items. No new recommendations.\")\n",
    "            return pd.DataFrame()\n",
    "\n",
    "        recs_pred = rank_items_using_predict_rating(\n",
    "            user_id, candidate_items, df_ratings_history, similarity_df,\n",
    "            k=k_neighbors_pred, num_recs=num_recs\n",
    "        )\n",
    "        if not recs_pred.empty:\n",
    "            print(f\"  Generated {len(recs_pred)} personalized recommendations.\")\n",
    "            final_recs_df = recs_pred\n",
    "        else:\n",
    "            print(\"  Failed to generate personalized recommendations.\")\n",
    "\n",
    "    else: # Cold User: Implement Popularity Fallback\n",
    "        print(f\"User {user_id} is new or has no history. Using popularity-based cold start.\")\n",
    "        reason = 'Cold Start (Popularity)'\n",
    "        if wine_stats is not None and not wine_stats.empty and \\\n",
    "           'rating_count' in wine_stats.columns and \\\n",
    "           'rating_mean' in wine_stats.columns and \\\n",
    "           'WineID' in wine_stats.columns:\n",
    "\n",
    "            # Filter for wines with a minimum number of ratings\n",
    "            popular_wines = wine_stats[wine_stats['rating_count'] >= min_ratings_pop].copy()\n",
    "\n",
    "            if not popular_wines.empty:\n",
    "                # Sort by mean rating (descending), then by count (descending as tie-breaker)\n",
    "                popular_wines_sorted = popular_wines.sort_values(\n",
    "                    by=['rating_mean', 'rating_count'], ascending=[False, False]\n",
    "                )\n",
    "                # Select top N, ensuring 'WineID' and a score column exist\n",
    "                final_recs_df = popular_wines_sorted[['WineID', 'rating_mean']].head(num_recs)\n",
    "                final_recs_df = final_recs_df.rename(columns={'rating_mean': 'popularity_score'}) # Or 'predicted_rating' for consistency\n",
    "                print(f\"  Generated {len(final_recs_df)} recommendations based on popularity (min {min_ratings_pop} ratings).\")\n",
    "            else:\n",
    "                print(f\"  No wines found meeting the popularity criteria (min {min_ratings_pop} ratings). Trying global top if any stats exist.\")\n",
    "                # Fallback to any wine if the strict criteria yields nothing\n",
    "                if not wine_stats.empty:\n",
    "                    popular_wines_sorted = wine_stats.sort_values(\n",
    "                        by=['rating_mean', 'rating_count'], ascending=[False, False]\n",
    "                    )\n",
    "                    final_recs_df = popular_wines_sorted[['WineID', 'rating_mean']].head(num_recs)\n",
    "                    final_recs_df = final_recs_df.rename(columns={'rating_mean': 'popularity_score'})\n",
    "                    print(f\"  Generated {len(final_recs_df)} recommendations based on global popularity (no min rating count filter).\")\n",
    "                else:\n",
    "                    print(\"  Wine statistics are empty. Cannot generate popularity recommendations.\")\n",
    "        else:\n",
    "            print(\"  Wine statistics are missing or incomplete. Cannot generate popularity recommendations.\")\n",
    "\n",
    "    # --- Final Formatting and Context Addition ---\n",
    "    if not final_recs_df.empty:\n",
    "        final_recs_df['reason'] = reason\n",
    "        # Ensure WineID column for merging context\n",
    "        if 'WineID' not in final_recs_df.columns:\n",
    "            warnings.warn(\"Warning: 'WineID' column missing from recommendations before context merge.\")\n",
    "            return final_recs_df # Return as is, cannot merge\n",
    "\n",
    "        context_cols_to_add = ['WineName', 'Type', 'Country', 'RegionName', 'WineryName']\n",
    "        valid_context_cols = ['WineID'] + [col for col in context_cols_to_add if col in df_wines_original.columns]\n",
    "\n",
    "        if len(valid_context_cols) > 1:\n",
    "             try:\n",
    "                 # Ensure types match for merge\n",
    "                 if df_wines_original['WineID'].dtype != final_recs_df['WineID'].dtype:\n",
    "                    final_recs_df.loc[:, 'WineID'] = final_recs_df['WineID'].astype(df_wines_original['WineID'].dtype)\n",
    "\n",
    "                 final_recs_df = pd.merge(\n",
    "                     final_recs_df,\n",
    "                     df_wines_original[valid_context_cols],\n",
    "                     on='WineID',\n",
    "                     how='left'\n",
    "                 )\n",
    "                 for col in valid_context_cols:\n",
    "                     if col != 'WineID' and col in final_recs_df.columns and final_recs_df[col].isnull().any():\n",
    "                         final_recs_df.loc[:, col] = final_recs_df[col].fillna('Unknown')\n",
    "                 # print(\"  Context added.\") # Less verbose\n",
    "             except Exception as e:\n",
    "                  warnings.warn(f\"Could not merge context: {e}\")\n",
    "        # Reorder columns if WineName exists\n",
    "        first_cols = ['WineID', 'WineName']\n",
    "        if 'WineName' in final_recs_df.columns and 'WineID' in final_recs_df.columns:\n",
    "             ordered_cols = first_cols + [col for col in final_recs_df.columns if col not in first_cols]\n",
    "             final_recs_df = final_recs_df[ordered_cols]\n",
    "    else:\n",
    "        print(\"No recommendations were generated.\")\n",
    "    return final_recs_df"
   ],
   "id": "bdf11368c674ef10",
   "outputs": [],
   "execution_count": 29
  },
  {
   "metadata": {
    "ExecuteTime": {
     "end_time": "2025-05-06T16:30:54.652461Z",
     "start_time": "2025-05-06T16:30:54.646914Z"
    }
   },
   "cell_type": "code",
   "source": [
    "data_ready = True\n",
    "required_dfs = {\n",
    "'df_ratings_train': ratings_train,\n",
    "'df_ratings_test': ratings_test,\n",
    "'similarity_df': similarity_df,\n",
    "'df_for_prefs': df_for_prefs,\n",
    "'wine_stats': wine_stats,\n",
    "'df_wines_original': df_wines\n",
    "}\n",
    "\n"
   ],
   "id": "bdb28a0de0a3f178",
   "outputs": [],
   "execution_count": 30
  },
  {
   "metadata": {
    "ExecuteTime": {
     "end_time": "2025-05-06T16:30:56.011477Z",
     "start_time": "2025-05-06T16:30:55.996508Z"
    }
   },
   "cell_type": "code",
   "source": [
    "   # --- Example 1: Item-to-Item Recommendation (Unaffected by split) ---\n",
    "\n",
    "if not wine_ids.empty:\n",
    "    example_wine_id_item = wine_ids.iloc[0]\n",
    "    print(f\"Finding recommendations similar to WineID: {example_wine_id_item}...\")\n",
    "    recommendations_item = get_recommendation(example_wine_id_item, similarity_df, num_recs=5)\n",
    "    if not recommendations_item.empty:\n",
    "        rec_df_item = recommendations_item.reset_index()\n",
    "        rec_df_item.columns = ['WineID', 'similarity']\n",
    "        rec_df_item = pd.merge(rec_df_item, df_wines[['WineID']], on='WineID', how='left')\n",
    "        print(\"Recommendations:\")\n",
    "        print(rec_df_item)\n",
    "    else:\n",
    "        print(f\"Could not find recommendations for WineID {example_wine_id_item}.\")\n",
    "else:\n",
    "    print(\"Skipping item-to-item example: wine_ids list is empty.\")\n",
    "\n"
   ],
   "id": "9882b3fc8793f655",
   "outputs": [
    {
     "name": "stdout",
     "output_type": "stream",
     "text": [
      "Finding recommendations similar to WineID: 100001...\n",
      "Recommendations:\n",
      "   WineID  similarity\n",
      "0  100073    1.000000\n",
      "1  100061    0.999034\n",
      "2  100007    0.952912\n",
      "3  100088    0.902500\n",
      "4  184497    0.832754\n"
     ]
    }
   ],
   "execution_count": 31
  },
  {
   "metadata": {
    "ExecuteTime": {
     "end_time": "2025-05-06T16:32:33.339404Z",
     "start_time": "2025-05-06T16:32:33.325765Z"
    }
   },
   "cell_type": "code",
   "source": [
    "   # --- Example 1: Item-to-Item (Unaffected by split) ---\n",
    "if not wine_ids.empty and not similarity_df.empty :\n",
    "    example_wine_id_item = wine_ids.iloc[0]\n",
    "    recommendations_item = get_recommendation(example_wine_id_item, similarity_df, num_recs=3)\n",
    "    if not recommendations_item.empty:\n",
    "        rec_df_item = recommendations_item.reset_index(); rec_df_item.columns = ['WineID', 'similarity']\n",
    "        rec_df_item = pd.merge(rec_df_item, df_wines[['WineID']], on='WineID', how='left')\n",
    "        print(rec_df_item)\n",
    "    else: print(f\"No item recommendations for WineID {example_wine_id_item}.\")\n",
    "else: print(\"Skipping item-to-item example (wine_ids or similarity_df missing).\")"
   ],
   "id": "65031411ddce4dd7",
   "outputs": [
    {
     "name": "stdout",
     "output_type": "stream",
     "text": [
      "   WineID  similarity\n",
      "0  100073    1.000000\n",
      "1  100061    0.999034\n",
      "2  100007    0.952912\n"
     ]
    }
   ],
   "execution_count": 33
  },
  {
   "metadata": {
    "ExecuteTime": {
     "end_time": "2025-05-06T16:38:38.374610Z",
     "start_time": "2025-05-06T16:37:47.917352Z"
    }
   },
   "cell_type": "code",
   "source": [
    "from numpy import sqrt\n",
    "from sklearn.metrics import mean_squared_error, mean_absolute_error  # --- Evaluation: Predict Ratings on Test Set ---\n",
    "actual_ratings, predicted_ratings_eval = [], []\n",
    "if not ratings_test.empty and not ratings_train.empty:\n",
    "    for row in ratings_test.itertuples(index=False):\n",
    "        predicted = predict_rating(row.UserID, row.WineID, ratings_train, similarity_df, k=15)\n",
    "        if predicted is not None:\n",
    "            actual_ratings.append(row.Rating)\n",
    "            predicted_ratings_eval.append(predicted)\n",
    "    if actual_ratings:\n",
    "            rmse = sqrt(mean_squared_error(actual_ratings, predicted_ratings_eval))\n",
    "            mse = mean_squared_error(actual_ratings, predicted_ratings_eval)\n",
    "            mae = mean_absolute_error(actual_ratings, predicted_ratings_eval)\n",
    "            print(f\"Test Set RMSE: {rmse:.4f} (evaluated on {len(actual_ratings)} pairs)\")\n",
    "            print(f\"Test Set MSE: {mse:.4f} (evaluated on {len(actual_ratings)} pairs)\")\n",
    "            print(f\"Test Set MAE: {mae:.4f} (evaluated on {len(actual_ratings)} pairs)\")\n",
    "    else: print(\"No predictions made on test set for RMSE.\")\n",
    "else: print(\"Skipping RMSE evaluation (ratings_test or ratings_train empty).\")"
   ],
   "id": "9a38b8b3de17b84e",
   "outputs": [
    {
     "name": "stdout",
     "output_type": "stream",
     "text": [
      "Test Set RMSE: 0.6258 (evaluated on 30000 pairs)\n",
      "Test Set MSE: 0.3917 (evaluated on 30000 pairs)\n",
      "Test Set MAE: 0.4732 (evaluated on 30000 pairs)\n"
     ]
    }
   ],
   "execution_count": 37
  },
  {
   "metadata": {
    "ExecuteTime": {
     "end_time": "2025-05-06T16:34:28.528266Z",
     "start_time": "2025-05-06T16:34:25.428925Z"
    }
   },
   "cell_type": "code",
   "source": [
    "  # --- Example 2: Master Recommender - Existing User (using Training History) ---\n",
    "if not ratings_train.empty:\n",
    "    example_user_id_existing = ratings_train['UserID'].unique()[0]\n",
    "    recs_existing = recommend_for_user(\n",
    "        user_id=example_user_id_existing, df_ratings_history=ratings_train,\n",
    "        similarity_df=similarity_df, df_wines_original=df_wines,\n",
    "            wine_stats=wine_stats, num_recs=3\n",
    "        )\n",
    "    if not recs_existing.empty: print(recs_existing) \n",
    "    else: print(\"No recommendations for existing user.\")\n",
    "else: print(\"Skipping existing user example (ratings_train empty).\")"
   ],
   "id": "ac379e7e07f7540f",
   "outputs": [
    {
     "name": "stdout",
     "output_type": "stream",
     "text": [
      "\n",
      "--- Generating recommendations for UserID: 1149860 ---\n",
      "User 1149860 has rating history. Using personalized strategy.\n",
      "  Generated 3 personalized recommendations.\n",
      "   WineID  predicted_rating                   reason\n",
      "0  141176          4.486825  Personalized Prediction\n",
      "1  179690          4.480614  Personalized Prediction\n",
      "2  180923          4.473372  Personalized Prediction\n"
     ]
    }
   ],
   "execution_count": 36
  },
  {
   "metadata": {
    "ExecuteTime": {
     "end_time": "2025-05-06T16:58:46.810918Z",
     "start_time": "2025-05-06T16:58:46.795395Z"
    }
   },
   "cell_type": "code",
   "source": [
    "# --- Example 3: Master Recommender - New User (No History - Should get Popularity) ---\n",
    "new_user_id_no_hist = 999999 # An ID not in ratings_train\n",
    "recs_new_no_hist = recommend_for_user(\n",
    "    user_id=new_user_id_no_hist, df_ratings_history=ratings_train, # Pass train for history check\n",
    "    similarity_df=similarity_df, df_wines_original=df_wines,\n",
    "    wine_stats=wine_stats, num_recs=3, min_ratings_pop=3 # Use a lower threshold for small dataset\n",
    ")\n",
    "if not recs_new_no_hist.empty:\n",
    "    print(\"\\nRecommendations for New User (Popularity):\")\n",
    "    print(recs_new_no_hist)\n",
    "else:\n",
    "    print(\"Could not generate popularity recommendations for the new user (check wine_stats and thresholds).\")"
   ],
   "id": "7993de3ae6b0e60f",
   "outputs": [
    {
     "name": "stdout",
     "output_type": "stream",
     "text": [
      "\n",
      "--- Generating recommendations for UserID: 999999 ---\n",
      "User 999999 is new or has no history. Using popularity-based cold start.\n",
      "  Generated 3 recommendations based on popularity (min 3 ratings).\n",
      "\n",
      "Recommendations for New User (Popularity):\n",
      "     WineID  popularity_score                   reason\n",
      "831  182711          4.807692  Cold Start (Popularity)\n",
      "481  144337          4.794118  Cold Start (Popularity)\n",
      "819  181199          4.794118  Cold Start (Popularity)\n"
     ]
    }
   ],
   "execution_count": 38
  }
 ],
 "metadata": {
  "kernelspec": {
   "display_name": "Python 3",
   "language": "python",
   "name": "python3"
  },
  "language_info": {
   "codemirror_mode": {
    "name": "ipython",
    "version": 2
   },
   "file_extension": ".py",
   "mimetype": "text/x-python",
   "name": "python",
   "nbconvert_exporter": "python",
   "pygments_lexer": "ipython2",
   "version": "2.7.6"
  }
 },
 "nbformat": 4,
 "nbformat_minor": 5
}
